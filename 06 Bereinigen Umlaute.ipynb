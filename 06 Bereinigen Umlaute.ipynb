{
 "cells": [
  {
   "cell_type": "markdown",
   "metadata": {},
   "source": [
    "## Zuger Handelsregister"
   ]
  },
  {
   "cell_type": "markdown",
   "metadata": {},
   "source": [
    "## Imports"
   ]
  },
  {
   "cell_type": "code",
   "execution_count": 1,
   "metadata": {},
   "outputs": [],
   "source": [
    "import selenium\n",
    "from selenium import webdriver\n",
    "from selenium.webdriver.common.keys import Keys\n",
    "from selenium.webdriver.common.by import By\n",
    "from selenium.webdriver.support.ui import Select\n",
    "import time\n",
    "import pandas as pd\n",
    "from bs4 import BeautifulSoup\n",
    "from tqdm import tqdm\n",
    "import os\n",
    "import re\n",
    "import bs4 as bs\n",
    "import requests\n",
    "folderpath=r\"C:\\Users\\Zoe\\Desktop\\maz-datenjournalismus\\Daten_BR_Handelsreg\""
   ]
  },
  {
   "cell_type": "markdown",
   "metadata": {},
   "source": [
    "# Homepage öffnen, Suchfeld ansteuern"
   ]
  },
  {
   "cell_type": "code",
   "execution_count": null,
   "metadata": {},
   "outputs": [],
   "source": [
    "anzahl_liste=[]\n",
    "path=folderpath+\"/HRSeiten/\"\n",
    "for page in tqdm(os.listdir(path)): #Ich erstelle direkt aus dem Folder eine Liste.\n",
    "    file=open(path+page, 'r')\n",
    "    page=page\n",
    "    text=file.read()\n",
    "    soup=BeautifulSoup(text, 'html.parser')\n",
    "    div_list=soup.find_all(\"div\")\n",
    "    if len(div_list) == 97: #Wenn es keine Firma hat, hat es nur 97 Listen-Punkte\n",
    "        anzahl= str(\"0\") # Ich vermerke, dass es keine Firmen hat\n",
    "        input_list=div_list[50].find_all(\"input\") # Hier der Adressen-Eintrag\n",
    "        adresse_o=input_list[0]\n",
    "        adresse=str(adresse_o) #HIer noch ein Trick, dass er mir die Sache nicht als Liste ausspuckt\n",
    "       \n",
    "    else:\n",
    "        anzahl= div_list[-26].text #Angabe mit Anzahl Firmen auslesen.\n",
    "        input_list_f=div_list[-51].find_all(\"input\") \n",
    "        adresse_f=input_list_f[0]\n",
    "        adresse=str(adresse_f) # hier derselbe Trick wie oben\n",
    "        \n",
    "\n",
    "    minidict_a={\"Seite\":page,\"Anzahl\":anzahl, \"Adresse\":adresse}\n",
    "    anzahl_liste.append(minidict_a)"
   ]
  },
  {
   "cell_type": "code",
   "execution_count": null,
   "metadata": {},
   "outputs": [],
   "source": [
    "# Hier nun die rohe Liste mit den Adressen, Files und Anzahl Firmen.\n",
    "df_adan=pd.DataFrame(anzahl_liste)"
   ]
  },
  {
   "cell_type": "code",
   "execution_count": null,
   "metadata": {
    "scrolled": true
   },
   "outputs": [],
   "source": [
    "df_adan"
   ]
  },
  {
   "cell_type": "code",
   "execution_count": null,
   "metadata": {},
   "outputs": [],
   "source": [
    "pd.set_option('display.max_colwidth', -1)"
   ]
  },
  {
   "cell_type": "code",
   "execution_count": null,
   "metadata": {
    "scrolled": true
   },
   "outputs": [],
   "source": [
    "df_adan[df_adan[\"Adresse\"].str.contains(\"Ã¼\")==True]"
   ]
  },
  {
   "cell_type": "code",
   "execution_count": null,
   "metadata": {},
   "outputs": [],
   "source": [
    "pd.set_option('display.max_colwidth', -1)"
   ]
  },
  {
   "cell_type": "code",
   "execution_count": null,
   "metadata": {},
   "outputs": [],
   "source": [
    "df_adan=pd.read_csv(folderpath+\"/BRFrames/Stadtzug_frontpages_ausgelesen_roh\")"
   ]
  },
  {
   "cell_type": "code",
   "execution_count": null,
   "metadata": {},
   "outputs": [],
   "source": [
    "df_adan"
   ]
  },
  {
   "cell_type": "code",
   "execution_count": null,
   "metadata": {},
   "outputs": [],
   "source": [
    "df_adan[\"Adresse\"]=df_adan[\"Adresse\"].str.replace(\"Ã¼\",\"ü\")"
   ]
  },
  {
   "cell_type": "code",
   "execution_count": null,
   "metadata": {},
   "outputs": [],
   "source": [
    "df_adan[\"Adresse\"]=df_adan[\"Adresse\"].str.replace(\"Ã¶\",\"ö\")"
   ]
  },
  {
   "cell_type": "code",
   "execution_count": null,
   "metadata": {},
   "outputs": [],
   "source": [
    "df_adan[\"Adresse\"]=df_adan[\"Adresse\"].str.replace(\"Ã¤\",\"ä\")"
   ]
  },
  {
   "cell_type": "code",
   "execution_count": null,
   "metadata": {},
   "outputs": [],
   "source": [
    "df_adan"
   ]
  },
  {
   "cell_type": "code",
   "execution_count": null,
   "metadata": {},
   "outputs": [],
   "source": [
    "df_adan[df_adan[\"Seite\"].str.contains(\"6062\")==True]"
   ]
  },
  {
   "cell_type": "code",
   "execution_count": null,
   "metadata": {},
   "outputs": [],
   "source": [
    "df_adan.to_csv(folderpath+\"/BRFrames/Stadtzug_frontpages_ausgelesen_roh\")# abspeichern"
   ]
  },
  {
   "cell_type": "code",
   "execution_count": null,
   "metadata": {},
   "outputs": [],
   "source": [
    "df_st_zug[df_st_zug[\"Seite\"].str.contains(\"6062\")==True]"
   ]
  },
  {
   "cell_type": "markdown",
   "metadata": {},
   "source": [
    "## Zahl und Adresse extrahieren\n",
    "mit Regex vom Rest trennen"
   ]
  },
  {
   "cell_type": "code",
   "execution_count": null,
   "metadata": {
    "scrolled": true
   },
   "outputs": [],
   "source": [
    "df_adan.shape #Ausganglage waren 4690. Offenbar habe ich einige doppelt. egal."
   ]
  },
  {
   "cell_type": "code",
   "execution_count": null,
   "metadata": {},
   "outputs": [],
   "source": [
    "# Hier nun die Formel, um aus allen die Zahl rausziehen zu können\n",
    "df_adan[\"Anzahl\"]=df_adan[\"Anzahl\"].str.extract(\"(\\d+)\")"
   ]
  },
  {
   "cell_type": "code",
   "execution_count": null,
   "metadata": {},
   "outputs": [],
   "source": [
    "# und noch die Adresse\n",
    "df_adan[\"Adresse\"]=df_adan[\"Adresse\"].str.extract(\"value=\\\"(.*)\\\"\")"
   ]
  },
  {
   "cell_type": "code",
   "execution_count": null,
   "metadata": {},
   "outputs": [],
   "source": [
    "df_adan.to_csv(folderpath+\"/BRFrames/StadtZug_extrahiert_unbereinigt\")"
   ]
  },
  {
   "cell_type": "markdown",
   "metadata": {},
   "source": [
    "# Manuell austauschen"
   ]
  },
  {
   "cell_type": "code",
   "execution_count": 2,
   "metadata": {},
   "outputs": [],
   "source": [
    "df_adan1=pd.read_csv(folderpath+\"/BRFrames/StadtZug_extrahiert_unbereinigt\")"
   ]
  },
  {
   "cell_type": "code",
   "execution_count": null,
   "metadata": {},
   "outputs": [],
   "source": [
    "# hier der erste Teil der Gemeinden\n",
    "df_adan1"
   ]
  },
  {
   "cell_type": "code",
   "execution_count": 14,
   "metadata": {
    "scrolled": true
   },
   "outputs": [],
   "source": [
    "df_adan1=pd.read_csv(folderpath+\"/BRFrames/Gemeinden_Teil1_ausgelesen\")"
   ]
  },
  {
   "cell_type": "code",
   "execution_count": null,
   "metadata": {},
   "outputs": [],
   "source": []
  },
  {
   "cell_type": "code",
   "execution_count": 15,
   "metadata": {},
   "outputs": [],
   "source": [
    "df_adan1[\"Adresse\"]=df_adan1[\"Adresse\"].str.replace(\"Ã¼\",\"ü\")\n",
    "df_adan1[\"Adresse\"]=df_adan1[\"Adresse\"].str.replace(\"Ã¶\",\"ö\")\n",
    "df_adan1[\"Adresse\"]=df_adan1[\"Adresse\"].str.replace(\"Ã¤\",\"ä\")\n",
    "df_adan1[\"Adresse\"]=df_adan1[\"Adresse\"].str.replace(\"Ã„\",\"Ä\")\n",
    "df_adan1[\"Adresse\"]=df_adan1[\"Adresse\"].str.replace(\"Ã–\",\"Ö\")\n",
    "df_adan1[\"Adresse\"]=df_adan1[\"Adresse\"].str.replace(\"Ãœ\",\"Ü\")\n"
   ]
  },
  {
   "cell_type": "code",
   "execution_count": 16,
   "metadata": {},
   "outputs": [],
   "source": [
    "df_adan1[\"Adresse\"]=df_adan1[\"Adresse\"].str.replace(\"Ãœ\",\"Ö\")"
   ]
  },
  {
   "cell_type": "code",
   "execution_count": 17,
   "metadata": {},
   "outputs": [],
   "source": [
    "df_adan1[\"Adresse\"]=df_adan1[\"Adresse\"].str.replace(\"Ãœ\",\"ä\")"
   ]
  },
  {
   "cell_type": "code",
   "execution_count": 18,
   "metadata": {},
   "outputs": [],
   "source": [
    "# die Umlaute zu Beginn noch ändern. Da es nur wenig sind, auf die manuelle Art\n",
    "df_adan1[\"Adresse\"]=df_adan1[\"Adresse\"].str.replace(\"Ã„\",\"Ä\")"
   ]
  },
  {
   "cell_type": "code",
   "execution_count": 46,
   "metadata": {},
   "outputs": [
    {
     "data": {
      "text/html": [
       "<div>\n",
       "<style scoped>\n",
       "    .dataframe tbody tr th:only-of-type {\n",
       "        vertical-align: middle;\n",
       "    }\n",
       "\n",
       "    .dataframe tbody tr th {\n",
       "        vertical-align: top;\n",
       "    }\n",
       "\n",
       "    .dataframe thead th {\n",
       "        text-align: right;\n",
       "    }\n",
       "</style>\n",
       "<table border=\"1\" class=\"dataframe\">\n",
       "  <thead>\n",
       "    <tr style=\"text-align: right;\">\n",
       "      <th></th>\n",
       "      <th>Unnamed: 0</th>\n",
       "      <th>Unnamed: 0.1</th>\n",
       "      <th>Seite</th>\n",
       "      <th>Anzahl</th>\n",
       "      <th>Adresse</th>\n",
       "    </tr>\n",
       "  </thead>\n",
       "  <tbody>\n",
       "    <tr>\n",
       "      <td>0</td>\n",
       "      <td>0</td>\n",
       "      <td>0</td>\n",
       "      <td>frontpage0.htm</td>\n",
       "      <td>0</td>\n",
       "      <td>Aabachstrasse 1, Zug</td>\n",
       "    </tr>\n",
       "    <tr>\n",
       "      <td>1</td>\n",
       "      <td>1</td>\n",
       "      <td>1</td>\n",
       "      <td>frontpage1.htm</td>\n",
       "      <td>5</td>\n",
       "      <td>Aabachstrasse 10, Zug</td>\n",
       "    </tr>\n",
       "    <tr>\n",
       "      <td>2</td>\n",
       "      <td>2</td>\n",
       "      <td>2</td>\n",
       "      <td>frontpage10.htm</td>\n",
       "      <td>0</td>\n",
       "      <td>Aabachstrasse 2, Zug</td>\n",
       "    </tr>\n",
       "    <tr>\n",
       "      <td>3</td>\n",
       "      <td>3</td>\n",
       "      <td>3</td>\n",
       "      <td>frontpage100.htm</td>\n",
       "      <td>0</td>\n",
       "      <td>Alte Baarerstrasse 4, Zug</td>\n",
       "    </tr>\n",
       "    <tr>\n",
       "      <td>4</td>\n",
       "      <td>4</td>\n",
       "      <td>4</td>\n",
       "      <td>frontpage1000.htm</td>\n",
       "      <td>0</td>\n",
       "      <td>Chamerstrasse 180.2, Zug</td>\n",
       "    </tr>\n",
       "    <tr>\n",
       "      <td>...</td>\n",
       "      <td>...</td>\n",
       "      <td>...</td>\n",
       "      <td>...</td>\n",
       "      <td>...</td>\n",
       "      <td>...</td>\n",
       "    </tr>\n",
       "    <tr>\n",
       "      <td>5645</td>\n",
       "      <td>5645</td>\n",
       "      <td>5645</td>\n",
       "      <td>frontpage995.htm</td>\n",
       "      <td>18</td>\n",
       "      <td>Chamerstrasse 175, Zug</td>\n",
       "    </tr>\n",
       "    <tr>\n",
       "      <td>5646</td>\n",
       "      <td>5646</td>\n",
       "      <td>5646</td>\n",
       "      <td>frontpage996.htm</td>\n",
       "      <td>90</td>\n",
       "      <td>Chamerstrasse 176, Zug</td>\n",
       "    </tr>\n",
       "    <tr>\n",
       "      <td>5647</td>\n",
       "      <td>5647</td>\n",
       "      <td>5647</td>\n",
       "      <td>frontpage997.htm</td>\n",
       "      <td>0</td>\n",
       "      <td>Chamerstrasse 177, Zug</td>\n",
       "    </tr>\n",
       "    <tr>\n",
       "      <td>5648</td>\n",
       "      <td>5648</td>\n",
       "      <td>5648</td>\n",
       "      <td>frontpage998.htm</td>\n",
       "      <td>10</td>\n",
       "      <td>Chamerstrasse 18, Zug</td>\n",
       "    </tr>\n",
       "    <tr>\n",
       "      <td>5649</td>\n",
       "      <td>5649</td>\n",
       "      <td>5649</td>\n",
       "      <td>frontpage999.htm</td>\n",
       "      <td>0</td>\n",
       "      <td>Chamerstrasse 18.1, Zug</td>\n",
       "    </tr>\n",
       "  </tbody>\n",
       "</table>\n",
       "<p>4690 rows × 5 columns</p>\n",
       "</div>"
      ],
      "text/plain": [
       "      Unnamed: 0  Unnamed: 0.1              Seite  Anzahl  \\\n",
       "0              0             0     frontpage0.htm       0   \n",
       "1              1             1     frontpage1.htm       5   \n",
       "2              2             2    frontpage10.htm       0   \n",
       "3              3             3   frontpage100.htm       0   \n",
       "4              4             4  frontpage1000.htm       0   \n",
       "...          ...           ...                ...     ...   \n",
       "5645        5645          5645   frontpage995.htm      18   \n",
       "5646        5646          5646   frontpage996.htm      90   \n",
       "5647        5647          5647   frontpage997.htm       0   \n",
       "5648        5648          5648   frontpage998.htm      10   \n",
       "5649        5649          5649   frontpage999.htm       0   \n",
       "\n",
       "                        Adresse  \n",
       "0          Aabachstrasse 1, Zug  \n",
       "1         Aabachstrasse 10, Zug  \n",
       "2          Aabachstrasse 2, Zug  \n",
       "3     Alte Baarerstrasse 4, Zug  \n",
       "4      Chamerstrasse 180.2, Zug  \n",
       "...                         ...  \n",
       "5645     Chamerstrasse 175, Zug  \n",
       "5646     Chamerstrasse 176, Zug  \n",
       "5647     Chamerstrasse 177, Zug  \n",
       "5648      Chamerstrasse 18, Zug  \n",
       "5649    Chamerstrasse 18.1, Zug  \n",
       "\n",
       "[4690 rows x 5 columns]"
      ]
     },
     "execution_count": 46,
     "metadata": {},
     "output_type": "execute_result"
    }
   ],
   "source": [
    "df_adan1"
   ]
  },
  {
   "cell_type": "code",
   "execution_count": 47,
   "metadata": {},
   "outputs": [
    {
     "ename": "TypeError",
     "evalue": "contains() missing 1 required positional argument: 'pat'",
     "output_type": "error",
     "traceback": [
      "\u001b[1;31m---------------------------------------------------------------------------\u001b[0m",
      "\u001b[1;31mTypeError\u001b[0m                                 Traceback (most recent call last)",
      "\u001b[1;32m<ipython-input-47-0af7af8554a6>\u001b[0m in \u001b[0;36m<module>\u001b[1;34m\u001b[0m\n\u001b[1;32m----> 1\u001b[1;33m \u001b[0mdf_adan1\u001b[0m\u001b[1;33m[\u001b[0m\u001b[0mdf_adan1\u001b[0m\u001b[1;33m[\u001b[0m\u001b[1;34m\"Adresse\"\u001b[0m\u001b[1;33m]\u001b[0m\u001b[1;33m.\u001b[0m\u001b[0mstr\u001b[0m\u001b[1;33m.\u001b[0m\u001b[0mcontains\u001b[0m\u001b[1;33m(\u001b[0m\u001b[1;33m)\u001b[0m\u001b[1;33m==\u001b[0m\u001b[1;32mTrue\u001b[0m\u001b[1;33m]\u001b[0m\u001b[1;33m\u001b[0m\u001b[1;33m\u001b[0m\u001b[0m\n\u001b[0m",
      "\u001b[1;32m~\\Anaconda3\\lib\\site-packages\\pandas\\core\\strings.py\u001b[0m in \u001b[0;36mwrapper\u001b[1;34m(self, *args, **kwargs)\u001b[0m\n\u001b[0;32m   1841\u001b[0m                 )\n\u001b[0;32m   1842\u001b[0m                 \u001b[1;32mraise\u001b[0m \u001b[0mTypeError\u001b[0m\u001b[1;33m(\u001b[0m\u001b[0mmsg\u001b[0m\u001b[1;33m)\u001b[0m\u001b[1;33m\u001b[0m\u001b[1;33m\u001b[0m\u001b[0m\n\u001b[1;32m-> 1843\u001b[1;33m             \u001b[1;32mreturn\u001b[0m \u001b[0mfunc\u001b[0m\u001b[1;33m(\u001b[0m\u001b[0mself\u001b[0m\u001b[1;33m,\u001b[0m \u001b[1;33m*\u001b[0m\u001b[0margs\u001b[0m\u001b[1;33m,\u001b[0m \u001b[1;33m**\u001b[0m\u001b[0mkwargs\u001b[0m\u001b[1;33m)\u001b[0m\u001b[1;33m\u001b[0m\u001b[1;33m\u001b[0m\u001b[0m\n\u001b[0m\u001b[0;32m   1844\u001b[0m \u001b[1;33m\u001b[0m\u001b[0m\n\u001b[0;32m   1845\u001b[0m         \u001b[0mwrapper\u001b[0m\u001b[1;33m.\u001b[0m\u001b[0m__name__\u001b[0m \u001b[1;33m=\u001b[0m \u001b[0mfunc_name\u001b[0m\u001b[1;33m\u001b[0m\u001b[1;33m\u001b[0m\u001b[0m\n",
      "\u001b[1;31mTypeError\u001b[0m: contains() missing 1 required positional argument: 'pat'"
     ]
    }
   ],
   "source": [
    "df_adan1[df_adan1[\"Adresse\"].str.contains(\"\")==True]"
   ]
  },
  {
   "cell_type": "code",
   "execution_count": 19,
   "metadata": {},
   "outputs": [],
   "source": [
    "df_adan1.drop_duplicates(\"Adresse\", inplace=True)"
   ]
  },
  {
   "cell_type": "code",
   "execution_count": 20,
   "metadata": {
    "scrolled": true
   },
   "outputs": [
    {
     "data": {
      "text/html": [
       "<div>\n",
       "<style scoped>\n",
       "    .dataframe tbody tr th:only-of-type {\n",
       "        vertical-align: middle;\n",
       "    }\n",
       "\n",
       "    .dataframe tbody tr th {\n",
       "        vertical-align: top;\n",
       "    }\n",
       "\n",
       "    .dataframe thead th {\n",
       "        text-align: right;\n",
       "    }\n",
       "</style>\n",
       "<table border=\"1\" class=\"dataframe\">\n",
       "  <thead>\n",
       "    <tr style=\"text-align: right;\">\n",
       "      <th></th>\n",
       "      <th>Unnamed: 0</th>\n",
       "      <th>Unnamed: 0.1</th>\n",
       "      <th>Seite</th>\n",
       "      <th>Anzahl</th>\n",
       "      <th>Adresse</th>\n",
       "    </tr>\n",
       "  </thead>\n",
       "  <tbody>\n",
       "    <tr>\n",
       "      <td>0</td>\n",
       "      <td>5707</td>\n",
       "      <td>8397</td>\n",
       "      <td>frontpage8_1274.htm</td>\n",
       "      <td>9</td>\n",
       "      <td>Dorfstrasse 86a, Hagendorn</td>\n",
       "    </tr>\n",
       "    <tr>\n",
       "      <td>1</td>\n",
       "      <td>3509</td>\n",
       "      <td>5090</td>\n",
       "      <td>frontpage2_964.htm</td>\n",
       "      <td>9</td>\n",
       "      <td>Ruessenstrasse 18, Baar</td>\n",
       "    </tr>\n",
       "    <tr>\n",
       "      <td>2</td>\n",
       "      <td>4279</td>\n",
       "      <td>5972</td>\n",
       "      <td>frontpage3_768.htm</td>\n",
       "      <td>9</td>\n",
       "      <td>Oberdorfstrasse 11, Baar</td>\n",
       "    </tr>\n",
       "    <tr>\n",
       "      <td>3</td>\n",
       "      <td>152</td>\n",
       "      <td>152</td>\n",
       "      <td>frontpage0_234.htm</td>\n",
       "      <td>9</td>\n",
       "      <td>Zugerstrasse 69, Baar</td>\n",
       "    </tr>\n",
       "    <tr>\n",
       "      <td>4</td>\n",
       "      <td>5839</td>\n",
       "      <td>8624</td>\n",
       "      <td>frontpage8_1501.htm</td>\n",
       "      <td>9</td>\n",
       "      <td>Zugerstrasse 116, Cham</td>\n",
       "    </tr>\n",
       "    <tr>\n",
       "      <td>...</td>\n",
       "      <td>...</td>\n",
       "      <td>...</td>\n",
       "      <td>...</td>\n",
       "      <td>...</td>\n",
       "      <td>...</td>\n",
       "    </tr>\n",
       "    <tr>\n",
       "      <td>6114</td>\n",
       "      <td>2202</td>\n",
       "      <td>3354</td>\n",
       "      <td>frontpage14_168.htm</td>\n",
       "      <td>0</td>\n",
       "      <td>Windenweg 5, Neuheim</td>\n",
       "    </tr>\n",
       "    <tr>\n",
       "      <td>6115</td>\n",
       "      <td>2201</td>\n",
       "      <td>3343</td>\n",
       "      <td>frontpage14_167.htm</td>\n",
       "      <td>0</td>\n",
       "      <td>Windenweg 3, Neuheim</td>\n",
       "    </tr>\n",
       "    <tr>\n",
       "      <td>6116</td>\n",
       "      <td>2200</td>\n",
       "      <td>3332</td>\n",
       "      <td>frontpage14_166.htm</td>\n",
       "      <td>0</td>\n",
       "      <td>Windenboden 37, Neuheim</td>\n",
       "    </tr>\n",
       "    <tr>\n",
       "      <td>6117</td>\n",
       "      <td>2199</td>\n",
       "      <td>3323</td>\n",
       "      <td>frontpage14_1651.htm</td>\n",
       "      <td>0</td>\n",
       "      <td>Breiten 4, Oberägeri</td>\n",
       "    </tr>\n",
       "    <tr>\n",
       "      <td>6118</td>\n",
       "      <td>6119</td>\n",
       "      <td>9173</td>\n",
       "      <td>frontpage9_2039.htm</td>\n",
       "      <td>0</td>\n",
       "      <td>Rebenweg 1, Hünenberg</td>\n",
       "    </tr>\n",
       "  </tbody>\n",
       "</table>\n",
       "<p>6095 rows × 5 columns</p>\n",
       "</div>"
      ],
      "text/plain": [
       "      Unnamed: 0  Unnamed: 0.1                 Seite  Anzahl  \\\n",
       "0           5707          8397   frontpage8_1274.htm       9   \n",
       "1           3509          5090    frontpage2_964.htm       9   \n",
       "2           4279          5972    frontpage3_768.htm       9   \n",
       "3            152           152    frontpage0_234.htm       9   \n",
       "4           5839          8624   frontpage8_1501.htm       9   \n",
       "...          ...           ...                   ...     ...   \n",
       "6114        2202          3354   frontpage14_168.htm       0   \n",
       "6115        2201          3343   frontpage14_167.htm       0   \n",
       "6116        2200          3332   frontpage14_166.htm       0   \n",
       "6117        2199          3323  frontpage14_1651.htm       0   \n",
       "6118        6119          9173   frontpage9_2039.htm       0   \n",
       "\n",
       "                         Adresse  \n",
       "0     Dorfstrasse 86a, Hagendorn  \n",
       "1        Ruessenstrasse 18, Baar  \n",
       "2       Oberdorfstrasse 11, Baar  \n",
       "3          Zugerstrasse 69, Baar  \n",
       "4         Zugerstrasse 116, Cham  \n",
       "...                          ...  \n",
       "6114        Windenweg 5, Neuheim  \n",
       "6115        Windenweg 3, Neuheim  \n",
       "6116     Windenboden 37, Neuheim  \n",
       "6117        Breiten 4, Oberägeri  \n",
       "6118       Rebenweg 1, Hünenberg  \n",
       "\n",
       "[6095 rows x 5 columns]"
      ]
     },
     "execution_count": 20,
     "metadata": {},
     "output_type": "execute_result"
    }
   ],
   "source": [
    "df_adan1"
   ]
  },
  {
   "cell_type": "code",
   "execution_count": 21,
   "metadata": {},
   "outputs": [],
   "source": [
    "df_adan1.to_csv(folderpath+\"/BRFrames/Gemeinden_Teil1_umlautbereinigt_doppelteweg\")"
   ]
  },
  {
   "cell_type": "markdown",
   "metadata": {},
   "source": [
    "# Abgleichen von Adress-Frame und Scrape-Frame\n",
    "Sind alle Adressen runtergezogen "
   ]
  },
  {
   "cell_type": "code",
   "execution_count": 22,
   "metadata": {},
   "outputs": [],
   "source": [
    "df_gem1=pd.read_csv(folderpath+\"/BRFrames/Gemeinden_Teil1_umlautbereinigt_doppelteweg\")"
   ]
  },
  {
   "cell_type": "code",
   "execution_count": 23,
   "metadata": {},
   "outputs": [],
   "source": [
    "df_ad_gem=pd.read_csv(folderpath+\"/BRFrames/Alle_Adressen_ohne_Stadt\")"
   ]
  },
  {
   "cell_type": "code",
   "execution_count": 24,
   "metadata": {},
   "outputs": [],
   "source": [
    "df_ad_gem1=df_ad_gem.iloc[:7000,:]"
   ]
  },
  {
   "cell_type": "code",
   "execution_count": 25,
   "metadata": {},
   "outputs": [],
   "source": [
    "df_abgleich_gem1=pd.merge(df_ad_gem1, df_gem1, on=\"Adresse\", how=\"outer\") "
   ]
  },
  {
   "cell_type": "code",
   "execution_count": 27,
   "metadata": {},
   "outputs": [],
   "source": [
    "df_abgleich_gem1.drop_duplicates(\"Adresse\", inplace=True)# Doppelte Einträge löschen"
   ]
  },
  {
   "cell_type": "code",
   "execution_count": 31,
   "metadata": {},
   "outputs": [],
   "source": [
    "df_fehlende_gem1=df_abgleich_gem1[df_abgleich_gem1[\"Seite\"].notnull()==False] "
   ]
  },
  {
   "cell_type": "code",
   "execution_count": 32,
   "metadata": {},
   "outputs": [],
   "source": [
    "df_fehlende_gem1.to_csv(folderpath+\"/BRFrames/Gemeineden_Teil1_fehlende_Adressen\")"
   ]
  },
  {
   "cell_type": "code",
   "execution_count": 16,
   "metadata": {},
   "outputs": [],
   "source": [
    "df_st_zug=pd.read_csv(folderpath+\"/BRFrames/adresse_Zug\") # die ursprünglichen Adressen der Stadt Zug"
   ]
  },
  {
   "cell_type": "code",
   "execution_count": 17,
   "metadata": {},
   "outputs": [
    {
     "data": {
      "text/plain": [
       "(4690, 15)"
      ]
     },
     "execution_count": 17,
     "metadata": {},
     "output_type": "execute_result"
    }
   ],
   "source": [
    "df_st_zug.shape"
   ]
  },
  {
   "cell_type": "code",
   "execution_count": null,
   "metadata": {},
   "outputs": [],
   "source": [
    "#df_st_zug[df_st_zug[\"Adresse\"].str.contains(\"Ammannsmatt\")==True]"
   ]
  },
  {
   "cell_type": "code",
   "execution_count": 10,
   "metadata": {},
   "outputs": [
    {
     "ename": "NameError",
     "evalue": "name 'df_st_zug' is not defined",
     "output_type": "error",
     "traceback": [
      "\u001b[1;31m---------------------------------------------------------------------------\u001b[0m",
      "\u001b[1;31mNameError\u001b[0m                                 Traceback (most recent call last)",
      "\u001b[1;32m<ipython-input-10-80133aabb591>\u001b[0m in \u001b[0;36m<module>\u001b[1;34m\u001b[0m\n\u001b[0;32m      1\u001b[0m \u001b[1;31m# so zusammenführen dass auch die fehlenden Daten sichtbar werden\u001b[0m\u001b[1;33m\u001b[0m\u001b[1;33m\u001b[0m\u001b[1;33m\u001b[0m\u001b[0m\n\u001b[1;32m----> 2\u001b[1;33m \u001b[0mdf_abgleich\u001b[0m\u001b[1;33m=\u001b[0m\u001b[0mpd\u001b[0m\u001b[1;33m.\u001b[0m\u001b[0mmerge\u001b[0m\u001b[1;33m(\u001b[0m\u001b[0mdf_adan1\u001b[0m\u001b[1;33m,\u001b[0m \u001b[0mdf_st_zug\u001b[0m\u001b[1;33m,\u001b[0m \u001b[0mon\u001b[0m\u001b[1;33m=\u001b[0m\u001b[1;34m\"Adresse\"\u001b[0m\u001b[1;33m,\u001b[0m \u001b[0mhow\u001b[0m\u001b[1;33m=\u001b[0m\u001b[1;34m\"outer\"\u001b[0m\u001b[1;33m)\u001b[0m\u001b[1;33m\u001b[0m\u001b[1;33m\u001b[0m\u001b[0m\n\u001b[0m",
      "\u001b[1;31mNameError\u001b[0m: name 'df_st_zug' is not defined"
     ]
    }
   ],
   "source": [
    "# so zusammenführen dass auch die fehlenden Daten sichtbar werden\n",
    "df_abgleich=pd.merge(df_adan1, df_st_zug, on=\"Adresse\", how=\"outer\") "
   ]
  },
  {
   "cell_type": "code",
   "execution_count": 52,
   "metadata": {},
   "outputs": [
    {
     "data": {
      "text/html": [
       "<div>\n",
       "<style scoped>\n",
       "    .dataframe tbody tr th:only-of-type {\n",
       "        vertical-align: middle;\n",
       "    }\n",
       "\n",
       "    .dataframe tbody tr th {\n",
       "        vertical-align: top;\n",
       "    }\n",
       "\n",
       "    .dataframe thead th {\n",
       "        text-align: right;\n",
       "    }\n",
       "</style>\n",
       "<table border=\"1\" class=\"dataframe\">\n",
       "  <thead>\n",
       "    <tr style=\"text-align: right;\">\n",
       "      <th></th>\n",
       "      <th>Unnamed: 0_x</th>\n",
       "      <th>Unnamed: 0.1</th>\n",
       "      <th>Seite</th>\n",
       "      <th>Anzahl</th>\n",
       "      <th>Adresse</th>\n",
       "      <th>Unnamed: 0_y</th>\n",
       "      <th>EGID</th>\n",
       "      <th>EDID</th>\n",
       "      <th>GDEKT</th>\n",
       "      <th>GDENR</th>\n",
       "      <th>GDENAME</th>\n",
       "      <th>STRNAME</th>\n",
       "      <th>DEINR</th>\n",
       "      <th>PLZ4</th>\n",
       "      <th>PLZZ</th>\n",
       "      <th>PLZNAME</th>\n",
       "      <th>GKODE</th>\n",
       "      <th>GKODN</th>\n",
       "      <th>STRSP</th>\n",
       "    </tr>\n",
       "  </thead>\n",
       "  <tbody>\n",
       "    <tr>\n",
       "      <td>0</td>\n",
       "      <td>0</td>\n",
       "      <td>0</td>\n",
       "      <td>frontpage0.htm</td>\n",
       "      <td>0</td>\n",
       "      <td>Aabachstrasse 1, Zug</td>\n",
       "      <td>3464</td>\n",
       "      <td>190988543</td>\n",
       "      <td>0</td>\n",
       "      <td>ZG</td>\n",
       "      <td>1711</td>\n",
       "      <td>Zug</td>\n",
       "      <td>Aabachstrasse</td>\n",
       "      <td>1</td>\n",
       "      <td>6300</td>\n",
       "      <td>0</td>\n",
       "      <td>Zug</td>\n",
       "      <td>2681243.278</td>\n",
       "      <td>1225319.466</td>\n",
       "      <td>de</td>\n",
       "    </tr>\n",
       "    <tr>\n",
       "      <td>1</td>\n",
       "      <td>1</td>\n",
       "      <td>1</td>\n",
       "      <td>frontpage1.htm</td>\n",
       "      <td>5</td>\n",
       "      <td>Aabachstrasse 10, Zug</td>\n",
       "      <td>3369</td>\n",
       "      <td>190564448</td>\n",
       "      <td>0</td>\n",
       "      <td>ZG</td>\n",
       "      <td>1711</td>\n",
       "      <td>Zug</td>\n",
       "      <td>Aabachstrasse</td>\n",
       "      <td>10</td>\n",
       "      <td>6300</td>\n",
       "      <td>0</td>\n",
       "      <td>Zug</td>\n",
       "      <td>2681328.366</td>\n",
       "      <td>1225274.400</td>\n",
       "      <td>de</td>\n",
       "    </tr>\n",
       "    <tr>\n",
       "      <td>2</td>\n",
       "      <td>2</td>\n",
       "      <td>2</td>\n",
       "      <td>frontpage10.htm</td>\n",
       "      <td>0</td>\n",
       "      <td>Aabachstrasse 2, Zug</td>\n",
       "      <td>1430</td>\n",
       "      <td>321148</td>\n",
       "      <td>0</td>\n",
       "      <td>ZG</td>\n",
       "      <td>1711</td>\n",
       "      <td>Zug</td>\n",
       "      <td>Aabachstrasse</td>\n",
       "      <td>2</td>\n",
       "      <td>6300</td>\n",
       "      <td>0</td>\n",
       "      <td>Zug</td>\n",
       "      <td>2681294.530</td>\n",
       "      <td>1225154.193</td>\n",
       "      <td>de</td>\n",
       "    </tr>\n",
       "    <tr>\n",
       "      <td>3</td>\n",
       "      <td>3</td>\n",
       "      <td>3</td>\n",
       "      <td>frontpage100.htm</td>\n",
       "      <td>0</td>\n",
       "      <td>Alte Baarerstrasse 4, Zug</td>\n",
       "      <td>1203</td>\n",
       "      <td>320895</td>\n",
       "      <td>0</td>\n",
       "      <td>ZG</td>\n",
       "      <td>1711</td>\n",
       "      <td>Zug</td>\n",
       "      <td>Alte Baarerstrasse</td>\n",
       "      <td>4</td>\n",
       "      <td>6300</td>\n",
       "      <td>0</td>\n",
       "      <td>Zug</td>\n",
       "      <td>2682278.228</td>\n",
       "      <td>1225122.918</td>\n",
       "      <td>de</td>\n",
       "    </tr>\n",
       "    <tr>\n",
       "      <td>4</td>\n",
       "      <td>4</td>\n",
       "      <td>4</td>\n",
       "      <td>frontpage1000.htm</td>\n",
       "      <td>0</td>\n",
       "      <td>Chamerstrasse 180.2, Zug</td>\n",
       "      <td>4077</td>\n",
       "      <td>191775911</td>\n",
       "      <td>0</td>\n",
       "      <td>ZG</td>\n",
       "      <td>1711</td>\n",
       "      <td>Zug</td>\n",
       "      <td>Chamerstrasse</td>\n",
       "      <td>180.2</td>\n",
       "      <td>6300</td>\n",
       "      <td>0</td>\n",
       "      <td>Zug</td>\n",
       "      <td>2678903.909</td>\n",
       "      <td>1226520.613</td>\n",
       "      <td>de</td>\n",
       "    </tr>\n",
       "    <tr>\n",
       "      <td>...</td>\n",
       "      <td>...</td>\n",
       "      <td>...</td>\n",
       "      <td>...</td>\n",
       "      <td>...</td>\n",
       "      <td>...</td>\n",
       "      <td>...</td>\n",
       "      <td>...</td>\n",
       "      <td>...</td>\n",
       "      <td>...</td>\n",
       "      <td>...</td>\n",
       "      <td>...</td>\n",
       "      <td>...</td>\n",
       "      <td>...</td>\n",
       "      <td>...</td>\n",
       "      <td>...</td>\n",
       "      <td>...</td>\n",
       "      <td>...</td>\n",
       "      <td>...</td>\n",
       "      <td>...</td>\n",
       "    </tr>\n",
       "    <tr>\n",
       "      <td>4685</td>\n",
       "      <td>5645</td>\n",
       "      <td>5645</td>\n",
       "      <td>frontpage995.htm</td>\n",
       "      <td>18</td>\n",
       "      <td>Chamerstrasse 175, Zug</td>\n",
       "      <td>2928</td>\n",
       "      <td>160009603</td>\n",
       "      <td>0</td>\n",
       "      <td>ZG</td>\n",
       "      <td>1711</td>\n",
       "      <td>Zug</td>\n",
       "      <td>Chamerstrasse</td>\n",
       "      <td>175</td>\n",
       "      <td>6300</td>\n",
       "      <td>0</td>\n",
       "      <td>Zug</td>\n",
       "      <td>2679236.637</td>\n",
       "      <td>1226168.313</td>\n",
       "      <td>de</td>\n",
       "    </tr>\n",
       "    <tr>\n",
       "      <td>4686</td>\n",
       "      <td>5646</td>\n",
       "      <td>5646</td>\n",
       "      <td>frontpage996.htm</td>\n",
       "      <td>90</td>\n",
       "      <td>Chamerstrasse 176, Zug</td>\n",
       "      <td>2957</td>\n",
       "      <td>160012752</td>\n",
       "      <td>0</td>\n",
       "      <td>ZG</td>\n",
       "      <td>1711</td>\n",
       "      <td>Zug</td>\n",
       "      <td>Chamerstrasse</td>\n",
       "      <td>176</td>\n",
       "      <td>6300</td>\n",
       "      <td>0</td>\n",
       "      <td>Zug</td>\n",
       "      <td>2679346.948</td>\n",
       "      <td>1226153.547</td>\n",
       "      <td>de</td>\n",
       "    </tr>\n",
       "    <tr>\n",
       "      <td>4687</td>\n",
       "      <td>5647</td>\n",
       "      <td>5647</td>\n",
       "      <td>frontpage997.htm</td>\n",
       "      <td>0</td>\n",
       "      <td>Chamerstrasse 177, Zug</td>\n",
       "      <td>2919</td>\n",
       "      <td>160007699</td>\n",
       "      <td>0</td>\n",
       "      <td>ZG</td>\n",
       "      <td>1711</td>\n",
       "      <td>Zug</td>\n",
       "      <td>Chamerstrasse</td>\n",
       "      <td>177</td>\n",
       "      <td>6300</td>\n",
       "      <td>0</td>\n",
       "      <td>Zug</td>\n",
       "      <td>2679221.076</td>\n",
       "      <td>1226153.141</td>\n",
       "      <td>de</td>\n",
       "    </tr>\n",
       "    <tr>\n",
       "      <td>4688</td>\n",
       "      <td>5648</td>\n",
       "      <td>5648</td>\n",
       "      <td>frontpage998.htm</td>\n",
       "      <td>10</td>\n",
       "      <td>Chamerstrasse 18, Zug</td>\n",
       "      <td>1433</td>\n",
       "      <td>321151</td>\n",
       "      <td>0</td>\n",
       "      <td>ZG</td>\n",
       "      <td>1711</td>\n",
       "      <td>Zug</td>\n",
       "      <td>Chamerstrasse</td>\n",
       "      <td>18</td>\n",
       "      <td>6300</td>\n",
       "      <td>0</td>\n",
       "      <td>Zug</td>\n",
       "      <td>2681295.335</td>\n",
       "      <td>1225130.509</td>\n",
       "      <td>de</td>\n",
       "    </tr>\n",
       "    <tr>\n",
       "      <td>4689</td>\n",
       "      <td>5649</td>\n",
       "      <td>5649</td>\n",
       "      <td>frontpage999.htm</td>\n",
       "      <td>0</td>\n",
       "      <td>Chamerstrasse 18.1, Zug</td>\n",
       "      <td>4284</td>\n",
       "      <td>191778756</td>\n",
       "      <td>0</td>\n",
       "      <td>ZG</td>\n",
       "      <td>1711</td>\n",
       "      <td>Zug</td>\n",
       "      <td>Chamerstrasse</td>\n",
       "      <td>18.1</td>\n",
       "      <td>6300</td>\n",
       "      <td>0</td>\n",
       "      <td>Zug</td>\n",
       "      <td>2681319.561</td>\n",
       "      <td>1225134.684</td>\n",
       "      <td>de</td>\n",
       "    </tr>\n",
       "  </tbody>\n",
       "</table>\n",
       "<p>4690 rows × 19 columns</p>\n",
       "</div>"
      ],
      "text/plain": [
       "      Unnamed: 0_x  Unnamed: 0.1              Seite  Anzahl  \\\n",
       "0                0             0     frontpage0.htm       0   \n",
       "1                1             1     frontpage1.htm       5   \n",
       "2                2             2    frontpage10.htm       0   \n",
       "3                3             3   frontpage100.htm       0   \n",
       "4                4             4  frontpage1000.htm       0   \n",
       "...            ...           ...                ...     ...   \n",
       "4685          5645          5645   frontpage995.htm      18   \n",
       "4686          5646          5646   frontpage996.htm      90   \n",
       "4687          5647          5647   frontpage997.htm       0   \n",
       "4688          5648          5648   frontpage998.htm      10   \n",
       "4689          5649          5649   frontpage999.htm       0   \n",
       "\n",
       "                        Adresse  Unnamed: 0_y       EGID  EDID GDEKT  GDENR  \\\n",
       "0          Aabachstrasse 1, Zug          3464  190988543     0    ZG   1711   \n",
       "1         Aabachstrasse 10, Zug          3369  190564448     0    ZG   1711   \n",
       "2          Aabachstrasse 2, Zug          1430     321148     0    ZG   1711   \n",
       "3     Alte Baarerstrasse 4, Zug          1203     320895     0    ZG   1711   \n",
       "4      Chamerstrasse 180.2, Zug          4077  191775911     0    ZG   1711   \n",
       "...                         ...           ...        ...   ...   ...    ...   \n",
       "4685     Chamerstrasse 175, Zug          2928  160009603     0    ZG   1711   \n",
       "4686     Chamerstrasse 176, Zug          2957  160012752     0    ZG   1711   \n",
       "4687     Chamerstrasse 177, Zug          2919  160007699     0    ZG   1711   \n",
       "4688      Chamerstrasse 18, Zug          1433     321151     0    ZG   1711   \n",
       "4689    Chamerstrasse 18.1, Zug          4284  191778756     0    ZG   1711   \n",
       "\n",
       "     GDENAME             STRNAME  DEINR  PLZ4  PLZZ PLZNAME        GKODE  \\\n",
       "0        Zug       Aabachstrasse      1  6300     0     Zug  2681243.278   \n",
       "1        Zug       Aabachstrasse     10  6300     0     Zug  2681328.366   \n",
       "2        Zug       Aabachstrasse      2  6300     0     Zug  2681294.530   \n",
       "3        Zug  Alte Baarerstrasse      4  6300     0     Zug  2682278.228   \n",
       "4        Zug       Chamerstrasse  180.2  6300     0     Zug  2678903.909   \n",
       "...      ...                 ...    ...   ...   ...     ...          ...   \n",
       "4685     Zug       Chamerstrasse    175  6300     0     Zug  2679236.637   \n",
       "4686     Zug       Chamerstrasse    176  6300     0     Zug  2679346.948   \n",
       "4687     Zug       Chamerstrasse    177  6300     0     Zug  2679221.076   \n",
       "4688     Zug       Chamerstrasse     18  6300     0     Zug  2681295.335   \n",
       "4689     Zug       Chamerstrasse   18.1  6300     0     Zug  2681319.561   \n",
       "\n",
       "            GKODN STRSP  \n",
       "0     1225319.466    de  \n",
       "1     1225274.400    de  \n",
       "2     1225154.193    de  \n",
       "3     1225122.918    de  \n",
       "4     1226520.613    de  \n",
       "...           ...   ...  \n",
       "4685  1226168.313    de  \n",
       "4686  1226153.547    de  \n",
       "4687  1226153.141    de  \n",
       "4688  1225130.509    de  \n",
       "4689  1225134.684    de  \n",
       "\n",
       "[4690 rows x 19 columns]"
      ]
     },
     "execution_count": 52,
     "metadata": {},
     "output_type": "execute_result"
    }
   ],
   "source": [
    "df_abgleich"
   ]
  },
  {
   "cell_type": "code",
   "execution_count": 53,
   "metadata": {},
   "outputs": [],
   "source": [
    "df_abgleich.drop_duplicates(\"Adresse\", inplace=True)# Doppelte Einträge löschen"
   ]
  },
  {
   "cell_type": "markdown",
   "metadata": {},
   "source": [
    "#### Alle Adressen filtern, die NAN-Werte haben - also nicht funktionierten https://stackoverflow.com/questions/22551403/python-pandas-filtering-out-nan-from-a-data-selection-of-a-column-of-strings"
   ]
  },
  {
   "cell_type": "code",
   "execution_count": 54,
   "metadata": {},
   "outputs": [
    {
     "data": {
      "text/html": [
       "<div>\n",
       "<style scoped>\n",
       "    .dataframe tbody tr th:only-of-type {\n",
       "        vertical-align: middle;\n",
       "    }\n",
       "\n",
       "    .dataframe tbody tr th {\n",
       "        vertical-align: top;\n",
       "    }\n",
       "\n",
       "    .dataframe thead th {\n",
       "        text-align: right;\n",
       "    }\n",
       "</style>\n",
       "<table border=\"1\" class=\"dataframe\">\n",
       "  <thead>\n",
       "    <tr style=\"text-align: right;\">\n",
       "      <th></th>\n",
       "      <th>Unnamed: 0_x</th>\n",
       "      <th>Unnamed: 0.1</th>\n",
       "      <th>Seite</th>\n",
       "      <th>Anzahl</th>\n",
       "      <th>Adresse</th>\n",
       "      <th>Unnamed: 0_y</th>\n",
       "      <th>EGID</th>\n",
       "      <th>EDID</th>\n",
       "      <th>GDEKT</th>\n",
       "      <th>GDENR</th>\n",
       "      <th>GDENAME</th>\n",
       "      <th>STRNAME</th>\n",
       "      <th>DEINR</th>\n",
       "      <th>PLZ4</th>\n",
       "      <th>PLZZ</th>\n",
       "      <th>PLZNAME</th>\n",
       "      <th>GKODE</th>\n",
       "      <th>GKODN</th>\n",
       "      <th>STRSP</th>\n",
       "    </tr>\n",
       "  </thead>\n",
       "  <tbody>\n",
       "  </tbody>\n",
       "</table>\n",
       "</div>"
      ],
      "text/plain": [
       "Empty DataFrame\n",
       "Columns: [Unnamed: 0_x, Unnamed: 0.1, Seite, Anzahl, Adresse, Unnamed: 0_y, EGID, EDID, GDEKT, GDENR, GDENAME, STRNAME, DEINR, PLZ4, PLZZ, PLZNAME, GKODE, GKODN, STRSP]\n",
       "Index: []"
      ]
     },
     "execution_count": 54,
     "metadata": {},
     "output_type": "execute_result"
    }
   ],
   "source": [
    "df_abgleich[df_abgleich[\"Seite\"].notnull()==False] "
   ]
  },
  {
   "cell_type": "code",
   "execution_count": null,
   "metadata": {},
   "outputs": [],
   "source": [
    "# Jep!!! jetzt habe ichs geschafft. Alle Umlaute sind umgeschrieben."
   ]
  },
  {
   "cell_type": "code",
   "execution_count": null,
   "metadata": {},
   "outputs": [],
   "source": []
  },
  {
   "cell_type": "code",
   "execution_count": 55,
   "metadata": {},
   "outputs": [],
   "source": [
    "df_abgleich.to_csv(folderpath+\"/BRFrames/Stadt_Zug_Umlaute_korr\")"
   ]
  },
  {
   "cell_type": "code",
   "execution_count": null,
   "metadata": {},
   "outputs": [],
   "source": []
  },
  {
   "cell_type": "code",
   "execution_count": null,
   "metadata": {},
   "outputs": [],
   "source": []
  },
  {
   "cell_type": "code",
   "execution_count": null,
   "metadata": {},
   "outputs": [],
   "source": []
  },
  {
   "cell_type": "code",
   "execution_count": null,
   "metadata": {},
   "outputs": [],
   "source": []
  },
  {
   "cell_type": "code",
   "execution_count": null,
   "metadata": {},
   "outputs": [],
   "source": []
  },
  {
   "cell_type": "markdown",
   "metadata": {},
   "source": [
    "# Internet meint, die Art des Auslesens ändern\n",
    "das hats nicht gebracht... Musste nur auch das grösse Ä als einzelnen Umlaut behandeln. Andere Codierung.\n",
    "Hier trotzdem der Versuch"
   ]
  },
  {
   "cell_type": "code",
   "execution_count": 27,
   "metadata": {},
   "outputs": [],
   "source": [
    "requests.packages.urllib3.disable_warnings()"
   ]
  },
  {
   "cell_type": "code",
   "execution_count": null,
   "metadata": {},
   "outputs": [],
   "source": [
    "sauce = requests.get('https://www.swr3.de/wraps/fun/filosofie/neu.php?id=11', verify=False)\n",
    "soup = bs.BeautifulSoup(sauce.content,'lxml')"
   ]
  },
  {
   "cell_type": "code",
   "execution_count": 76,
   "metadata": {},
   "outputs": [],
   "source": [
    "file_g=open(folderpath+\"/HRSeiten_Test/Kantonale Firmensuche, Handelsregisteramt des Kantons Zug_oesch.html\", \"r\")\n",
    "soup_a=bs.BeautifulSoup(file_g, 'html.parser')"
   ]
  },
  {
   "cell_type": "code",
   "execution_count": 77,
   "metadata": {},
   "outputs": [
    {
     "data": {
      "text/plain": [
       "<!DOCTYPE html>\n",
       "\n",
       "<!-- saved from url=(0052)https://zg.chregister.ch/cr-portal/suche/suche.xhtml -->\n",
       "<html xmlns=\"http://www.w3.org/1999/xhtml\"><head><meta content=\"text/html; charset=utf-8\" http-equiv=\"Content-Type\"/><link href=\"./Kantonale Firmensuche, Handelsregisteramt des Kantons Zug_oesch_files/bootstrap.min.css.xhtml\" rel=\"stylesheet\" type=\"text/css\"/><link href=\"./Kantonale Firmensuche, Handelsregisteramt des Kantons Zug_oesch_files/font-awesome.min-jsf.css.xhtml\" rel=\"stylesheet\" type=\"text/css\"/><link href=\"./Kantonale Firmensuche, Handelsregisteramt des Kantons Zug_oesch_files/cr-business-web-portal.min.css.xhtml\" rel=\"stylesheet\" type=\"text/css\"/><link href=\"./Kantonale Firmensuche, Handelsregisteramt des Kantons Zug_oesch_files/cr-business-web-core.min.css.xhtml\" rel=\"stylesheet\" type=\"text/css\"/><link href=\"./Kantonale Firmensuche, Handelsregisteramt des Kantons Zug_oesch_files/zg.min.css.xhtml\" rel=\"stylesheet\" type=\"text/css\"/><link href=\"./Kantonale Firmensuche, Handelsregisteramt des Kantons Zug_oesch_files/primefaces.css.xhtml\" rel=\"stylesheet\" type=\"text/css\"/><script src=\"./Kantonale Firmensuche, Handelsregisteramt des Kantons Zug_oesch_files/jquery.js.xhtml\" type=\"text/javascript\"></script><script src=\"./Kantonale Firmensuche, Handelsregisteramt des Kantons Zug_oesch_files/jquery-plugins.js.xhtml\" type=\"text/javascript\"></script><script src=\"./Kantonale Firmensuche, Handelsregisteramt des Kantons Zug_oesch_files/primefaces.js.xhtml\" type=\"text/javascript\"></script><link href=\"./Kantonale Firmensuche, Handelsregisteramt des Kantons Zug_oesch_files/theme-overrides.css.xhtml\" rel=\"stylesheet\" type=\"text/css\"/>\n",
       "<meta content=\"IE=edge\" http-equiv=\"X-UA-Compatible\"/>\n",
       "<meta content=\"width=device-width, initial-scale=1.0, maximum-scale=1.0, user-scalable=no\" name=\"viewport\"/>\n",
       "<meta content=\"no-cache\" http-equiv=\"pragma\"/>\n",
       "<meta content=\"no-cache, no-store, must-revalidate, max-age=0\" http-equiv=\"cache-control\"/>\n",
       "<meta content=\"0\" http-equiv=\"expires\"/>\n",
       "<title>Kantonale Firmensuche, Handelsregisteramt des Kantons Zug</title>\n",
       "<meta content=\"Offizielle Handelsregisterinformationen des Kantons Zug\" name=\"description\"/>\n",
       "<meta content=\"Kantonale Firmensuche, Handelsregisteramt des Kantons Zug\" property=\"og:title\"/>\n",
       "<meta content=\"Offizielle Handelsregisterinformationen des Kantons Zug\" property=\"og:description\"/>\n",
       "<meta content=\"https://zg.chregister.ch\" property=\"og:url\"/>\n",
       "<meta content=\"Handelsregisteramt des Kantons Zug\" property=\"og:site_name\"/>\n",
       "<meta content=\"https://zg.chregister.ch/cr-portal/javax.faces.resource/images/logo/ZG-logo.png.xhtml?ln=default\" property=\"og:image\"/>\n",
       "<meta content=\"DV Bern AG\" name=\"author\"/>\n",
       "<link href=\"https://zg.chregister.ch/cr-portal/resources/default/images/favicon/ZG-favicon.ico\" rel=\"icon\" type=\"image/ico\"/>\n",
       "<link href=\"https://zg.chregister.ch/cr-portal/resources/default/images/favicon/ZG-favicon.ico\" rel=\"shortcut icon\"/></head><body style=\"\"><div aria-hidden=\"true\" aria-labelledby=\"j_idt16_title\" class=\"ui-dialog ui-widget ui-widget-content ui-overlay-hidden ui-corner-all ui-shadow modal-content modal-loading\" id=\"j_idt16\" role=\"dialog\" style=\"width: auto; height: auto;\"><div class=\"ui-dialog-titlebar ui-widget-header ui-helper-clearfix ui-corner-top\" style=\"\"><span class=\"ui-dialog-title\" id=\"j_idt16_title\"></span></div><div class=\"ui-dialog-content ui-widget-content\" style=\"height: auto;\">\n",
       "<div class=\"modal-loading-spinner\"></div></div></div>\n",
       "<script type=\"text/javascript\">\n",
       "        function showStatus() {\n",
       "            statusDialogOnRequest.show();\n",
       "        }\n",
       "\n",
       "        function hideStatus() {\n",
       "            statusDialogOnRequest.hide();\n",
       "        }\n",
       "    </script><span id=\"firmaAuszugPanel\"></span><div class=\"wrap stickyPaddingBottom\">\n",
       "<form action=\"https://zg.chregister.ch/cr-portal/suche/suche.xhtml;jsessionid=3bca47edd54dad72af449b618172\" class=\"form-horizontal\" enctype=\"application/x-www-form-urlencoded\" id=\"idPortalForm\" method=\"post\" name=\"idPortalForm\">\n",
       "<input name=\"idPortalForm\" type=\"hidden\" value=\"idPortalForm\"/>\n",
       "<nav class=\"navbar navbar-default navbar-fixed-top navbar-sm hidden-print\">\n",
       "<div class=\"container-fluid\">\n",
       "<div class=\"navbar-header\">\n",
       "<button aria-controls=\"navbar\" aria-expanded=\"false\" class=\"navbar-toggle collapsed\" data-target=\"#navbar\" data-toggle=\"collapse\" type=\"button\">\n",
       "<span class=\"sr-only\">Toggle navigation</span>\n",
       "<span class=\"icon-bar\"></span>\n",
       "<span class=\"icon-bar\"></span>\n",
       "<span class=\"icon-bar\"></span>\n",
       "</button> \n",
       "            </div>\n",
       "<div class=\"navbar-collapse collapse\" id=\"navbar\">\n",
       "<ul class=\"nav navbar-nav\">\n",
       "<li class=\"menu-Suche active\"><a aria-label=\"Kantonale Suche\" class=\"ui-commandlink ui-widget fa fa-search\" href=\"https://zg.chregister.ch/cr-portal/suche/suche.xhtml#\" id=\"idPortalForm:j_idt39\" onclick=\"PrimeFaces.ab({source:'idPortalForm:j_idt39'});return false;\" title=\"Kantonale Suche\">\n",
       "<span>Kantonale Suche\n",
       "\t\t\t\t\t\t\t</span></a>\n",
       "</li>\n",
       "<li class=\"menu-Auszug\">\n",
       "</li>\n",
       "<li class=\"menu-Bestellung\">\n",
       "</li>\n",
       "</ul>\n",
       "<ul class=\"nav navbar-nav navbar-right\">\n",
       "<li class=\"dropdown\">\n",
       "<a aria-expanded=\"false\" class=\"dropdown-toggle fa fa-globe\" data-toggle=\"dropdown\" href=\"https://zg.chregister.ch/cr-portal/suche/suche.xhtml#\" role=\"button\">\n",
       "<span>Deutsch\n",
       "                                    </span>\n",
       "<span class=\"caret\"></span>\n",
       "</a>\n",
       "<ul class=\"dropdown-menu\" role=\"menu\">\n",
       "<li><a class=\"ui-commandlink ui-widget\" href=\"https://zg.chregister.ch/cr-portal/suche/suche.xhtml#\" id=\"idPortalForm:j_idt65\" onclick=\"PrimeFaces.ab({source:'idPortalForm:j_idt65',oncomplete:function(xhr,status,args){window.location.replace(window.location.href);;}});return false;\">FranÃ§ais</a></li>\n",
       "<li><a class=\"ui-commandlink ui-widget\" href=\"https://zg.chregister.ch/cr-portal/suche/suche.xhtml#\" id=\"idPortalForm:j_idt68\" onclick=\"PrimeFaces.ab({source:'idPortalForm:j_idt68',oncomplete:function(xhr,status,args){window.location.replace(window.location.href);;}});return false;\">Italiano</a></li>\n",
       "<li><a class=\"ui-commandlink ui-widget\" href=\"https://zg.chregister.ch/cr-portal/suche/suche.xhtml#\" id=\"idPortalForm:j_idt240\" onclick=\"PrimeFaces.ab({source:'idPortalForm:j_idt240',oncomplete:function(xhr,status,args){window.location.replace(window.location.href);;}});return false;\">English</a></li>\n",
       "</ul>\n",
       "</li>\n",
       "</ul>\n",
       "</div>\n",
       "</div>\n",
       "</nav>\n",
       "<script type=\"text/javascript\">\n",
       "\t\tfunction startWebshop() {\n",
       "\t\t\tvar form = document.createElement(\"form\");\n",
       "\t\t\tform.setAttribute(\"method\", \"post\");\n",
       "\t\t\tform.setAttribute(\"action\", \"\");\n",
       "\t\t\tform.appendChild(createElement(\"data.BEST_Firma_V2_0.JPERS\",\"\"));\n",
       "\t\t\tform.appendChild(createElement(\"data.BEST_Firma_V2_0.FIRMENSITZ\",\"\"));\n",
       "\t\t\tform.appendChild(createElement(\"data.BEST_Firma_V2_0.Firmennummer\",\"\"));\n",
       "\t\t\tform.appendChild(createElement(\"data.BEST_Firma_V2_0.BEST_Rechtsform\",\"\"));\n",
       "\t\t\tform.appendChild(createElement(\"event\",\"view\"));\n",
       "\t\t\tform.appendChild(createElement(\"generalid\",\"AJU_BEST\"));\n",
       "\t\t\tdocument.body.appendChild(form);\n",
       "\t\t\tform.submit();\n",
       "\t\t}\n",
       "\n",
       "\t\tfunction createElement(name, value) {\n",
       "\t\t\tvar element = document.createElement(\"input\");\n",
       "\t\t\telement.setAttribute(\"type\", \"hidden\");\n",
       "\t\t\telement.setAttribute(\"name\", name);\n",
       "\t\t\telement.setAttribute(\"value\", value);\n",
       "\t\t\treturn element;\n",
       "\t\t}\n",
       "\t</script><div class=\"ui-outputpanel ui-widget container\" id=\"idPortalForm:notificationsContainer\">\n",
       "<input name=\"idPortalForm:j_idt72\" type=\"hidden\" value=\"idPortalForm:j_idt72\"/>\n",
       "<input autocomplete=\"off\" id=\"j_id1:javax.faces.ViewState:0\" name=\"javax.faces.ViewState\" type=\"hidden\" value=\"-4958769976972722089:1090375870737056519\"/>\n",
       "</div><input autocomplete=\"off\" name=\"javax.faces.ViewState\" type=\"hidden\" value=\"4946467147469671227:-1502519149358548304\"/></form>\n",
       "<div class=\"container\">\n",
       "<header id=\"firmaHeader\">\n",
       "<a href=\"https://zg.chregister.ch/cr-portal/\"><img alt=\"Handelsregisteramt des Kantons Zug\" id=\"idPortalForm:j_idt81\" src=\"./Kantonale Firmensuche, Handelsregisteramt des Kantons Zug_oesch_files/ZG-logo.png.xhtml\"/>\n",
       "</a>\n",
       "<h1 id=\"defaultHeader\">Handelsregister\n",
       "            </h1>\n",
       "<h3 style=\"margin-left: 20px; margin-bottom: 20px\"></h3>\n",
       "<h1 id=\"headerOnNewLine\">Handelsregister\n",
       "            </h1>\n",
       "<div class=\"headerSubLine\"></div>\n",
       "</header>\n",
       "<div class=\"sub-header\"><div class=\"ui-outputpanel ui-widget\" id=\"idPortalForm:j_idt96\">\n",
       "<h2>Offizielle Handelsregisterinformationen des Kantons Zug\n",
       "                </h2></div>\n",
       "</div>\n",
       "</div><input autocomplete=\"off\" id=\"j_id1:javax.faces.ViewState:1\" name=\"javax.faces.ViewState\" type=\"hidden\" value=\"-4958769976972722089:1090375870737056519\"/>\n",
       "<div class=\"container\">\n",
       "<div class=\"page-header\">\n",
       "<h3>Willkommen</h3>\n",
       "<p>Willkommen bei der Firmensuche des Handelsregisters des Kantons Zug. Auf diesem Portal kÃ¶nnen Sie die publizierten Daten aller Firmen in unserem Amt finden. Dazu gehÃ¶ren insbesondere Rechtsnatur, Zweck und eingetragene Personen. Die Daten kÃ¶nnen als Auszug direkt im Browser oder als pdf-Dokument angezeigt bzw. heruntergeladen werden. Beachten Sie bitte, dass AuszÃ¼ge auf diesem Portal ohne GewÃ¤hr zur VerfÃ¼gung gestellt werden und rechtlich nicht verbindlich sind. Sie haben jedoch die MÃ¶glichkeit, von uns beglaubigte und damit rechtlich verbindliche HandelsregisterauszÃ¼ge zu bestellen. Nutzen Sie dafÃ¼r das Bestellformular.\n",
       "\t\t\t\t</p>\n",
       "</div>\n",
       "<form action=\"https://zg.chregister.ch/cr-portal/suche/suche.xhtml\" class=\"form-horizontal\" enctype=\"application/x-www-form-urlencoded\" id=\"idSucheForm\" method=\"post\" name=\"idSucheForm\">\n",
       "<input name=\"idSucheForm\" type=\"hidden\" value=\"idSucheForm\"/>\n",
       "<a class=\"menu-identifier\" href=\"https://zg.chregister.ch/cr-portal/suche/suche.xhtml#\" id=\"menu-Suche\" name=\"content\">Kantonale Suche</a>\n",
       "<div class=\"form-group\">\n",
       "<div class=\"col-sm-12\"><div aria-live=\"polite\" class=\"ui-messages ui-widget\" id=\"idSucheForm:j_idt114\"><div class=\"ui-messages-warn ui-corner-all\"><span class=\"ui-messages-warn-icon\"></span><ul><li><span class=\"ui-messages-warn-summary\">FÃ¼r die angegebenen Suchkriterien wurden keine EintrÃ¤ge gefunden.</span></li></ul></div></div>\n",
       "</div>\n",
       "</div>\n",
       "<div class=\"form-group\"><label class=\"ui-outputlabel ui-widget control-label col-sm-2\" for=\"idSucheForm:idFirma\" id=\"idSucheForm:j_idt116\">Firma</label>\n",
       "<div class=\"col-sm-6\"><input aria-disabled=\"false\" aria-multiline=\"false\" aria-readonly=\"false\" class=\"ui-inputfield ui-inputtext ui-widget ui-state-default ui-corner-all form-control ui-state-focus\" id=\"idSucheForm:idFirma\" name=\"idSucheForm:idFirma\" placeholder=\"Suche nach Firma, Unternehmensnummer etc.\" role=\"textbox\" type=\"text\"/><span id=\"idSucheForm:j_idt118\"></span><script type=\"text/javascript\">$(function(){PrimeFaces.focus('idSucheForm:idFirma');});</script>\n",
       "</div>\n",
       "<span class=\"help-block\"><div aria-live=\"polite\" class=\"ui-message\" id=\"idSucheForm:j_idt120\"></div>\n",
       "</span>\n",
       "</div>\n",
       "<div class=\"form-group\"><label class=\"ui-outputlabel ui-widget control-label col-sm-2\" for=\"idSucheForm:idPerson\" id=\"idSucheForm:j_idt123\">Person</label>\n",
       "<div class=\"col-sm-6\"><input aria-disabled=\"false\" aria-multiline=\"false\" aria-readonly=\"false\" class=\"ui-inputfield ui-inputtext ui-widget ui-state-default ui-corner-all form-control\" id=\"idSucheForm:idPerson\" name=\"idSucheForm:idPerson\" placeholder=\"Suche nach Person\" role=\"textbox\" type=\"text\"/>\n",
       "</div>\n",
       "<span class=\"help-block\"><div aria-live=\"polite\" class=\"ui-message\" id=\"idSucheForm:j_idt126\"></div>\n",
       "</span>\n",
       "</div><div class=\"ui-accordion ui-widget ui-helper-reset ui-hidden-container\" data-widget=\"widget_idSucheForm_panel\" id=\"idSucheForm:panel\" role=\"tablist\"><h3 aria-expanded=\"true\" class=\"ui-accordion-header ui-helper-reset ui-state-default ui-state-active ui-corner-top\" role=\"tab\"><span class=\"ui-icon ui-icon-triangle-1-s\"></span><a href=\"https://zg.chregister.ch/cr-portal/suche/suche.xhtml#\" tabindex=\"-1\">ZusÃ¤tzliche Suchkriterien</a></h3><div aria-hidden=\"false\" class=\"ui-accordion-content ui-helper-reset ui-widget-content\" id=\"idSucheForm:panel:j_idt128\" role=\"tabpanel\">\n",
       "<div class=\"form-group topDivSelectOneMenu\">\n",
       "<div class=\"col-sm-6\"><div class=\"ui-selectonemenu ui-widget ui-state-default ui-corner-all ui-helper-clearfix form-control\" id=\"idSucheForm:panel:idRechtsform\" style=\"width: 374px;\"><div class=\"ui-helper-hidden\"><select id=\"idSucheForm:panel:idRechtsform_input\" name=\"idSucheForm:panel:idRechtsform_input\"><option value=\"\"></option><option value=\"11111111-1111-1111-1111-111111111101\">Einzelunternehmen</option><option value=\"72d4e607-8be9-43ff-8e68-a9c8320b44c7\">Kollektivgesellschaft</option><option value=\"11111111-1111-1111-1111-111111111103\">Aktiengesellschaft</option><option value=\"11111111-1111-1111-1111-111111111104\">Gesellschaft mit beschrÃ¤nkter Haftung</option><option value=\"11111111-1111-1111-1111-111111111105\">Genossenschaft</option><option value=\"11111111-1111-1111-1111-111111111106\">Verein</option><option value=\"11111111-1111-1111-1111-111111111107\">Stiftung</option><option value=\"11111111-1111-1111-1111-111111111108\">Besondere Rechtsformen</option><option value=\"11111111-1111-1111-1111-111111111109\">schweizerische Zweigniederlassung</option><option value=\"11111111-1111-1111-1111-111111111110\">Kommanditgesellschaft</option><option value=\"11111111-1111-1111-1111-111111111111\">auslÃ¤ndische Zweigniederlassung</option><option value=\"11111111-1111-1111-1111-111111111112\">Kommanditaktiengesellschaft</option><option value=\"11111111-1111-1111-1111-111111111113\">Institut des Ã¶ffentlichen Rechts</option><option value=\"11111111-1111-1111-1111-111111111114\">Gemeinderschaft</option><option value=\"11111111-1111-1111-1111-111111111115\">Investmentgesellschaft mit variablem Kapital (SICAV)</option><option value=\"11111111-1111-1111-1111-111111111116\">Investmentgesellschaft mit festem Kapital (SICAF)</option><option value=\"11111111-1111-1111-1111-111111111117\">Kommanditgesellschaft fÃ¼r kollektive Kapitalanlagen</option><option value=\"11111111-1111-1111-1111-111111111118\">NichtkaufmÃ¤nnische Prokura</option></select></div><div class=\"ui-helper-hidden-accessible\"><input id=\"idSucheForm:panel:idRechtsform_focus\" name=\"idSucheForm:panel:idRechtsform_focus\" type=\"text\"/></div><label class=\"ui-selectonemenu-label ui-inputfield ui-corner-all\" id=\"idSucheForm:panel:idRechtsform_label\" style=\"width: 368px;\"> </label><div class=\"ui-selectonemenu-trigger ui-state-default ui-corner-right\"><span class=\"ui-icon ui-icon-triangle-1-s\"></span></div></div>\n",
       "</div>\n",
       "<span class=\"help-block\"><div aria-live=\"polite\" class=\"ui-message\" id=\"idSucheForm:panel:j_idt133\"></div>\n",
       "</span>\n",
       "</div>\n",
       "<div class=\"form-group\">\n",
       "<div class=\"col-sm-6 input-group\">\n",
       "<span class=\"input-group-addon\"><i class=\"fa fa-search fa-fw\"></i></span><span class=\"ui-autocomplete fvFirmaAutocomplete\" id=\"idSucheForm:panel:idSitz\"><input aria-disabled=\"false\" aria-multiline=\"false\" aria-readonly=\"false\" autocomplete=\"off\" class=\"ui-autocomplete-input ui-inputfield ui-widget ui-state-default ui-corner-all\" id=\"idSucheForm:panel:idSitz_input\" name=\"idSucheForm:panel:idSitz_input\" placeholder=\"Sitz\" role=\"textbox\" type=\"text\" value=\"\"/><input autocomplete=\"off\" id=\"idSucheForm:panel:idSitz_hinput\" name=\"idSucheForm:panel:idSitz_hinput\" type=\"hidden\"/></span>\n",
       "</div>\n",
       "<span class=\"help-block\"><div aria-live=\"polite\" class=\"ui-message\" id=\"idSucheForm:panel:j_idt136\"></div>\n",
       "</span>\n",
       "</div>\n",
       "<div class=\"form-group\">\n",
       "<div class=\"col-sm-6 input-group\">\n",
       "<span class=\"input-group-addon\"><i class=\"fa fa-calendar fa-fw\"></i></span><span class=\"fvFirmaAutocomplete\" id=\"idSucheForm:panel:idShabDatum\"><input aria-disabled=\"false\" aria-multiline=\"false\" aria-readonly=\"false\" class=\"ui-inputfield ui-widget ui-state-default ui-corner-all hasDatepicker\" id=\"idSucheForm:panel:idShabDatum_input\" name=\"idSucheForm:panel:idShabDatum_input\" placeholder=\"SHAB-Datum\" role=\"textbox\" type=\"text\"/></span>\n",
       "</div>\n",
       "<span class=\"help-block\"><div aria-live=\"polite\" class=\"ui-message\" id=\"idSucheForm:panel:j_idt139\"></div>\n",
       "</span>\n",
       "</div>\n",
       "<div class=\"form-group\">\n",
       "<div class=\"col-sm-6\"><input aria-disabled=\"false\" aria-multiline=\"false\" aria-readonly=\"false\" class=\"ui-inputfield ui-inputtext ui-widget ui-state-default ui-corner-all form-control\" id=\"idSucheForm:panel:idShabNummer\" name=\"idSucheForm:panel:idShabNummer\" placeholder=\"SHAB-Publikationsnummer\" role=\"textbox\" type=\"text\"/>\n",
       "</div>\n",
       "<span class=\"help-block\"><div aria-live=\"polite\" class=\"ui-message\" id=\"idSucheForm:panel:j_idt142\"></div>\n",
       "</span>\n",
       "</div>\n",
       "<div class=\"form-group topDivSelectOneMenu\"><label class=\"ui-outputlabel ui-widget control-label col-sm-12\" for=\"idSucheForm:panel:idDiverseSuchtext\" id=\"idSucheForm:panel:j_idt145\">SuchschlÃ¼ssel<span class=\"ui-outputlabel-rfi\">*</span></label>\n",
       "<div class=\"col-sm-12\"><div class=\"ui-outputpanel ui-widget\" id=\"idSucheForm:panel:idDiversePanel\"><div class=\"ui-selectonemenu ui-widget ui-state-default ui-corner-all ui-helper-clearfix form-control\" id=\"idSucheForm:panel:idDiverseTyp\" style=\"width: 251px;\"><div class=\"ui-helper-hidden\"><select id=\"idSucheForm:panel:idDiverseTyp_input\" name=\"idSucheForm:panel:idDiverseTyp_input\"><option value=\"\"></option><option value=\"EINTRAGUNGSDATUM\">Eintragungsdatum</option><option value=\"LOESCHUNGSDATUM\">LÃ¶schungsdatum</option><option value=\"STATUTENDATUM\">Statutendatum</option><option selected=\"selected\" value=\"DOMIZIL_ADRESSE\">Domiziladresse</option><option value=\"ZWECK\">Zweck</option><option value=\"VINKULIERUNG\">Vinkulierung</option><option value=\"STATUTARISCHE_VORRECHTE\">Statutarische Vorrechte</option><option value=\"MITTEILUNGEN\">Mitteilungen</option><option value=\"BEMERKUNGEN\">Bemerkungen</option><option value=\"ANGABEN_ZUR_ZWEIGNIEDERLASSUNG\">Angaben zur Zweigniederlassung</option><option value=\"ORGANISATION\">Organisation</option><option value=\"QUALIFIZIERTE_TATBESTAENDE\">Qualifizierte TatbestÃ¤nde</option><option value=\"GENUSSSCHEINE\">Genussscheine</option><option value=\"FUSIONSPALTUNG\">Fusion / Spaltung</option><option value=\"PUBLIKATIONSORGAN\">Publikationsorgan</option><option value=\"AUFSICHTSBEHOERDE\">AufsichtsbehÃ¶rde</option><option value=\"BEMERKUNGEN_ZUM_KAPITAL\">Kapital-Bemerkung</option><option value=\"FIRMA_HAUPTSITZ\">ZN: Firma HS</option><option value=\"RECHTSFORM_HAUPTSITZ\">ZN: Rechtsnatur HS</option><option value=\"HAUPTSITZ\">ZN: Hauptsitz</option><option value=\"REGISTRIERUNG_HAUPTSITZ\">ZN: Eintragung am HS</option></select></div><div class=\"ui-helper-hidden-accessible\"><input id=\"idSucheForm:panel:idDiverseTyp_focus\" name=\"idSucheForm:panel:idDiverseTyp_focus\" type=\"text\"/></div><label class=\"ui-selectonemenu-label ui-inputfield ui-corner-all\" id=\"idSucheForm:panel:idDiverseTyp_label\" style=\"width: 245px;\">Domiziladresse</label><div class=\"ui-selectonemenu-trigger ui-state-default ui-corner-right\"><span class=\"ui-icon ui-icon-triangle-1-s\"></span></div></div>\n",
       "<div class=\"input-group fullWidth defaultPaddingTop\"><input aria-disabled=\"false\" aria-multiline=\"false\" aria-readonly=\"false\" class=\"ui-inputfield ui-inputtext ui-widget ui-state-default ui-corner-all form-control\" id=\"idSucheForm:panel:idDiverseSuchtext\" name=\"idSucheForm:panel:idDiverseSuchtext\" role=\"textbox\" type=\"text\" value=\"Ã–schwiese\"/>\n",
       "</div></div>\n",
       "</div>\n",
       "<span class=\"help-block\"><div aria-live=\"polite\" class=\"ui-message\" id=\"idSucheForm:panel:j_idt152\"></div><div aria-live=\"polite\" class=\"ui-message\" id=\"idSucheForm:panel:j_idt153\"></div><div aria-live=\"polite\" class=\"ui-message\" id=\"idSucheForm:panel:j_idt154\"></div>\n",
       "</span>\n",
       "</div>\n",
       "<div class=\"form-group\">\n",
       "<label class=\"control-label col-sm-12\" for=\"idShabNummer\">Anwendungsbereich der Suchkriterien</label>\n",
       "<div class=\"col-sm-12\"><div class=\"ui-chkbox ui-widget\" id=\"idSucheForm:panel:j_idt157\"><div class=\"ui-helper-hidden-accessible\"><input id=\"idSucheForm:panel:j_idt157_input\" name=\"idSucheForm:panel:j_idt157_input\" type=\"checkbox\"/></div><div class=\"ui-chkbox-box ui-widget ui-corner-all ui-state-default\"><span class=\"ui-chkbox-icon ui-c\"></span></div><span class=\"ui-chkbox-label\">auch gelÃ¶schte Firmen suchen</span></div><div class=\"ui-chkbox ui-widget\" id=\"idSucheForm:panel:j_idt158\"><div class=\"ui-helper-hidden-accessible\"><input id=\"idSucheForm:panel:j_idt158_input\" name=\"idSucheForm:panel:j_idt158_input\" type=\"checkbox\"/></div><div class=\"ui-chkbox-box ui-widget ui-corner-all ui-state-default\"><span class=\"ui-chkbox-icon ui-c\"></span></div><span class=\"ui-chkbox-label\">auch in bisherigen Firmennamen suchen</span></div><div class=\"ui-chkbox ui-widget\" id=\"idSucheForm:panel:j_idt159\"><div class=\"ui-helper-hidden-accessible\"><input id=\"idSucheForm:panel:j_idt159_input\" name=\"idSucheForm:panel:j_idt159_input\" type=\"checkbox\"/></div><div class=\"ui-chkbox-box ui-widget ui-corner-all ui-state-default\"><span class=\"ui-chkbox-icon ui-c\"></span></div><span class=\"ui-chkbox-label\">auch nach gestrichenen Personen suchen</span></div><div class=\"ui-chkbox ui-widget\" id=\"idSucheForm:panel:j_idt160\"><div class=\"ui-helper-hidden-accessible\"><input id=\"idSucheForm:panel:j_idt160_input\" name=\"idSucheForm:panel:j_idt160_input\" type=\"checkbox\"/></div><div class=\"ui-chkbox-box ui-widget ui-corner-all ui-state-default\"><span class=\"ui-chkbox-icon ui-c\"></span></div><span class=\"ui-chkbox-label\">auch in ÃœbertrÃ¤gen suchen</span></div>\n",
       "</div>\n",
       "</div></div><input id=\"idSucheForm:panel_active\" name=\"idSucheForm:panel_active\" type=\"hidden\" value=\"-1,0\"/></div>\n",
       "<div class=\"form-group clear defaultPaddingTop\">\n",
       "<div class=\"col-sm-12\"><div class=\"ui-toolbar ui-widget ui-widget-header ui-corner-all ui-helper-clearfix\" id=\"idSucheForm:j_idt163\"><div class=\"ui-toolbar-group-left\"><button aria-disabled=\"false\" class=\"ui-button ui-widget ui-state-default ui-corner-all ui-button-text-icon-left btn btn-primary\" id=\"idSucheForm:j_idt165\" name=\"idSucheForm:j_idt165\" onclick=\"this.disabled=true;;PrimeFaces.ab({source:'idSucheForm:j_idt165',update:'idSucheForm',oncomplete:function(xhr,status,args){this.disabled=false;;}});return false;\" role=\"button\" type=\"submit\"><span class=\"ui-button-icon-left ui-icon ui-c fa fa-search\"></span><span class=\"ui-button-text ui-c\">Suchen</span></button><img alt=\"\" id=\"idSucheForm:j_idt166\" src=\"./Kantonale Firmensuche, Handelsregisteramt des Kantons Zug_oesch_files/dot_clear.gif.xhtml\"/><button aria-disabled=\"false\" class=\"ui-button ui-widget ui-state-default ui-corner-all ui-button-text-icon-left btn btn-default\" id=\"idSucheForm:j_idt167\" name=\"idSucheForm:j_idt167\" onclick=\"PrimeFaces.ab({source:'idSucheForm:j_idt167',process:'idSucheForm:j_idt167',update:'idSucheForm',resetValues:true});return false;\" role=\"button\" type=\"submit\"><span class=\"ui-button-icon-left ui-icon ui-c fa fa-refresh\"></span><span class=\"ui-button-text ui-c\">Suchkriterien zurÃ¼cksetzen</span></button></div></div>\n",
       "</div>\n",
       "</div><div class=\"stickyPaddingBottom\"></div>\n",
       "<input autocomplete=\"off\" name=\"javax.faces.ViewState\" type=\"hidden\" value=\"4946467147469671227:-1502519149358548304\"/></form>\n",
       "</div></div>\n",
       "<footer id=\"footer\">\n",
       "<div class=\"container\">\n",
       "<div class=\"footerRow\">\n",
       "<div class=\"col-md-3\">\n",
       "<div class=\"small center-to-left\">\n",
       "<address>\n",
       "<strong><label class=\"ui-outputlabel ui-widget\" id=\"j_idt201\">Handelsregisteramt des Kantons Zug</label></strong>\n",
       "<p><label class=\"ui-outputlabel ui-widget\" id=\"j_idt203\">Aabachstrasse 5</label></p>\n",
       "<p><label class=\"ui-outputlabel ui-widget\" id=\"j_idt205\">6301 Zug</label></p>\n",
       "</address>\n",
       "</div>\n",
       "</div>\n",
       "<div class=\"col-md-3\">\n",
       "<div class=\"small center-to-left\">\n",
       "<strong><label class=\"ui-outputlabel ui-widget\" id=\"j_idt207\">BÃ¼rozeiten</label></strong>\n",
       "<p><label class=\"ui-outputlabel ui-widget\" id=\"j_idt209\">08:00 - 11:45 / 14:00 - 17:00 Uhr</label></p>\n",
       "</div>\n",
       "</div>\n",
       "<div class=\"col-md-3\">\n",
       "<div class=\"small center-to-left\">\n",
       "<p>\n",
       "<i class=\"fa fa-phone\"></i><label class=\"ui-outputlabel ui-widget\" id=\"j_idt211\" title=\"Telefon:\">+41 41 728 55 60</label>\n",
       "</p>\n",
       "<p>\n",
       "<i class=\"fa fa-fax\"></i><label class=\"ui-outputlabel ui-widget\" id=\"j_idt213\" title=\"Fax:\">+41 41 728 55 69</label>\n",
       "</p>\n",
       "<p>\n",
       "<i class=\"fa fa-envelope\"></i>\n",
       "<a href=\"mailto:contact.hra@zg.ch\" title=\"E-Mail\">contact.hra@zg.ch</a><label class=\"ui-outputlabel ui-widget\" id=\"j_idt215\"> </label>\n",
       "</p>\n",
       "<p>\n",
       "<i class=\"fa fa-home\"></i>\n",
       "<a href=\"http://www.hrazg.ch/\" title=\"Internetseite\">http://www.hrazg.ch/</a><label class=\"ui-outputlabel ui-widget\" id=\"j_idt217\"> </label>\n",
       "</p>\n",
       "</div>\n",
       "</div>\n",
       "<div class=\"col-md-3\">\n",
       "<div class=\"small center-to-left\">\n",
       "<form action=\"https://zg.chregister.ch/cr-portal/suche/suche.xhtml;jsessionid=3bca47edd54dad72af449b618172\" enctype=\"application/x-www-form-urlencoded\" id=\"j_idt219\" method=\"post\" name=\"j_idt219\">\n",
       "<input name=\"j_idt219\" type=\"hidden\" value=\"j_idt219\"/>\n",
       "<p class=\"link-margin-bottom\">\n",
       "</p>\n",
       "<p class=\"link-margin-bottom\"><a aria-label=\"DatenschutzerklÃ¤rung\" class=\"ui-commandlink ui-widget\" href=\"https://zg.chregister.ch/cr-portal/suche/suche.xhtml#\" id=\"j_idt219:j_idt223\" onclick=\"PrimeFaces.addSubmitParam('j_idt219',{'j_idt219:j_idt223':'j_idt219:j_idt223'}).submit('j_idt219');return false;\" title=\"DatenschutzerklÃ¤rung\" type=\"application/pdf\">DatenschutzerklÃ¤rung</a>\n",
       "</p><input autocomplete=\"off\" id=\"j_id1:javax.faces.ViewState:3\" name=\"javax.faces.ViewState\" type=\"hidden\" value=\"4946467147469671227:-1502519149358548304\"/>\n",
       "</form>\n",
       "<p class=\"link-margin-bottom\"><a href=\"https://zg.chregister.ch/cr-portal/impressum/impressum.xhtml;jsessionid=3bca47edd54dad72af449b618172\" title=\"Impressum\">\n",
       "<span>Impressum</span></a>\n",
       "</p>\n",
       "<p><label class=\"ui-outputlabel ui-widget\" id=\"j_idt229\">Realisiert durch</label>\n",
       "<a href=\"http://dvbern.ch/\">DV Bern AG</a><label class=\"ui-outputlabel ui-widget\" id=\"j_idt231\" style=\"padding-left: 4px;\">/</label>\n",
       "<a href=\"mailto:info@chregister.ch\">\n",
       "                                    Technische UnterstÃ¼tzung</a>\n",
       "</p>\n",
       "<p class=\"hidden\">\n",
       "                            v1.8.16.18_2019-11-28T14:38:09Z\n",
       "                        </p>\n",
       "</div>\n",
       "</div>\n",
       "</div>\n",
       "</div>\n",
       "<div id=\"footerVersion\">\n",
       "<p>\n",
       "                v1.8.16.18\n",
       "            </p>\n",
       "</div>\n",
       "</footer>\n",
       "<script type=\"text/javascript\">\n",
       "\t\t$(document).ready(function() {\n",
       "\t\t\tif (window.localStorage.cookieAccepted != \"true\") {\n",
       "\t\t\t\tPF('cookieMsg').show();\n",
       "            }\n",
       "\t\t});\n",
       "    </script><script src=\"./Kantonale Firmensuche, Handelsregisteramt des Kantons Zug_oesch_files/bootstrap.min.js.xhtml\" type=\"text/javascript\"></script><script src=\"./Kantonale Firmensuche, Handelsregisteramt des Kantons Zug_oesch_files/ie10-viewport-bug-workaround.js.xhtml\" type=\"text/javascript\"></script>\n",
       "<script type=\"text/javascript\">\n",
       "        function areCookiesSupported() {\n",
       "            if (navigator.cookieEnabled == false) {\n",
       "                if (location.pathname.indexOf(\"no-cookies\") == -1) {\n",
       "                    window.location = \"/cr-portal/no-cookies.xhtml\";\n",
       "                }\n",
       "            }\n",
       "        }\n",
       "        window.onload = areCookiesSupported();\n",
       "\n",
       "        function reloadPageAfterLanguageChange() {\n",
       "            window.location.reload();\n",
       "        }\n",
       "    </script><script src=\"./Kantonale Firmensuche, Handelsregisteramt des Kantons Zug_oesch_files/cr-business-web-portal.min.js.xhtml\" type=\"text/javascript\"></script><script src=\"./Kantonale Firmensuche, Handelsregisteramt des Kantons Zug_oesch_files/cr-business-web-core.min.js.xhtml\" type=\"text/javascript\"></script>\n",
       "<div id=\"textarea_simulator\" style=\"position: absolute; top: 0px; left: 0px; visibility: hidden;\"></div><div class=\"ui-dialog-docking-zone\"></div><div class=\"ui-datepicker ui-widget ui-widget-content ui-helper-clearfix ui-corner-all\" id=\"ui-datepicker-div\"></div><div class=\"ui-notificationbar ui-widget ui-widget-content\" id=\"j_idt196\" style=\"background-color: white; border-top: 1px solid black; height: auto; z-index: 2030; bottom: 0px;\">\n",
       "<div class=\"col-md-10\">\n",
       "                Diese Website verwendet Cookies. Wir verwenden nur technisch notwendige Cookies ohne die die Website nicht funktioniert - nÃ¤here Informationen dazu und zu Ihren Rechten als Benutzer finden Sie in unserer DatenschutzerklÃ¤rung. Durch das Verwenden der Website akzeptieren sie unsere Cookies. <a href=\"https://zg.chregister.ch/cr-portal/datenschutz/datenschutz_de.xhtml\">Mehr erfahren.</a>\n",
       "</div>\n",
       "<div class=\"col-md\"><button aria-disabled=\"false\" class=\"ui-button ui-widget ui-state-default ui-corner-all ui-button-text-only btn btn-default\" id=\"j_idt198\" name=\"j_idt198\" onclick=\"PF('cookieMsg').hide(); window.localStorage.cookieAccepted = true;;PrimeFaces.ab({source:'j_idt198'});return false;\" role=\"button\" style=\"float: right; margin-right: 15px\" type=\"submit\"><span class=\"ui-button-text ui-c\">OK</span></button>\n",
       "</div></div><div class=\"ui-selectonemenu-panel ui-widget-content ui-corner-all ui-helper-hidden ui-shadow\" id=\"idSucheForm:panel:idRechtsform_panel\" style=\"width: 372px;\"><div class=\"ui-selectonemenu-filter-container\"><input aria-disabled=\"false\" aria-multiline=\"false\" aria-readonly=\"false\" autocomplete=\"off\" class=\"ui-selectonemenu-filter ui-inputfield ui-inputtext ui-widget ui-state-default ui-corner-all\" id=\"idSucheForm:panel:idRechtsform_filter\" name=\"idSucheForm:panel:idRechtsform_filter\" role=\"textbox\" type=\"text\"/><span class=\"ui-icon ui-icon-search\"></span></div><div class=\"ui-selectonemenu-items-wrapper\" style=\"height:200px\"><ul class=\"ui-selectonemenu-items ui-selectonemenu-list ui-widget-content ui-widget ui-corner-all ui-helper-reset\"><li class=\"ui-selectonemenu-item ui-selectonemenu-list-item ui-corner-all ui-state-highlight\" data-label=\"&amp;nbsp;\"> </li><li class=\"ui-selectonemenu-item ui-selectonemenu-list-item ui-corner-all\" data-label=\"Einzelunternehmen\">Einzelunternehmen</li><li class=\"ui-selectonemenu-item ui-selectonemenu-list-item ui-corner-all\" data-label=\"Kollektivgesellschaft\">Kollektivgesellschaft</li><li class=\"ui-selectonemenu-item ui-selectonemenu-list-item ui-corner-all\" data-label=\"Aktiengesellschaft\">Aktiengesellschaft</li><li class=\"ui-selectonemenu-item ui-selectonemenu-list-item ui-corner-all\" data-label=\"Gesellschaft mit beschrÃ¤nkter Haftung\">Gesellschaft mit beschrÃ¤nkter Haftung</li><li class=\"ui-selectonemenu-item ui-selectonemenu-list-item ui-corner-all\" data-label=\"Genossenschaft\">Genossenschaft</li><li class=\"ui-selectonemenu-item ui-selectonemenu-list-item ui-corner-all\" data-label=\"Verein\">Verein</li><li class=\"ui-selectonemenu-item ui-selectonemenu-list-item ui-corner-all\" data-label=\"Stiftung\">Stiftung</li><li class=\"ui-selectonemenu-item ui-selectonemenu-list-item ui-corner-all\" data-label=\"Besondere Rechtsformen\">Besondere Rechtsformen</li><li class=\"ui-selectonemenu-item ui-selectonemenu-list-item ui-corner-all\" data-label=\"schweizerische Zweigniederlassung\">schweizerische Zweigniederlassung</li><li class=\"ui-selectonemenu-item ui-selectonemenu-list-item ui-corner-all\" data-label=\"Kommanditgesellschaft\">Kommanditgesellschaft</li><li class=\"ui-selectonemenu-item ui-selectonemenu-list-item ui-corner-all\" data-label=\"auslÃ¤ndische Zweigniederlassung\">auslÃ¤ndische Zweigniederlassung</li><li class=\"ui-selectonemenu-item ui-selectonemenu-list-item ui-corner-all\" data-label=\"Kommanditaktiengesellschaft\">Kommanditaktiengesellschaft</li><li class=\"ui-selectonemenu-item ui-selectonemenu-list-item ui-corner-all\" data-label=\"Institut des Ã¶ffentlichen Rechts\">Institut des Ã¶ffentlichen Rechts</li><li class=\"ui-selectonemenu-item ui-selectonemenu-list-item ui-corner-all\" data-label=\"Gemeinderschaft\">Gemeinderschaft</li><li class=\"ui-selectonemenu-item ui-selectonemenu-list-item ui-corner-all\" data-label=\"Investmentgesellschaft mit variablem Kapital (SICAV)\">Investmentgesellschaft mit variablem Kapital (SICAV)</li><li class=\"ui-selectonemenu-item ui-selectonemenu-list-item ui-corner-all\" data-label=\"Investmentgesellschaft mit festem Kapital (SICAF)\">Investmentgesellschaft mit festem Kapital (SICAF)</li><li class=\"ui-selectonemenu-item ui-selectonemenu-list-item ui-corner-all\" data-label=\"Kommanditgesellschaft fÃ¼r kollektive Kapitalanlagen\">Kommanditgesellschaft fÃ¼r kollektive Kapitalanlagen</li><li class=\"ui-selectonemenu-item ui-selectonemenu-list-item ui-corner-all\" data-label=\"NichtkaufmÃ¤nnische Prokura\">NichtkaufmÃ¤nnische Prokura</li></ul></div></div><div class=\"ui-autocomplete-panel ui-widget-content ui-corner-all ui-helper-hidden ui-shadow\" id=\"idSucheForm:panel:idSitz_panel\"></div><div class=\"ui-selectonemenu-panel ui-widget-content ui-corner-all ui-helper-hidden ui-shadow\" id=\"idSucheForm:panel:idDiverseTyp_panel\" style=\"width: 249px;\"><div class=\"ui-selectonemenu-filter-container\"><input aria-disabled=\"false\" aria-multiline=\"false\" aria-readonly=\"false\" autocomplete=\"off\" class=\"ui-selectonemenu-filter ui-inputfield ui-inputtext ui-widget ui-state-default ui-corner-all\" id=\"idSucheForm:panel:idDiverseTyp_filter\" name=\"idSucheForm:panel:idDiverseTyp_filter\" role=\"textbox\" type=\"text\"/><span class=\"ui-icon ui-icon-search\"></span></div><div class=\"ui-selectonemenu-items-wrapper\" style=\"height:200px\"><ul class=\"ui-selectonemenu-items ui-selectonemenu-list ui-widget-content ui-widget ui-corner-all ui-helper-reset\"><li class=\"ui-selectonemenu-item ui-selectonemenu-list-item ui-corner-all\" data-label=\"&amp;nbsp;\"> </li><li class=\"ui-selectonemenu-item ui-selectonemenu-list-item ui-corner-all\" data-label=\"Eintragungsdatum\">Eintragungsdatum</li><li class=\"ui-selectonemenu-item ui-selectonemenu-list-item ui-corner-all\" data-label=\"LÃ¶schungsdatum\">LÃ¶schungsdatum</li><li class=\"ui-selectonemenu-item ui-selectonemenu-list-item ui-corner-all\" data-label=\"Statutendatum\">Statutendatum</li><li class=\"ui-selectonemenu-item ui-selectonemenu-list-item ui-corner-all ui-state-highlight\" data-label=\"Domiziladresse\">Domiziladresse</li><li class=\"ui-selectonemenu-item ui-selectonemenu-list-item ui-corner-all\" data-label=\"Zweck\">Zweck</li><li class=\"ui-selectonemenu-item ui-selectonemenu-list-item ui-corner-all\" data-label=\"Vinkulierung\">Vinkulierung</li><li class=\"ui-selectonemenu-item ui-selectonemenu-list-item ui-corner-all\" data-label=\"Statutarische Vorrechte\">Statutarische Vorrechte</li><li class=\"ui-selectonemenu-item ui-selectonemenu-list-item ui-corner-all\" data-label=\"Mitteilungen\">Mitteilungen</li><li class=\"ui-selectonemenu-item ui-selectonemenu-list-item ui-corner-all\" data-label=\"Bemerkungen\">Bemerkungen</li><li class=\"ui-selectonemenu-item ui-selectonemenu-list-item ui-corner-all\" data-label=\"Angaben zur Zweigniederlassung\">Angaben zur Zweigniederlassung</li><li class=\"ui-selectonemenu-item ui-selectonemenu-list-item ui-corner-all\" data-label=\"Organisation\">Organisation</li><li class=\"ui-selectonemenu-item ui-selectonemenu-list-item ui-corner-all\" data-label=\"Qualifizierte TatbestÃ¤nde\">Qualifizierte TatbestÃ¤nde</li><li class=\"ui-selectonemenu-item ui-selectonemenu-list-item ui-corner-all\" data-label=\"Genussscheine\">Genussscheine</li><li class=\"ui-selectonemenu-item ui-selectonemenu-list-item ui-corner-all\" data-label=\"Fusion / Spaltung\">Fusion / Spaltung</li><li class=\"ui-selectonemenu-item ui-selectonemenu-list-item ui-corner-all\" data-label=\"Publikationsorgan\">Publikationsorgan</li><li class=\"ui-selectonemenu-item ui-selectonemenu-list-item ui-corner-all\" data-label=\"AufsichtsbehÃ¶rde\">AufsichtsbehÃ¶rde</li><li class=\"ui-selectonemenu-item ui-selectonemenu-list-item ui-corner-all\" data-label=\"Kapital-Bemerkung\">Kapital-Bemerkung</li><li class=\"ui-selectonemenu-item ui-selectonemenu-list-item ui-corner-all\" data-label=\"ZN: Firma HS\">ZN: Firma HS</li><li class=\"ui-selectonemenu-item ui-selectonemenu-list-item ui-corner-all\" data-label=\"ZN: Rechtsnatur HS\">ZN: Rechtsnatur HS</li><li class=\"ui-selectonemenu-item ui-selectonemenu-list-item ui-corner-all\" data-label=\"ZN: Hauptsitz\">ZN: Hauptsitz</li><li class=\"ui-selectonemenu-item ui-selectonemenu-list-item ui-corner-all\" data-label=\"ZN: Eintragung am HS\">ZN: Eintragung am HS</li></ul></div></div></body></html>"
      ]
     },
     "execution_count": 77,
     "metadata": {},
     "output_type": "execute_result"
    }
   ],
   "source": [
    "soup_a"
   ]
  },
  {
   "cell_type": "code",
   "execution_count": 78,
   "metadata": {},
   "outputs": [],
   "source": [
    "div_at_list=soup_a.find_all(\"div\")\n",
    "input_list_at=div_at_list[50].find_all(\"input\")"
   ]
  },
  {
   "cell_type": "code",
   "execution_count": 79,
   "metadata": {},
   "outputs": [
    {
     "data": {
      "text/plain": [
       "[<input aria-disabled=\"false\" aria-multiline=\"false\" aria-readonly=\"false\" class=\"ui-inputfield ui-inputtext ui-widget ui-state-default ui-corner-all form-control\" id=\"idSucheForm:panel:idDiverseSuchtext\" name=\"idSucheForm:panel:idDiverseSuchtext\" role=\"textbox\" type=\"text\" value=\"Ã–schwiese\"/>]"
      ]
     },
     "execution_count": 79,
     "metadata": {},
     "output_type": "execute_result"
    }
   ],
   "source": [
    "input_list_at"
   ]
  },
  {
   "cell_type": "code",
   "execution_count": null,
   "metadata": {},
   "outputs": [],
   "source": []
  },
  {
   "cell_type": "code",
   "execution_count": null,
   "metadata": {},
   "outputs": [],
   "source": []
  }
 ],
 "metadata": {
  "kernelspec": {
   "display_name": "Python 3",
   "language": "python",
   "name": "python3"
  },
  "language_info": {
   "codemirror_mode": {
    "name": "ipython",
    "version": 3
   },
   "file_extension": ".py",
   "mimetype": "text/x-python",
   "name": "python",
   "nbconvert_exporter": "python",
   "pygments_lexer": "ipython3",
   "version": "3.7.3"
  }
 },
 "nbformat": 4,
 "nbformat_minor": 2
}
