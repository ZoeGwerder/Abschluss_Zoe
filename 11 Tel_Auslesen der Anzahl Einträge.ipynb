{
 "cells": [
  {
   "cell_type": "code",
   "execution_count": 2,
   "metadata": {},
   "outputs": [],
   "source": [
    "from bs4 import BeautifulSoup\n",
    "import pandas as pd\n",
    "import os\n",
    "import re\n",
    "import bs4 as bs\n",
    "import requests\n",
    "import bs4 as bs\n",
    "import requests\n",
    "folderpath=r\"C:\\Users\\Zoe\\Desktop\\maz-datenjournalismus\\Daten_BR_Handelsreg\""
   ]
  },
  {
   "cell_type": "markdown",
   "metadata": {},
   "source": [
    "# Listenpositionen der Angaben finden\n",
    "- die Files beinhalten so jeweils höchstens 10 Einträge. Weitere müsste man mit scrollen erreichen\n",
    "- Ich will die Adresse sowie die Anzahl Einträge\n",
    "- Idee auch hier: roh Einträge rausnehmen und mit regex oder Split extrahieren."
   ]
  },
  {
   "cell_type": "code",
   "execution_count": 75,
   "metadata": {},
   "outputs": [],
   "source": [
    "# versuche mit: telfront\n",
    "#1 (17 Einrägen), \n",
    "#1003 ( 0 Einträge), \n",
    "#1027 (5 Einträge )\n",
    "#1000 (13 Einträge)\n",
    "#10 (2 Einträge)\n",
    "#1005 (0 Einträge)\n",
    "# 1057 (1 Eintrag)\n",
    "\n",
    "file_t=open(folderpath+\"/Telbuch_Seiten/telfront1057.htm\", encoding=\"mbcs\")\n",
    "text_t=file_t.read()\n",
    "soup_t=BeautifulSoup(text_t, 'html.parser')"
   ]
  },
  {
   "cell_type": "code",
   "execution_count": 76,
   "metadata": {},
   "outputs": [
    {
     "data": {
      "text/plain": [
       "<html class=\"js\" lang=\"de\"><head><meta content=\"text/html; charset=utf-8\" http-equiv=\"Content-Type\"/>\n",
       "<meta content=\"Details von Spittler, JÃ¼rg und Helma (-van Schoonhoven) in Zug (Adresse, Telefonnummer)\" name=\"description\"/>\n",
       "<link href=\"//lib.search.ch/favicon.ico?c=3\" rel=\"shortcut icon\"/>\n",
       "<title>Spittler, JÃ¼rg und Helma (-van Schoonhoven) - search.ch</title>\n",
       "<script async=\"\" src=\"https://www.google-analytics.com/plugins/ua/linkid.js\" type=\"text/javascript\"></script><script async=\"\" src=\"https://www.google-analytics.com/analytics.js\" type=\"text/javascript\"></script><script async=\"\" src=\"https://acdn.adnxs.com/ast/ast.js\"></script><script async=\"\" src=\"https://tr1.admeira.ch/tr1.admeira.ch/v1/tagger.js\"></script><script async=\"\" src=\"//www.googletagmanager.com/gtm.js?id=GTM-WK63X8\"></script><script>document.documentElement.className = document.documentElement.className.replace(/(^|\\s)no-js(\\s|$)/, '$1js$2');</script>\n",
       "<link href=\"//lib.search.ch/itjs/?files=searchlib.css,jquery.fancybox.css,searchlib-full.css&amp;c=77d955b88f\" rel=\"stylesheet\"/>\n",
       "<link href=\"/itjs/?files=tel.css,tel-full.css&amp;c=208bfb81ee\" rel=\"stylesheet\"/>\n",
       "<link href=\"https://fonts.googleapis.com/css?family=Open+Sans:300,400,600\" rel=\"stylesheet\"/>\n",
       "<meta content=\"initial-scale=1.0, width=device-width, viewport-fit=cover\" name=\"viewport\"/>\n",
       "<meta content=\"Spittler, JÃ¼rg und Helma (-van Schoonhoven)\" name=\"apple-mobile-web-app-title\"/>\n",
       "<meta content=\"origin-when-cross-origin\" name=\"referrer\"/>\n",
       "<link href=\"//lib.search.ch/images/touch/tel.png\" rel=\"apple-touch-icon-precomposed\"/>\n",
       "<meta content=\"//lib.search.ch/images/touch/tel.png\" name=\"msapplication-TileImage\"/>\n",
       "<meta content=\"#e4002c\" name=\"msapplication-TileColor\"/>\n",
       "<link href=\"/opensearch.xml\" rel=\"search\" title=\"tel.search.ch - Das Telefonbuch\" type=\"application/opensearchdescription+xml\"/>\n",
       "<link href=\"https://tel.search.ch/?wo=Chamerstrasse+88,+Zug\" hreflang=\"x-default\" rel=\"alternate\" title=\" \"/>\n",
       "<link href=\"https://tel.search.ch/?wo=Chamerstrasse+88,+Zug\" hreflang=\"de\" rel=\"alternate\" title=\"de\"/>\n",
       "<link href=\"https://tel.search.ch/index.fr.html?wo=Chamerstrasse+88,+Zug\" hreflang=\"fr\" rel=\"alternate\" title=\"fr\"/>\n",
       "<link href=\"https://tel.search.ch/index.it.html?wo=Chamerstrasse+88,+Zug\" hreflang=\"it\" rel=\"alternate\" title=\"it\"/>\n",
       "<link href=\"https://tel.search.ch/index.en.html?wo=Chamerstrasse+88,+Zug\" hreflang=\"en\" rel=\"alternate\" title=\"en\"/>\n",
       "<link href=\"https://tel.search.ch/zug/chamerstrasse-88a/juerg-und-helma-spittler\" rel=\"canonical\"/>\n",
       "<script src=\"//cdn.admeira.ch/prod/tagmanager/loader.min.js\"></script><script src=\"https://cdn.admeira.ch/prod/tagmanager/search.ch_de/latest/atm.js\"></script><script async=\"\" src=\"https://adnz.co/dmp/publisher.js\" type=\"text/javascript\"></script><script async=\"\" src=\"https://xd.adnz.co/xdomain_cookie.js\" type=\"text/javascript\"></script></head>\n",
       "<body class=\"sl-lang-de ua-os-windows ua-firefox sl-service-tel\"><script>window.dataLayer=[{\"PageType\":\"DetailEntry\",\"EntryType\":\"Private\",\"Link\":false,\"DetailEntryCity\":\"Zug\",\"OnlineEntryID\":\"K-2u-HJoI3bCuqjuAOCv7g\",\"Ponp\":0,\"RestoBooking\":false,\"Feedbacks\":false,\"cidnc\":\"1872f1a60b31f3e2663996004eec4bb3db069d2d0289eeeed4141e8a4e6b0b60\",\"LoginType\":\"Visitor\",\"Slot\":\"tel\",\"LocalCategoryUID\":\"l8SmYm9BrwIf8ydrez31tA\",\"LocalRegionUID\":\"181\"}];</script>\n",
       "<!-- Google Tag Manager -->\n",
       "<noscript><iframe height=\"0\" src=\"//www.googletagmanager.com/ns.html?id=GTM-WK63X8\" style=\"display:none;visibility:hidden\" width=\"0\"></iframe></noscript>\n",
       "<script type=\"text/javascript\">window.sl_gtmloaded = true;\n",
       "(function(w,d,s,l,i){w[l]=w[l]||[];w[l].push({'gtm.start':new Date().getTime(),event:'gtm.js'});var f=d.getElementsByTagName(s)[0],\n",
       "j=d.createElement(s),dl=l!='dataLayer'?'&amp;l='+l:'';j.async=true;j.src='//www.googletagmanager.com/gtm.js?id='+i+dl;f.parentNode.insertBefore(j,f);\n",
       "})(window,document,'script','dataLayer','GTM-WK63X8');</script>\n",
       "<!-- End Google Tag Manager -->\n",
       "<div style=\"position:absolute\"><noscript><img alt=\"\" class=\"audit\" src=\"//search-ssl.wemfbox.ch/cgi-bin/ivw/CP/tel/de?r=https%3A%2F%2Ftel.search.ch%2F%3Fwo%3DChamerstrasse%252087a.1%252C%2520Zug\" style=\"width:0; height:0; border:0; padding:0\"/></noscript><script>(new Image()).src = '//search-ssl.wemfbox.ch/cgi-bin/ivw/CP/tel/de?r=https%3A%2F%2Ftel.search.ch%2F%3Fwo%3DChamerstrasse%252087a.1%252C%2520Zug&d=' + Math.random() + '&x=' + screen.width + 'x' + screen.height</script>\n",
       "<noscript><img alt=\"\" class=\"audit\" src=\"//www.search.ch/audit/NCP/tel/de/result\" style=\"width:0; height:0; border:0; padding:0\"/></noscript><script>(new Image()).src = '//www.search.ch/audit/NCP/tel/de/result?d=' + Math.random()</script>\n",
       "</div>\n",
       "<img alt=\"search.ch\" class=\"sl-printonly sl-logo-print\" src=\"//lib.search.ch/images/search-logo-print.svg?c=59bfec4403\"/><div class=\"sl-nav-container sl-screenonly\"><div class=\"sl-nav\"><div class=\"sl-nav-inner\"><a href=\"//www.search.ch/\" title=\"Startseite\"><div class=\"sl-logo left\" id=\"sl-logo\"></div>\n",
       "</a><div class=\"sl-login-container sl-form\" id=\"sl-profile-badge-container\"><a class=\"sl-profile-badge\" href=\"#sl-login\" title=\"Anmelden\"><span class=\"sl-icon-monospace sl-icon-profile\"></span></a></div>\n",
       "<div class=\"sl-language-selector-desktop\" id=\"sl-language-selector\"><div class=\"sl-language-list\"><a class=\"sl_state_link sl-is-active\" href=\"/?wo=Chamerstrasse+88,+Zug\">DE</a><a class=\"sl_state_link\" href=\"/index.fr.html?wo=Chamerstrasse+88,+Zug\">FR</a><a class=\"sl_state_link\" href=\"/index.it.html?wo=Chamerstrasse+88,+Zug\">IT</a><a class=\"sl_state_link\" href=\"/index.en.html?wo=Chamerstrasse+88,+Zug\">EN</a></div>\n",
       "</div>\n",
       "<ul class=\"sl-nav-items-container\"><li class=\"sl-nav-item right\"><a class=\"sl-menu-link sl-vertical-center\" href=\"#sl-flyout-menu\" id=\"sl-more-link\"><span class=\"sl-icon-monospace sl-icon-more\"></span><span class=\"sl-menu-title\">Mehr</span></a></li><li class=\"sl-nav-item sl-menu-active\" data-moveable=\"\" title=\"Offizielles Telefonbuch der Schweiz\"><a class=\"sl-menu-link sl-vertical-center\" href=\"//tel.search.ch/\"><span class=\"sl-icon-monospace sl-icon-service-tel\"></span><span class=\"sl-menu-title\">Telefonbuch</span></a></li><li class=\"sl-nav-item\" data-moveable=\"\" title=\"\"><a class=\"sl-menu-link sl-vertical-center\" href=\"//meteo.search.ch/\"><span class=\"sl-icon-monospace sl-icon-service-meteo\"></span><span class=\"sl-menu-title\">Wetter</span></a></li><li class=\"sl-nav-item\" data-moveable=\"\" title=\"Karte der Schweiz mit Routenplaner\"><a class=\"sl-menu-link sl-vertical-center\" href=\"//map.search.ch/\"><span class=\"sl-icon-monospace sl-icon-service-map\"></span><span class=\"sl-menu-title\">Karte / Route</span></a></li><li class=\"sl-nav-item\" data-moveable=\"\" title=\"Reiseplanung mit dem Ã¶ffentlichen Verkehr\"><a class=\"sl-menu-link sl-vertical-center\" href=\"//fahrplan.search.ch/\"><span class=\"sl-icon-monospace sl-icon-service-oev\"></span><span class=\"sl-menu-title\">Fahrplan</span></a></li><li class=\"sl-nav-item\" data-moveable=\"\" title=\"TV-Programm\"><a class=\"sl-menu-link sl-vertical-center\" href=\"//tv.search.ch/\"><span class=\"sl-icon-monospace sl-icon-service-tv\"></span><span class=\"sl-menu-title\">TV</span></a></li><li class=\"sl-nav-item\" data-moveable=\"\" title=\"Kinoprogramm\"><a class=\"sl-menu-link sl-vertical-center\" href=\"//kino.search.ch/\"><span class=\"sl-icon-monospace sl-icon-service-kino\"></span><span class=\"sl-menu-title\">Kino</span></a></li><li class=\"sl-nav-item\" data-moveable=\"\" title=\"Schneebericht fÃ¼r Ã¼ber 200 Schweizer Wintersport-Gebiete\"><a class=\"sl-menu-link sl-vertical-center\" href=\"//meteo.search.ch/snow\"><span class=\"sl-icon-monospace sl-icon-service-snow\"></span><span class=\"sl-menu-title\">Schnee</span></a></li><li class=\"sl-nav-item\" data-moveable=\"\" style=\"display: none;\" title=\"Suche im Schweizer Web\"><a class=\"sl-menu-link sl-vertical-center\" href=\"//web.search.ch/\"><span class=\"sl-icon-monospace sl-icon-service-web\"></span><span class=\"sl-menu-title\">Websuche</span></a></li><li class=\"sl-nav-item\" data-moveable=\"\" style=\"display: none;\" title=\"\"><a class=\"sl-menu-link sl-vertical-center\" href=\"//app.search.ch/\"><span class=\"sl-icon-monospace sl-icon-service-app\"></span><span class=\"sl-menu-title\">Apps</span></a></li></ul>\n",
       "<div class=\"sl-login-container sl-form\" id=\"sl-login\"><form action=\"//login.search.ch/login\" method=\"post\"><ul class=\"sl-floatlist\"><li class=\"sl-login-input\"><input name=\"LoginName\" placeholder=\"Benutzername\" type=\"text\"/><div class=\"sl-form-row-field-action-right sl-icon-clear\" style=\"display:none\"></div>\n",
       "</li>\n",
       "<li class=\"sl-login-input\"><input name=\"Password\" placeholder=\"Passwort\" type=\"password\"/><input name=\"Token\" type=\"hidden\" value=\"14b39c9076d2be85ab761374e8a1bf55\"/><div class=\"sl-form-row-field-action-right sl-icon-clear\" style=\"\"></div>\n",
       "</li>\n",
       "<li class=\"sl-floatlist-newline spacer\"><input name=\"f\" type=\"hidden\" value=\"https://tel.search.ch/?wo=Chamerstrasse+88,+Zug\"/><input type=\"submit\" value=\"OK\"/></li>\n",
       "<li><a class=\"sl-text-link\" href=\"//login.search.ch/register?f=https%3A%2F%2Ftel.search.ch%2F%3Fwo%3DChamerstrasse%2B88,%2BZug\"><span>Registrieren</span></a></li>\n",
       "<li class=\"sl-floatlist-newline spacer spacer\"><a class=\"sl-text-link\" href=\"//login.search.ch/forgotpassword?f=https%3A%2F%2Ftel.search.ch%2F%3Fwo%3DChamerstrasse%2B88,%2BZug\"><span>Passwort vergessen</span></a></li>\n",
       "<li class=\"sl-floatlist-newline sl-readtext\">oder</li>\n",
       "<li class=\"sl-floatlist-newline\"><a class=\"sl-text-link\" href=\"//login.search.ch/login/localch?f=https%3A%2F%2Ftel.search.ch%2F%3Fwo%3DChamerstrasse%2B88,%2BZug&amp;mode=login\" rel=\"nofollow\"><img alt=\"\" class=\"sl-share-icon\" src=\"//lib.search.ch/images/social/localch.svg?c=c55abcf23b\"/><span>Anmelden mit local.ch</span></a></li>\n",
       "<li class=\"sl-floatlist-newline\"><a class=\"sl-text-link\" href=\"//login.search.ch/login/facebook?f=https%3A%2F%2Ftel.search.ch%2F%3Fwo%3DChamerstrasse%2B88,%2BZug&amp;mode=login\" rel=\"nofollow\"><img alt=\"\" class=\"sl-share-icon\" src=\"//lib.search.ch/images/social/facebook.svg?c=097af26e38\"/><span>Anmelden mit Facebook</span></a></li>\n",
       "<li class=\"sl-floatlist-newline\"><a class=\"sl-text-link\" href=\"//login.search.ch/login/google?f=https%3A%2F%2Ftel.search.ch%2F%3Fwo%3DChamerstrasse%2B88,%2BZug&amp;mode=login\" rel=\"nofollow\"><img alt=\"\" class=\"sl-share-icon\" src=\"//lib.search.ch/images/social/google.svg?c=63bd608e7d\"/><span>Anmelden mit Google</span></a></li>\n",
       "<li class=\"sl-floatlist-newline\"><a class=\"sl-text-link\" href=\"//login.search.ch/login/linkedin?f=https%3A%2F%2Ftel.search.ch%2F%3Fwo%3DChamerstrasse%2B88,%2BZug&amp;mode=login\" rel=\"nofollow\"><img alt=\"\" class=\"sl-share-icon\" src=\"//lib.search.ch/images/social/linkedin.svg?c=e83723b6a3\"/><span>Anmelden mit LinkedIn</span></a></li>\n",
       "<li class=\"sl-floatlist-newline\"><a class=\"sl-text-link\" href=\"//login.search.ch/login/twitter?f=https%3A%2F%2Ftel.search.ch%2F%3Fwo%3DChamerstrasse%2B88,%2BZug&amp;mode=login\" rel=\"nofollow\"><img alt=\"\" class=\"sl-share-icon\" src=\"//lib.search.ch/images/social/twitter.svg?c=436ffa13d7\"/><span>Anmelden mit Twitter</span></a></li>\n",
       "<li class=\"sl-floatlist-newline sl-readtext sl-smaller\">Bitte beachten Sie, dass unsere neue <a href=\"//www.search.ch/privacy\">DatenschutzerklÃ¤rung</a> sowie die angepassten <a href=\"//www.search.ch/terms\">Nutzungsbedingungen</a> gelten.</li>\n",
       "</ul>\n",
       "<!--valid--></form>\n",
       "</div>\n",
       "</div>\n",
       "</div>\n",
       "<div class=\"sl-screenonly\" id=\"sl-service-form-container\"><form action=\"/\" id=\"tel-form-simple\" style=\"\"><div class=\"tel-feedback-col\"><div class=\"tel-feedback-row\"><div class=\"tel-bar-container\"><div class=\"tel-result-bar\" style=\"width: 100%;\"></div>\n",
       "<span class=\"tel-result-count\">1</span><span class=\"tel-result-label\">Eintrag</span></div>\n",
       "</div>\n",
       "<div><div class=\"tel-input\"><input class=\"tel-feedback\" name=\"was\" placeholder=\"Wer/Was/Telefonnummer\" title=\"Wer/Was/Telefonnummer\" type=\"text\"/><div class=\"sl-form-row-field-action-right sl-icon-clear\" style=\"display:none\"></div>\n",
       "</div>\n",
       "<div class=\"tel-input\"><input class=\"tel-feedback\" name=\"wo\" placeholder=\"Wo\" title=\"Wo\" type=\"text\" value=\"Chamerstrasse 88, Zug\"/><div class=\"sl-form-row-field-action-right sl-icon-clear\" style=\"\"></div>\n",
       "</div>\n",
       "</div>\n",
       "</div>\n",
       "<div class=\"tel-submit-col\"><label><input checked=\"\" class=\"tel-feedback\" name=\"privat\" type=\"checkbox\" value=\"1\"/>Privat</label><label><input checked=\"\" class=\"tel-feedback\" name=\"firma\" type=\"checkbox\" value=\"1\"/>Firma</label></div>\n",
       "<div class=\"tel-submit-col\"><input type=\"submit\" value=\"Suchen\"/></div>\n",
       "<div class=\"tel-form-toggle\"><a href=\"/?extended=1&amp;wo=Chamerstrasse+88,+Zug\" onclick='$(\"#tel-form-extended\").show(); $(\"#tel-form-simple\").hide(); return false'><span class=\"tel-switch-form-label\">Erweiterte Suche</span><span class=\"tel-form-spickel sl-icon-down\"></span></a></div>\n",
       "<!--valid--></form>\n",
       "<form action=\"/\" id=\"tel-form-extended\" style=\"display:none\"><div class=\"tel-feedback-col\"><div class=\"tel-feedback-row\"><div class=\"tel-bar-container\"><div class=\"tel-result-bar\" style=\"width: 2%;\"></div>\n",
       "<span class=\"tel-result-count\">2'578'309</span><span class=\"tel-result-label\">EintrÃ¤ge</span></div>\n",
       "</div>\n",
       "<div><div class=\"tel-form-extended-item\"><label class=\"tel-form-extended-label\" for=\"tel-form-extended-name\">Name/Vorname</label><div class=\"tel-input\"><input class=\"tel-feedback\" id=\"tel-form-extended-name\" name=\"name\" type=\"text\"/><div class=\"sl-form-row-field-action-right sl-icon-clear\" style=\"display:none\"></div>\n",
       "</div>\n",
       "</div>\n",
       "<div class=\"tel-form-extended-item\"><label class=\"tel-form-extended-label\" for=\"tel-form-extended-misc\">Branche/Beruf</label><div class=\"tel-input\"><input class=\"tel-feedback\" id=\"tel-form-extended-misc\" name=\"misc\" type=\"text\"/><div class=\"sl-form-row-field-action-right sl-icon-clear\" style=\"display:none\"></div>\n",
       "</div>\n",
       "</div>\n",
       "<div class=\"tel-form-extended-item\"><label class=\"tel-form-extended-label\" for=\"tel-form-extended-strasse\">Strasse</label><div class=\"tel-input\"><input class=\"tel-feedback\" id=\"tel-form-extended-strasse\" name=\"strasse\" type=\"text\"/><div class=\"sl-form-row-field-action-right sl-icon-clear\" style=\"display:none\"></div>\n",
       "</div>\n",
       "</div>\n",
       "<div class=\"tel-form-extended-item\"><label class=\"tel-form-extended-label\" for=\"tel-form-extended-ort\">Ort</label><div class=\"tel-input\"><input class=\"tel-feedback\" id=\"tel-form-extended-ort\" name=\"ort\" type=\"text\"/><div class=\"sl-form-row-field-action-right sl-icon-clear\" style=\"display:none\"></div>\n",
       "</div>\n",
       "</div>\n",
       "<div class=\"tel-form-extended-item\"><label class=\"tel-form-extended-label\" for=\"tel-form-extended-kanton\">Kanton</label><div class=\"tel-input\"><select class=\"tel-feedback tel-canton-select\" id=\"tel-form-extended-kanton\" name=\"kanton\"><option value=\"\">Alle</option>\n",
       "<option value=\"AG\">AG</option>\n",
       "<option value=\"AI\">AI</option>\n",
       "<option value=\"AR\">AR</option>\n",
       "<option value=\"BE\">BE</option>\n",
       "<option value=\"BL\">BL</option>\n",
       "<option value=\"BS\">BS</option>\n",
       "<option value=\"FR\">FR</option>\n",
       "<option value=\"GE\">GE</option>\n",
       "<option value=\"GL\">GL</option>\n",
       "<option value=\"GR\">GR</option>\n",
       "<option value=\"JU\">JU</option>\n",
       "<option value=\"LU\">LU</option>\n",
       "<option value=\"NE\">NE</option>\n",
       "<option value=\"NW\">NW</option>\n",
       "<option value=\"OW\">OW</option>\n",
       "<option value=\"SG\">SG</option>\n",
       "<option value=\"SH\">SH</option>\n",
       "<option value=\"SO\">SO</option>\n",
       "<option value=\"SZ\">SZ</option>\n",
       "<option value=\"TG\">TG</option>\n",
       "<option value=\"TI\">TI</option>\n",
       "<option value=\"UR\">UR</option>\n",
       "<option value=\"VD\">VD</option>\n",
       "<option value=\"VS\">VS</option>\n",
       "<option value=\"ZG\">ZG</option>\n",
       "<option value=\"ZH\">ZH</option>\n",
       "<option disabled=\"\" value=\" \"> </option>\n",
       "<option value=\"FL\">FL</option>\n",
       "</select>\n",
       "</div>\n",
       "</div>\n",
       "<div class=\"tel-form-extended-item\"><label class=\"tel-form-extended-label\" for=\"tel-form-extended-tel\">Telefon-Nr.</label><div class=\"tel-input\"><input class=\"tel-feedback\" id=\"tel-form-extended-tel\" name=\"tel\" type=\"text\"/><div class=\"sl-form-row-field-action-right sl-icon-clear\" style=\"display:none\"></div>\n",
       "</div>\n",
       "</div>\n",
       "</div>\n",
       "</div>\n",
       "<div class=\"tel-submit-col\"><label><input checked=\"\" class=\"tel-feedback\" name=\"privat\" type=\"checkbox\" value=\"1\"/>Privat</label><label><input checked=\"\" class=\"tel-feedback\" name=\"firma\" type=\"checkbox\" value=\"1\"/>Firma</label><input type=\"submit\" value=\"Suchen\"/></div>\n",
       "<div class=\"tel-form-toggle\"><a href=\"/?extended=0&amp;wo=Chamerstrasse+88,+Zug\" onclick='$(\"#tel-form-simple\").show(); $(\"#tel-form-extended\").hide(); return false' rel=\"nofollow\"><span class=\"tel-switch-form-label\">Einfache Suche</span><span class=\"tel-form-spickel sl-icon-up\"></span></a></div>\n",
       "<!--valid--></form>\n",
       "</div>\n",
       "</div>\n",
       "<div class=\"sl-cards-container\"><!-- Date: Sat Jan 25 21:00:10 CET 2020 -->\n",
       "<div class=\"sl-card-inner sl-banner sl-nobottommargin ad-block sl-screenonly jonly\"><table><tbody><tr><td class=\"sl-banner-left sl-card-header\"><div class=\"sl-card-header-title\">Anzeige</div>\n",
       "<div class=\"sl-icon-close sl-no-js-hidden\"></div>\n",
       "</td>\n",
       "<td class=\"sl-card-body\"><div class=\"sl-nobottommargin ad-block sl-screenonly jonly ad-block sl_bv adm-loaded\" id=\"sl-admeira-1\" style=\"position: relative; display: inline-block; width: 994px; height: 250px; margin:10px\"><div id=\"div_utif_sl-admeira-1\" style=\"display: inline;\"><iframe frameborder=\"0\" height=\"250\" id=\"utif_sl-admeira-1_43b0f3a7-275d-409b-9c5c-77a9b18b83d3\" marginheight=\"0\" marginwidth=\"0\" name=\"utif_sl-admeira-1_43b0f3a7-275d-409b-9c5c-77a9b18b83d3\" scrolling=\"no\" style=\"border: 0px none; width: 970px; height: 250px;\" tabindex=\"-1\" width=\"994\"></iframe></div></div>\n",
       "</td>\n",
       "</tr>\n",
       "</tbody></table>\n",
       "</div>\n",
       "<div class=\"tel-detail tel-person sl-col sl-col-5 sl-col-4-medium\"><section class=\"sl-card tel-title tel-detail-title\"><div class=\"sl-card-inner\"><div class=\"sl-card-body\"><table class=\"tel-detail-baseinfo\"><tbody><tr><td class=\"tel-detail-avatar\"><img alt=\"Spittler, JÃ¼rg und Helma (-van Schoonhoven)\" class=\"tel-detail-image\" src=\"/images/person.png?c=9999\"/></td>\n",
       "<td><div class=\"tel-detail-categories\"></div>\n",
       "<div></div>\n",
       "<h1>Spittler, JÃ¼rg und Helma <span class=\"sl-nowrap\">(-van Schoonhoven)</span></h1>\n",
       "<div class=\"tel-detail-address\"><div class=\"sl-paragraph\"><span class=\"adr\"><span class=\"street-address\">Chamerstrasse 88A</span><br/>\n",
       "<span class=\"tel-zipcity\"><span class=\"postal-code\">6300</span> <span class=\"locality\">Zug</span><span class=\"region\"></span></span></span><br/>\n",
       "</div>\n",
       "</div>\n",
       "<div><table class=\"sl-contact-table\"><tbody><tr><td>Telefon</td>\n",
       "<td><span class=\"sl-nowrap\"><a class=\"value\" data-entrytype=\"Private\" data-ponp=\"0\" href=\"//tel.search.ch/voip.html?tel=0435385155\" title=\"Ãœber VoIP kontaktieren\">043 538 51 55</a> <span title=\"* WÃ¼nscht keine Werbung\">*</span></span></td>\n",
       "</tr>\n",
       "</tbody><tfoot><tr><td></td>\n",
       "<td>* WÃ¼nscht keine Werbung</td>\n",
       "</tr>\n",
       "</tfoot>\n",
       "</table>\n",
       "</div>\n",
       "</td>\n",
       "</tr>\n",
       "</tbody></table>\n",
       "</div>\n",
       "<div class=\"sl-card-footer\"><nav><ol class=\"sl-buttons sl-screenonly\"><li><a class=\"sl-icon-tel-vcard sl-button\" href=\"/vcard/Spittler.vcf?key=eb65d837d91184ba\">vCard</a></li>\n",
       "<li><a class=\"sl-button sl-icon-service-route\" href=\"//map.search.ch/..Spittler,J%C3%BCrg-und-Helma-van-Schoonhoven-,Zug,Chamerstr.88A\">Route</a></li>\n",
       "<li><a class=\"sl-button sl-icon-service-oev\" href=\"//fahrplan.search.ch/..Spittler,J%C3%BCrg-und-Helma-van-Schoonhoven-,Zug,Chamerstr.88A\">Fahrplan</a></li>\n",
       "<li><a class=\"sl-button sl-icon-favorite\" href=\"#\">Zu Favoriten</a></li>\n",
       "<li><a class=\"sl-button sl-icon-edit\" href=\"/edit/?id=eb65d837d91184ba\" title=\"Eintrag bearbeiten\">Bearbeiten</a></li>\n",
       "</ol>\n",
       "</nav>\n",
       "</div>\n",
       "</div>\n",
       "</section>\n",
       "<div class=\"tel-footnote\">Datenquelle: Swisscom Directories AG</div>\n",
       "<div style=\"clear:both\"></div>\n",
       "</div>\n",
       "<div class=\"sl-col sl-col-3 sl-col-4-medium\"><section class=\"sl-card tel-map\"><div class=\"sl-card-inner\"><header><h2 class=\"sl-card-header-title\"><a class=\"sl-icon-card-go\" href=\"//map.search.ch/Spittler,J%C3%BCrg-und-Helma-van-Schoonhoven-,Zug,Chamerstr.88A\">Auf Karte zeigen</a></h2>\n",
       "</header>\n",
       "<a href=\"//map.search.ch/Spittler,J%C3%BCrg-und-Helma-van-Schoonhoven-,Zug,Chamerstr.88A\"><div class=\"sl-map-card-container\"><img alt=\"Chamerstrasse 88A, 6300 Zug\" src=\"//map.search.ch/standort/Zug,Chamerstr.88a.jpg\"/></div>\n",
       "</a></div>\n",
       "</section>\n",
       "<div class=\"sl-card-inner sl-banner ad-block sl-screenonly jonly\"><table><tbody><tr><td class=\"sl-banner-left sl-card-header\"><div class=\"sl-card-header-title\">Anzeige</div>\n",
       "<div class=\"sl-icon-close sl-no-js-hidden\"></div>\n",
       "</td>\n",
       "<td class=\"sl-card-body\"><div class=\"ad-block sl-screenonly jonly ad-block sl_bv adm-loaded\" id=\"sl-admeira-2\" style=\"position: relative; display: inline-block; width: 300px; height: 250px; margin:10px\"><div id=\"div_utif_sl-admeira-2\" style=\"display: inline;\"><img height=\"0\" id=\"anx_1876673451580029612608\" src=\"https://fra1-ib.adnxs.com/it?an_audit=0&amp;referrer=https%3A%2F%2Ftel.search.ch%2F%3Fwo%3DChamerstrasse%252088%252C%2520Zug&amp;e=wqT_3QLVCKBVBAAAAwDWAAUBCK2ttfEFEJW1-vbUsq_TWhgAKjYJSuoENBG2CEARSg0JJBkAAABAMzMQQCERGwApEQnwvDEAAACAwvUIQDChgpwHONpHQNpHSAJQkae-WViz7G5gAGi4m4gBePTdBIABAYoBA1VTRJIBA0NIRpgBrAKgAfoBqAEBsAEAuAEBwAEEyAEC0AEA2AEA4AEA8AEA-gEsU2VhcmNoLmNoX0RFX0Rlc2t0b3BfVGVsZWZvbmJ1Y2hEZXRhaWxzX01SXzGKAll1ZignYScsIDMyNDUyMDUsIDE1ODAwMjk2MTMpO3VmKCdpJywgMzAzNDg5NiwgMTodADxyJywgMTg3NjY3MzQ1LCAxHR_0FwGSAtECIThrUWlIUWp3a2Q0UUVKR252bGtZQUNDejdHNHdBRGdBUUFSSTJrZFFvWUtjQjFnQVlQX19fXzhQYUFCd0FYZ0JnQUVCaUFFQmtBRUJtQUVCb0FFQnFBRURzQUVBdVFHLTBFekZBQUFJUU1FQlAzT3ROUkcyQ0VESkFUSWJMakREU19FXzJRRnFFeWYzT3hUdlAtQUJrSjY1QWZVQkFBQUFBSmdDQUtBQ0FMVUNBQUFBQUwwQ0FBQUFBTUFDQWNnQ0FkQUNBZGdDQWVBQ0FPZ0NBUGdDQUlBREFaZ0RBYWdEOEpIZUVMb0RDVVpTUVRFNk5EQXdOT0FEZ2hxQUJBQ0lCQUNRQkFDWUJBSEJCQUFBQUFBBWcIeVFRBQgFARhOZ0VBUEVFBQwFATBENEJBQ0lCYVFmcVFWGbw0dy4umgKJASFxaEQ0WEE2VQEkcy14dUlBUW9BRBVIiElRRG9KUmxKQk1UbzBNREEwUUlJYVNXb1RKX2M3Rk84X1VRBW4FAQBXHZAAWR0MAGEdDABjHQx8ZUFBLtgC76EB4ALY3kfqAjVodHRwczovL3RlbC5zZWFJg_D9Lz93bz1DaGFtZXJzdHJhc3NlJTIwODglMkMlMjBadWeAAwCIAwGQAwCYAxegAwGqAwDAA6wCyAMA2AP_7TfgAwDoAwD4AwGABACSBAYvdXQvdjOYBACiBAwyMTcuMTk0LjUxLjmoBACyBBAIABABGKwCIPoBKAAwADgCuAQAwAQAyAQA0gQOOTE3OCNGUkExOjQwMDTaBAIIAeAEAfAEkae-WYgFAZgFAKAF____________AcAFAMkFAAAAAAAA8D_SBQkJAAAAAAAAAADYBQHgBQHwBQH6BQQIABAAkAYAmAYAuAYAwQYAAAAAAADwP9AGqy_aBhYKEAAAAAABNBEBUBAAGADgBgHyBgIIAIAHAYgHAKAHAQ..&amp;s=eb17e2e9a59b3115c3c1e71ff2b91bca1267672c\" style=\"display: none;\" width=\"0\"/><iframe class=\"bc-3241626\" frameborder=\"0\" height=\"250px\" id=\"bc-3241626\" marginheight=\"0\" marginwidth=\"0\" name=\"utif_sl-admeira-2_ac432a85-9a08-4615-88b2-b8655712e2bf\" scrolling=\"no\" style=\"border: 0px none; overflow: hidden; height: 250px;\" tabindex=\"-1\" width=\"300px\"></iframe></div></div>\n",
       "</td>\n",
       "</tr>\n",
       "</tbody></table>\n",
       "</div>\n",
       "</div>\n",
       "</div>\n",
       "<div class=\"sl-footer\"><div class=\"sl-flyout-menu\" id=\"sl-flyout-menu\"><div class=\"sl-more-column\" style=\"margin-right: 12px;\"><ul class=\"sl-more-links-list\" id=\"sl-more-links-list\"><li class=\"\" data-moveable=\"\" title=\"Suche im Schweizer Web\"><a class=\"sl-menu-link\" href=\"//web.search.ch/\"><span class=\"sl-icon-monospace sl-icon-service-web\"></span><span class=\"sl-menu-title\">Websuche</span></a></li><li class=\"\" data-moveable=\"\" title=\"\"><a class=\"sl-menu-link\" href=\"//app.search.ch/\"><span class=\"sl-icon-monospace sl-icon-service-app\"></span><span class=\"sl-menu-title\">Apps</span></a></li></ul>\n",
       "</div>\n",
       "<div class=\"sl-footer-column\" style=\"margin-right: 242px;\"><ul class=\"sl-footer-link-list\"><li><a href=\"//www.search.ch/about.html\">Ãœber search.ch</a></li>\n",
       "<li><a href=\"https://www.localsearch.ch/de/career\">Offene Stellen</a></li>\n",
       "<li><a href=\"//www.search.ch/terms.html\">Nutzungsbedingungen</a></li>\n",
       "<li><a href=\"//www.search.ch/privacy.html\">DatenschutzerklÃ¤rung</a></li>\n",
       "<li><a href=\"//www.localsearch.ch/de/dienste-fuer-kmu/displaywerbung\">Werbung schalten</a></li>\n",
       "<li><a href=\"//www.localsearch.ch/de/werberichtlinie\">Werberichtlinie</a></li>\n",
       "<li><a href=\"//www.search.ch/contact.html?s=tel\">Kontakt</a></li>\n",
       "<li><a href=\"https://www.localsearch.ch/de/media\">Medien</a></li>\n",
       "<li><a href=\"//blog.search.ch/?lang=de\">Unser Blog</a></li>\n",
       "<li class=\"sl-no-js-hidden\"><a class=\"sl-start-tour\" href=\"#\">Tipps &amp; Tricks</a></li>\n",
       "<li><a href=\"//api.search.ch/\">Entwickler</a></li>\n",
       "</ul>\n",
       "</div>\n",
       "</div>\n",
       "</div>\n",
       "<div class=\"sl-tribune-ad ad-block\" style=\"display: none\"><div class=\"ad-block sl_bv\" id=\"sl-admeira-tribune\" style=\"position: relative; display: inline-block; width: 100%; height: 100%\"></div>\n",
       "</div>\n",
       "<script>window.trace += \"e\";document.domain = \"search.ch\"; var env = {\"telid\":\"eb65d837d91184ba\",\"niceurl\":\"\\/zug\\/chamerstrasse-88a\\/juerg-und-helma-spittler\",\"fav_secret\":\"1580029610g87da6cd7227fc5f5350536a1544eb052g193e6b31f8bf4fbeb4aff812b8b603f32140b47b7fdb2545e9b9e007873731d9g078d9ce84740647a7f93dee819a464eb\",\"t\":{\"tel_fav_buttonafter_add\":\"Aus Favoriten entfernen\",\"tel_fav_buttonafter_delete\":\"Zu Favoriten\",\"tel_entries\":\"EintrÃ¤ge\",\"tel_entry\":\"Eintrag\",\"tel_unknown_inaccurate\":\"unbekannt\\/ungenau\"},\"tel_feedbackurl\":\"\\/feedback.de.php\",\"feedbackfields\":{\"name\":\"N\",\"misc\":\"M\",\"strasse\":\"S\",\"ort\":\"O\",\"kanton\":\"K\",\"tel\":\"T\",\"was\":\"A\",\"wo\":\"W\",\"privat\":\"P\",\"firma\":\"F\",\"iquery\":\"Q\",\"all\":\"E\"},\"lang\":\"de\",\"audit_url\":\"\\/\\/www.search.ch\\/audit\\/CP\\/tel\\/de\\/result\",\"lib_url\":\"\\/\\/lib.search.ch\\/\",\"www_url\":\"\\/\\/www.search.ch\\/\",\"page\":\"result\",\"bench\":1,\"servertype\":\"live\",\"ua\":{\"os\":\"windows\",\"osversion\":\"10\",\"apptype\":false,\"appversion\":0,\"full\":true,\"mobile\":false},\"T\":{\"sl_locateme_denied\":\"Sie haben uns nicht gestattet, Ihre aktuelle Position abzufragen.\",\"sl_locateme_error\":\"Die aktuelle Position konnte nicht bestimmt werden.\",\"sl_locateme_retry\":\"Erneut Position bestimmen\",\"sl_share_page\":\"Seite teilen\"},\"post\":0,\"ad_init\":{\"platform\":\"Desktop\",\"channel\":\"TelefonbuchDetails\",\"targeting\":{\"search_reg\":[\"6300\"]}},\"ad_slots\":[{\"slot\":\"WB_1\",\"container\":\"sl-admeira-1\",\"sizes\":[\"994x250\",\"970x250\"]},{\"slot\":\"MR_1\",\"container\":\"sl-admeira-2\",\"sizes\":[\"300x250\"]}]};; new Image().src = \"//lib.search.ch/sizes.gif?w=\" + window.innerWidth + \"&h=\" + window.innerHeight + \"&r=\" + (window.devicePixelRatio ? window.devicePixelRatio : 1) + \"&f=\" + window.getComputedStyle(document.querySelector(\"html\")).getPropertyValue(\"font-size\"); \n",
       "window.onerror = function (errmsg, file, line, column, errorObj) {\n",
       "\tvar stack = errorObj && errorObj.stack ? \"&stack=\" + errorObj.stack : \"\";\n",
       "\tvar errstr = typeof errmsg !== 'string' ? 'event keys:' + Object.keys(errmsg).join() : errmsg;\n",
       "\tvar el = document.activeElement;\n",
       "\tvar typing = el && (el.tagName.toLowerCase() == 'input' && el.type == 'text' || el.tagName.toLowerCase() == 'textarea');\n",
       "\tif (!typing && !window.sl_noretry && errstr.match(/SyntaxError/) && !window.location.href.match(/retry=/) && !env.post)\n",
       "\t\twindow.location.replace(window.location.href + (window.location.search ? \"&retry=2\" : \"?retry=2\"))\n",
       "\telse if (!window.sl_errurl)\n",
       "\t\twindow.sl_errurl = (new Image()).src = (\"/itjs/error.gif?errmsg=\" + encodeURIComponent(errstr) + \"&file=\" + encodeURIComponent(file) + \"&line=\" + line + \"&trace=\" + window.trace.substr(9) + \"&gotjs=\" + encodeURIComponent(window.it_gotjs + stack)).substr(0, 1900);\n",
       "\t\n",
       "}\n",
       "\n",
       "// Ads coming from external adservers can close their container if they have no content to avoid white boxes\n",
       "\"addEventListener\" in window && window.addEventListener(\"message\", function(ev) {\n",
       "\tvar height = (ev.data.height - 0) || 0;\n",
       "\t//var width = (ev.data.width - 0) || 0;\n",
       "\tvar id  = ev.data.id || ev.data;\n",
       "\tvar scale = 1, margin = 0, s;\n",
       "\tvar classregex = new RegExp(height ? 'sl-banner(-content)?(\\\\s|$)' : 'sl-banner(\\\\s|$)');\n",
       "\tfor (var e = document.getElementById(id); e; e = e.parentNode) {\n",
       "\t\tif (e.style && e.style.transform && (s = e.style.transform.match(/scale\\(([0-9.]+)\\)/)) && s[1]) {\n",
       "\t\t\tscale = s[1];\n",
       "\t\t\tmargin = 10;\n",
       "\t\t}\n",
       "\t\tif (classregex.test(e.className)) {\n",
       "\t\t\tif (/map-banner-card/.test(e.className))\t// Banners on map have title bar */\n",
       "\t\t\t\tmargin += 40;\n",
       "\t\t\tif (height)\n",
       "\t\t\t\te.style.height = ((height * scale) + margin) + \"px\";\n",
       "\t\t\telse\n",
       "\t\t\t\te.style.display = \"none\";\n",
       "\t\t\tbreak;\n",
       "\t\t}\n",
       "\t}\n",
       "}, false);\n",
       "window.trace += \"E\";</script>\n",
       "<script src=\"/itjs/?files=jquerybuild.js,sl_core.js,sl.js,nav-full.js,service-form.js,geo.js,overlay.js,sl_sortable.js,jquery.fancybox.js,sl_state.js,tel-common.js,tel-full.js,fbpreload.js&amp;c=55e04dd215\"></script>\n",
       "<script>window.trace += \"l\";\n",
       "\t\t\t\n",
       "\t\t\tif (!(\"$\" in window) && !window.location.href.match(/retry=/) && !env.post)\n",
       "\t\t\t\twindow.location.replace(window.location.href + (window.location.search ? \"&retry=1\" : \"?retry=1\"));\n",
       "\t\t\telse\n",
       "\t\t\t$(document).ready(function () {\n",
       "\t\t\t\twindow.sl_noretry = 1;\n",
       "\t\t\t\t$(document).on(\"click\",\".sl-banner .sl-icon-close\", function() {\n",
       "\t\t\t\t\t$(this).closest(\".sl-banner\").animate({ height:0, padding:0 }, { duration:100, complete: function () { $(this).remove(); } })\n",
       "\t\t\t\t\t\t.find(\".sl_bv\").each(function() { new Image().src = \"//lib.search.ch/images/0.gif?r=\" + Math.random() + \"&banner_close=\" + this.id})\n",
       "\t\t\t\t});\n",
       "\t\t\t\tif ($(window).height() < 900 || $(window).width() < 1000)\n",
       "\t\t\t\t\t$(\".sl-banner .sl-card-body, .sl-banner-brandingday\").each(function() {\n",
       "\t\t\t\t\t\tvar img = $(this).find(\"#embedad0,iframe,img\");\n",
       "\t\t\t\t\t\tvar imgwidth = img.width();\n",
       "\t\t\t\t\t\tvar imgheight = img.height();\n",
       "\t\t\t\t\t\tvar scale = 0;\n",
       "\t\t\t\t\t\tvar origin = \"top\";\n",
       "\t\t\t\t\t\tif (imgwidth > $(window).width())\n",
       "\t\t\t\t\t\t{\n",
       "\t\t\t\t\t\t\tscale = ($(window).width() - 28) / imgwidth;\n",
       "\t\t\t\t\t\t\torigin = \"top left\";\n",
       "\t\t\t\t\t\t}\n",
       "\t\t\t\t\t\tif (scale)\n",
       "\t\t\t\t\t\t{\n",
       "\t\t\t\t\t\t\tvar h = $(this).height() * scale;\n",
       "\t\t\t\t\t\t\t$(this).css({ \"transform-origin\":origin, transform:\"scale(\" + scale + \")\", height:h + 10 });\t// 2*5 pixel padding => + 10\n",
       "\t\t\t\t\t\t\tif ($(this).is(\"td\"))\n",
       "\t\t\t\t\t\t\t\t$(this).closest(\"table\").height(h).find(\"tr,td,td div\").height(h);\n",
       "\t\t\t\t\t\t}\n",
       "\t\t\t\t\t});\n",
       "\t\t\t\tif (location.pathname != env.niceurl && \"history\" in window && \"replaceState\" in history)\n",
       "\t\t\t\t\thistory.replaceState(\"state\" in history ? history.state : null, \"\", env.niceurl);\n",
       "\t\t\t$(\"input:text:visible,input[type=email]:visible,textarea:visible\").first().each(function() { if (!$(this).attr(\"value\") && (!window.location.hash || window.location.hash.match(/^#[\\&\\?]/))) $(this).focus() });;search_state_init();\n",
       "});window.trace += \"L\";</script>\n",
       "<script>$(function() {\n",
       "\t\t\t$(\".sl-start-tour\").on(\"click\", function(e) {\n",
       "\t\t\t\tvar startTour = function () {\n",
       "\t\t\t\t\ttry { hopscotch.startTour({\"id\":\"search-tour\",\"i18n\":{\"nextBtn\":\"Weiter\",\"prevBtn\":\"Zur\\u00fcck\",\"doneBtn\":\"Tour beenden\",\"closeTooltip\":\" \"},\"steps\":[{\"placement\":\"bottom\",\"width\":250,\"zindex\":10001,\"xOffset\":\"10px\",\"arrowOffset\":\"10px\",\"showCloseButton\":true,\"showPrevButton\":true,\"showNextButton\":true,\"target\":\".tel-input:first-child:visible\",\"title\":\"Schnelle Suche\",\"content\":\"Namen, Branchen und Telefonnummern ins erste Feld. Strassen und Orte ins \\u00abWo\\u00bb-Feld.\"},{\"placement\":\"bottom\",\"width\":250,\"zindex\":10001,\"xOffset\":\"-257px\",\"arrowOffset\":\"243px\",\"showCloseButton\":true,\"showPrevButton\":true,\"showNextButton\":true,\"target\":\".tel-form-spickel:visible\",\"title\":\"Erweiterte Suche\",\"content\":\"Erweitertes Suchformular f\\u00fcr Branchen und die gezielte geographische Suche.\"},{\"placement\":\"right\",\"width\":250,\"zindex\":10001,\"xOffset\":\"0\",\"arrowOffset\":\"center\",\"showCloseButton\":true,\"showPrevButton\":true,\"showNextButton\":true,\"target\":\".tel-category-list:visible\",\"title\":\"Top Rubriken\",\"content\":\"Gew\\u00fcnschte Rubrik w\\u00e4hlen, zus\\u00e4tzliche Angaben erg\\u00e4nzen, Suche abschicken.\"},{\"placement\":\"bottom\",\"width\":250,\"zindex\":10001,\"xOffset\":\"center\",\"arrowOffset\":\"center\",\"showCloseButton\":true,\"showPrevButton\":true,\"showNextButton\":true,\"target\":\".tel-feedback-row:visible\",\"title\":\"Feedback-Balken\",\"content\":\"Tippen Sie, bis der Balken gr\\u00fcn erscheint. Keine weiteren Eingaben sind notwendig.\"},{\"placement\":\"bottom\",\"width\":250,\"zindex\":10001,\"xOffset\":\"center\",\"arrowOffset\":\"center\",\"showCloseButton\":true,\"showPrevButton\":true,\"showNextButton\":true,\"target\":\".tel-feedback:visible\",\"title\":\"Teilbegriffe\",\"content\":\"Sie erhalten Suchergebnisse schon nach Eingeben des Wortanfanges.\"}]}) } catch(e) {}\n",
       "\t\t\t\t};\n",
       "\n",
       "\t\t\t\te.preventDefault();\n",
       "\t\t\t\tif ($(\".sl-flyout-menu\").hasClass(\"open\"))\n",
       "\t\t\t\t\t$(\"#sl-more-link\").click();\t// Close menu\n",
       "\n",
       "\t\t\t\tif (\"hopscotch\" in window)\n",
       "\t\t\t\t\tstartTour();\n",
       "\t\t\t\telse {\n",
       "\t\t\t\t\t$(\"<link>\").appendTo(\"head\").attr({\n",
       "\t\t\t\t\t\ttype: \"text/css\",\n",
       "\t\t\t\t\t\trel: \"stylesheet\",\n",
       "\t\t\t\t\t\thref: \"/itjs/hopscotch.css\"\n",
       "\t\t\t\t\t});\n",
       "\n",
       "\t\t\t\t\t$.getScript(\"/itjs/hopscotch.min.js\", startTour);\n",
       "\t\t\t\t}\n",
       "\n",
       "\t\t\t\tnew Image().src = \"//lib.search.ch/tours.gif?service=tel_full&t=\" + Math.floor(Date.now() / 1000);\n",
       "\t\t\t});\n",
       "\t\t\ttry {\n",
       "\t\t\t\tif (window.location.href.match(/(\\?|&)tour=1($|&)/) || hopscotch.getState() !== null)\n",
       "\t\t\t\t\t$(\".sl-start-tour\").first().click();\n",
       "\t\t\t} catch(e) {}\n",
       "\t\t})</script><iframe height=\"0\" src=\"//8013511.fls.doubleclick.net/activityi;src=8013511;type=aware0;cat=pagev0;ord=1972089317725;gtm=2wg1f1;auiddc=868932790.1580021995;u1=de;u2=%2Fzug%2Fchamerstrasse-88a%2Fjuerg-und-helma-spittler;u3=1057;~oref=https%3A%2F%2Ftel.search.ch%2Fzug%2Fchamerstrasse-88a%2Fjuerg-und-helma-spittler?\" style=\"display: none; visibility: hidden;\" width=\"0\"></iframe><iframe height=\"0\" src=\"//8013511.fls.doubleclick.net/activityi;src=8013511;type=aware0;cat=pagev00;ord=5795127303726;gtm=2wg1f1;auiddc=868932790.1580021995;u1=de;~oref=https%3A%2F%2Ftel.search.ch%2Fzug%2Fchamerstrasse-88a%2Fjuerg-und-helma-spittler?\" style=\"display: none; visibility: hidden;\" width=\"0\"></iframe><iframe height=\"0\" src=\"//8415151.fls.doubleclick.net/activityi;src=8415151;type=pagev0;cat=pagev00;ord=2354685633984;gtm=2wg1f1;auiddc=868932790.1580021995;u1=%2Fzug%2Fchamerstrasse-88a%2Fjuerg-und-helma-spittler;u2=de;u3=https%3A%2F%2Ftel.search.ch%2F%3Fwo%3DChamerstrasse%252087a.1%252C%2520Zug;u4=Visitor;u8=Zug;~oref=https%3A%2F%2Ftel.search.ch%2Fzug%2Fchamerstrasse-88a%2Fjuerg-und-helma-spittler?\" style=\"display: none; visibility: hidden;\" width=\"0\"></iframe>\n",
       "<script id=\"\" type=\"text/javascript\">document.cookie=google_tag_manager[\"GTM-WK63X8\"].macro(3)?\"_fl_pageCount\\x3d\"+(parseInt(google_tag_manager[\"GTM-WK63X8\"].macro(4))+1)+\";path\\x3d/\":\"_fl_pageCount\\x3d1; path\\x3d/\";</script><meta content=\"â€œFE3D903C18D267D06FFF685D28B4653Bâ€\" name=\"â€œmsvalidate.01â€\"/><script id=\"\" src=\"//pixel.mathtag.com/event/js?mt_id=1239265&amp;mt_adid=196295&amp;mt_exem=&amp;mt_excl=1872f1a60b31f3e2663996004eec4bb3db069d2d0289eeeed4141e8a4e6b0b60&amp;mt_uuid=1872f1a60b31f3e2663996004eec4bb3db069d2d0289eeeed4141e8a4e6b0b60&amp;v1=&amp;v2=&amp;v3=&amp;s1=&amp;s2=&amp;s3=\" type=\"text/javascript\"></script><script id=\"\" src=\"//pixel.mathtag.com/event/js?mt_id=1289215&amp;mt_adid=196293&amp;mt_exem=&amp;mt_excl=&amp;v1=undefined&amp;v2=&amp;v3=&amp;v4=Zug&amp;s1=https%3A%2F%2Ftel.search.ch%2Fzug%2Fchamerstrasse-88a%2Fjuerg-und-helma-spittler&amp;s2=de&amp;s3=https%3A%2F%2Ftel.search.ch%2F%3Fwo%3DChamerstrasse%252087a.1%252C%2520Zug&amp;s4=Visitor\" type=\"text/javascript\"></script><style data-outer-style=\"1\">.bc-3241626 {\n",
       "  width: 300px;\n",
       "  max-width: 100%;\n",
       "  border: 1px solid #c8c8c8;\n",
       "  box-sizing: border-box;\n",
       "  border-radius: 3.008px;\n",
       "}</style><iframe id=\"xdomain_cookie_1580029613251\" src=\"https://xd.adnz.co/xdomain_cookie.html#%7B%22namespace%22%3A%22xdAdnz%22%2C%22window_origin%22%3A%22https%3A%2F%2Ftel.search.ch%22%2C%22iframe_origin%22%3A%22https%3A%2F%2Fxd.adnz.co%22%2C%22debug%22%3Afalse%7D\" style=\"display: none;\"></iframe></body></html>"
      ]
     },
     "execution_count": 76,
     "metadata": {},
     "output_type": "execute_result"
    }
   ],
   "source": [
    "soup_t"
   ]
  },
  {
   "cell_type": "code",
   "execution_count": 77,
   "metadata": {},
   "outputs": [],
   "source": [
    "div_t_list=soup_t.find_all(\"div\")"
   ]
  },
  {
   "cell_type": "code",
   "execution_count": 78,
   "metadata": {
    "scrolled": true
   },
   "outputs": [
    {
     "data": {
      "text/plain": [
       "79"
      ]
     },
     "execution_count": 78,
     "metadata": {},
     "output_type": "execute_result"
    }
   ],
   "source": [
    "#Adresse mit 17 Einträgen: len 120\n",
    "#Adresse mit keinem Eintrag: len 76, wird bestätigt mit file 1005\n",
    "#Adresse mit 5 Einträgen: len 99\n",
    "#Adresse mit 13 Einträgen: len 120\n",
    "#Adresse mit 2 Einträgen: len 91\n",
    "#Adresse mit einem Eintrag: len 79\n",
    "len(div_t_list)"
   ]
  },
  {
   "cell_type": "code",
   "execution_count": 100,
   "metadata": {},
   "outputs": [
    {
     "data": {
      "text/plain": [
       "<div class=\"sl-form-row-field-action-right sl-icon-clear\" style=\"display:none\"></div>"
      ]
     },
     "execution_count": 100,
     "metadata": {},
     "output_type": "execute_result"
    }
   ],
   "source": [
    "# Wo finde ich meine Angaben. Bingo, hier die Adresse unter section value.\n",
    "# bei fast allen auf Position [50]\n",
    "# bei einem einzigen [48]\n",
    "div_t_list[40]"
   ]
  },
  {
   "cell_type": "code",
   "execution_count": 89,
   "metadata": {},
   "outputs": [],
   "source": [
    "section=div_t_list[48].find_all(\"section\")[1] \n",
    "#für 17 Einträge ist es Position[2] \n",
    "# keine Einträge Position [1]\n",
    "#bei 5 Einrägen ist es Position [1]\n",
    "# 13 Einräge Position [2]\n",
    "# 3 Einträge Position [1]"
   ]
  },
  {
   "cell_type": "code",
   "execution_count": 90,
   "metadata": {},
   "outputs": [
    {
     "ename": "IndexError",
     "evalue": "list index out of range",
     "output_type": "error",
     "traceback": [
      "\u001b[1;31m---------------------------------------------------------------------------\u001b[0m",
      "\u001b[1;31mIndexError\u001b[0m                                Traceback (most recent call last)",
      "\u001b[1;32m<ipython-input-90-e209a620078d>\u001b[0m in \u001b[0;36m<module>\u001b[1;34m\u001b[0m\n\u001b[1;32m----> 1\u001b[1;33m \u001b[0msection\u001b[0m\u001b[1;33m.\u001b[0m\u001b[0mfind_all\u001b[0m\u001b[1;33m(\u001b[0m\u001b[1;34m\"h4\"\u001b[0m\u001b[1;33m)\u001b[0m\u001b[1;33m[\u001b[0m\u001b[1;36m0\u001b[0m\u001b[1;33m]\u001b[0m\u001b[1;31m# bei keinen Einträgen hier die Zahl, sowie die Adrese\u001b[0m\u001b[1;33m\u001b[0m\u001b[1;33m\u001b[0m\u001b[0m\n\u001b[0m",
      "\u001b[1;31mIndexError\u001b[0m: list index out of range"
     ]
    }
   ],
   "source": [
    "section.find_all(\"h4\")[0]# bei keinen Einträgen hier die Zahl, sowie die Adrese"
   ]
  },
  {
   "cell_type": "code",
   "execution_count": 91,
   "metadata": {},
   "outputs": [
    {
     "data": {
      "text/plain": [
       "<section class=\"sl-card tel-map\"><div class=\"sl-card-inner\"><header><h2 class=\"sl-card-header-title\"><a class=\"sl-icon-card-go\" href=\"//map.search.ch/Spittler,J%C3%BCrg-und-Helma-van-Schoonhoven-,Zug,Chamerstr.88A\">Auf Karte zeigen</a></h2>\n",
       "</header>\n",
       "<a href=\"//map.search.ch/Spittler,J%C3%BCrg-und-Helma-van-Schoonhoven-,Zug,Chamerstr.88A\"><div class=\"sl-map-card-container\"><img alt=\"Chamerstrasse 88A, 6300 Zug\" src=\"//map.search.ch/standort/Zug,Chamerstr.88a.jpg\"/></div>\n",
       "</a></div>\n",
       "</section>"
      ]
     },
     "execution_count": 91,
     "metadata": {},
     "output_type": "execute_result"
    }
   ],
   "source": [
    "section"
   ]
  },
  {
   "cell_type": "code",
   "execution_count": 92,
   "metadata": {},
   "outputs": [
    {
     "ename": "IndexError",
     "evalue": "list index out of range",
     "output_type": "error",
     "traceback": [
      "\u001b[1;31m---------------------------------------------------------------------------\u001b[0m",
      "\u001b[1;31mIndexError\u001b[0m                                Traceback (most recent call last)",
      "\u001b[1;32m<ipython-input-92-cdc54cb9c6c9>\u001b[0m in \u001b[0;36m<module>\u001b[1;34m\u001b[0m\n\u001b[1;32m----> 1\u001b[1;33m \u001b[0madresse\u001b[0m\u001b[1;33m=\u001b[0m\u001b[0msection\u001b[0m\u001b[1;33m.\u001b[0m\u001b[0mfind_all\u001b[0m\u001b[1;33m(\u001b[0m\u001b[1;34m\"h1\"\u001b[0m\u001b[1;33m)\u001b[0m\u001b[1;33m[\u001b[0m\u001b[1;36m0\u001b[0m\u001b[1;33m]\u001b[0m \u001b[1;31m#hier die Adresse mit 17 Einträgen\u001b[0m\u001b[1;33m\u001b[0m\u001b[1;33m\u001b[0m\u001b[0m\n\u001b[0m",
      "\u001b[1;31mIndexError\u001b[0m: list index out of range"
     ]
    }
   ],
   "source": [
    "adresse=section.find_all(\"h1\")[0] #hier die Adresse mit 17 Einträgen"
   ]
  },
  {
   "cell_type": "code",
   "execution_count": 67,
   "metadata": {},
   "outputs": [
    {
     "data": {
      "text/plain": [
       "<h1>2 EintrÃ¤ge fÃ¼r Aabachstrasse 19b, Zug</h1>"
      ]
     },
     "execution_count": 67,
     "metadata": {},
     "output_type": "execute_result"
    }
   ],
   "source": [
    "adresse #HIer also die Adresse"
   ]
  },
  {
   "cell_type": "markdown",
   "metadata": {},
   "source": [
    "#### Offenbar gibt es noch eine andere Position, die nicht variert, welche mir die Anzahl rausgibt"
   ]
  },
  {
   "cell_type": "code",
   "execution_count": 148,
   "metadata": {},
   "outputs": [],
   "source": [
    "# versuche mit: telfront\n",
    "#1 (17 Einrägen), \n",
    "#1003 ( 0 Einträge), \n",
    "#1027 (5 Einträge )\n",
    "#1000 (13 Einträge)\n",
    "#10 (2 Einträge)\n",
    "#1005 (0 Einträge)\n",
    "# 1057 (1 Eintrag)\n",
    "\n",
    "file_t=open(folderpath+\"/Telbuch_Seiten/telfront1.htm\", encoding=\"mbcs\")\n",
    "text_t=file_t.read()\n",
    "soup_t=BeautifulSoup(text_t, 'html.parser')"
   ]
  },
  {
   "cell_type": "code",
   "execution_count": 149,
   "metadata": {},
   "outputs": [],
   "source": [
    "div_t_list=soup_t.find_all(\"div\")"
   ]
  },
  {
   "cell_type": "code",
   "execution_count": 150,
   "metadata": {},
   "outputs": [
    {
     "data": {
      "text/plain": [
       "120"
      ]
     },
     "execution_count": 150,
     "metadata": {},
     "output_type": "execute_result"
    }
   ],
   "source": [
    "#Adresse mit 17 Einträgen: len 120\n",
    "#Adresse mit keinem Eintrag: len 76, wird bestätigt mit file 1005\n",
    "#Adresse mit 5 Einträgen: len 99\n",
    "#Adresse mit 13 Einträgen: len 120\n",
    "#Adresse mit 2 Einträgen: len 91\n",
    "#Adresse mit einem Eintrag: len 79\n",
    "len(div_t_list)"
   ]
  },
  {
   "cell_type": "code",
   "execution_count": 151,
   "metadata": {
    "scrolled": false
   },
   "outputs": [
    {
     "data": {
      "text/plain": [
       "'17'"
      ]
     },
     "execution_count": 151,
     "metadata": {},
     "output_type": "execute_result"
    }
   ],
   "source": [
    "div_t_list[11].find_all(\"span\")[0].text #Hier die Anzahl Einträge\n",
    "#funktioniert für alle! :-) jupiii"
   ]
  },
  {
   "cell_type": "markdown",
   "metadata": {},
   "source": [
    "### Position zum Auslesen der Adresse finden\n",
    "Damit kann ich abgleichen ob ich auch alle Files erwischt habe - oder bei welchen ich nochmals eine Runde laufen lassen muss."
   ]
  },
  {
   "cell_type": "code",
   "execution_count": 152,
   "metadata": {},
   "outputs": [
    {
     "data": {
      "text/plain": [
       "<input class=\"tel-feedback\" name=\"wo\" placeholder=\"Wo\" title=\"Wo\" type=\"text\" value=\"Aabachstrasse 1, Zug\"/>"
      ]
     },
     "execution_count": 152,
     "metadata": {},
     "output_type": "execute_result"
    }
   ],
   "source": [
    "div_t_list[12].find_all(\"input\")[1]"
   ]
  },
  {
   "cell_type": "markdown",
   "metadata": {},
   "source": [
    "# Auslesen im Loop durch die Files"
   ]
  },
  {
   "cell_type": "code",
   "execution_count": 157,
   "metadata": {},
   "outputs": [],
   "source": [
    "anzahl_liste_t=[]\n",
    "path_t=folderpath+\"/Telbuch_Seiten/\"\n",
    "for page_t in os.listdir(path_t):\n",
    "    file_t=open(path_t+page_t,encoding=\"mbcs\")\n",
    "    text_t=file_t.read()\n",
    "    soup_t=BeautifulSoup(text_t, 'html.parser')\n",
    "    div_t_list=soup_t.find_all(\"div\")\n",
    "    anzahl_t=div_t_list[11].find_all(\"span\")[0].text\n",
    "    input_list=div_t_list[12].find_all(\"input\")\n",
    "    adresse_input=input_list[1]\n",
    "    adresse_t=str(adresse_input)\n",
    "\n",
    "    minidict_t={\"Seite\":page_t,\"Anzahl\":anzahl_t, \"Adresse\":adresse_t}\n",
    "    anzahl_liste_t.append(minidict_t)"
   ]
  },
  {
   "cell_type": "code",
   "execution_count": 158,
   "metadata": {},
   "outputs": [],
   "source": [
    "dftel_t=pd.DataFrame(anzahl_liste_t)"
   ]
  },
  {
   "cell_type": "code",
   "execution_count": 159,
   "metadata": {
    "scrolled": true
   },
   "outputs": [
    {
     "data": {
      "text/html": [
       "<div>\n",
       "<style scoped>\n",
       "    .dataframe tbody tr th:only-of-type {\n",
       "        vertical-align: middle;\n",
       "    }\n",
       "\n",
       "    .dataframe tbody tr th {\n",
       "        vertical-align: top;\n",
       "    }\n",
       "\n",
       "    .dataframe thead th {\n",
       "        text-align: right;\n",
       "    }\n",
       "</style>\n",
       "<table border=\"1\" class=\"dataframe\">\n",
       "  <thead>\n",
       "    <tr style=\"text-align: right;\">\n",
       "      <th></th>\n",
       "      <th>Seite</th>\n",
       "      <th>Anzahl</th>\n",
       "      <th>Adresse</th>\n",
       "    </tr>\n",
       "  </thead>\n",
       "  <tbody>\n",
       "    <tr>\n",
       "      <td>0</td>\n",
       "      <td>telfront1.htm</td>\n",
       "      <td>17</td>\n",
       "      <td>&lt;input class=\"tel-feedback\" name=\"wo\" placeholder=\"Wo\" title=\"Wo\" type=\"text\" value=\"Aabachstrasse 1, Zug\"/&gt;</td>\n",
       "    </tr>\n",
       "    <tr>\n",
       "      <td>1</td>\n",
       "      <td>telfront10.htm</td>\n",
       "      <td>2</td>\n",
       "      <td>&lt;input class=\"tel-feedback\" name=\"wo\" placeholder=\"Wo\" title=\"Wo\" type=\"text\" value=\"Aabachstrasse 19b, Zug\"/&gt;</td>\n",
       "    </tr>\n",
       "    <tr>\n",
       "      <td>2</td>\n",
       "      <td>telfront100.htm</td>\n",
       "      <td>7</td>\n",
       "      <td>&lt;input class=\"tel-feedback\" name=\"wo\" placeholder=\"Wo\" title=\"Wo\" type=\"text\" value=\"Alte Baarerstrasse 3, Zug\"/&gt;</td>\n",
       "    </tr>\n",
       "    <tr>\n",
       "      <td>3</td>\n",
       "      <td>telfront1000.htm</td>\n",
       "      <td>13</td>\n",
       "      <td>&lt;input class=\"tel-feedback\" name=\"wo\" placeholder=\"Wo\" title=\"Wo\" type=\"text\" value=\"Chamerstrasse 56, Zug\"/&gt;</td>\n",
       "    </tr>\n",
       "    <tr>\n",
       "      <td>4</td>\n",
       "      <td>telfront1001.htm</td>\n",
       "      <td>0</td>\n",
       "      <td>&lt;input class=\"tel-feedback\" name=\"wo\" placeholder=\"Wo\" title=\"Wo\" type=\"text\" value=\"Chamerstrasse 56.1, Zug\"/&gt;</td>\n",
       "    </tr>\n",
       "    <tr>\n",
       "      <td>...</td>\n",
       "      <td>...</td>\n",
       "      <td>...</td>\n",
       "      <td>...</td>\n",
       "    </tr>\n",
       "    <tr>\n",
       "      <td>4685</td>\n",
       "      <td>telfront995.htm</td>\n",
       "      <td>1</td>\n",
       "      <td>&lt;input class=\"tel-feedback\" name=\"wo\" placeholder=\"Wo\" title=\"Wo\" type=\"text\" value=\"Chamerstrasse 51.z, Zug\"/&gt;</td>\n",
       "    </tr>\n",
       "    <tr>\n",
       "      <td>4686</td>\n",
       "      <td>telfront996.htm</td>\n",
       "      <td>5</td>\n",
       "      <td>&lt;input class=\"tel-feedback\" name=\"wo\" placeholder=\"Wo\" title=\"Wo\" type=\"text\" value=\"Chamerstrasse 52, Zug\"/&gt;</td>\n",
       "    </tr>\n",
       "    <tr>\n",
       "      <td>4687</td>\n",
       "      <td>telfront997.htm</td>\n",
       "      <td>1</td>\n",
       "      <td>&lt;input class=\"tel-feedback\" name=\"wo\" placeholder=\"Wo\" title=\"Wo\" type=\"text\" value=\"Chamerstrasse 53, Zug\"/&gt;</td>\n",
       "    </tr>\n",
       "    <tr>\n",
       "      <td>4688</td>\n",
       "      <td>telfront998.htm</td>\n",
       "      <td>4</td>\n",
       "      <td>&lt;input class=\"tel-feedback\" name=\"wo\" placeholder=\"Wo\" title=\"Wo\" type=\"text\" value=\"Chamerstrasse 54, Zug\"/&gt;</td>\n",
       "    </tr>\n",
       "    <tr>\n",
       "      <td>4689</td>\n",
       "      <td>telfront999.htm</td>\n",
       "      <td>0</td>\n",
       "      <td>&lt;input class=\"tel-feedback\" name=\"wo\" placeholder=\"Wo\" title=\"Wo\" type=\"text\" value=\"Chamerstrasse 54.1, Zug\"/&gt;</td>\n",
       "    </tr>\n",
       "  </tbody>\n",
       "</table>\n",
       "<p>4690 rows × 3 columns</p>\n",
       "</div>"
      ],
      "text/plain": [
       "                 Seite Anzahl  \\\n",
       "0     telfront1.htm     17      \n",
       "1     telfront10.htm    2       \n",
       "2     telfront100.htm   7       \n",
       "3     telfront1000.htm  13      \n",
       "4     telfront1001.htm  0       \n",
       "...                ... ..       \n",
       "4685  telfront995.htm   1       \n",
       "4686  telfront996.htm   5       \n",
       "4687  telfront997.htm   1       \n",
       "4688  telfront998.htm   4       \n",
       "4689  telfront999.htm   0       \n",
       "\n",
       "                                                                                                                Adresse  \n",
       "0     <input class=\"tel-feedback\" name=\"wo\" placeholder=\"Wo\" title=\"Wo\" type=\"text\" value=\"Aabachstrasse 1, Zug\"/>       \n",
       "1     <input class=\"tel-feedback\" name=\"wo\" placeholder=\"Wo\" title=\"Wo\" type=\"text\" value=\"Aabachstrasse 19b, Zug\"/>     \n",
       "2     <input class=\"tel-feedback\" name=\"wo\" placeholder=\"Wo\" title=\"Wo\" type=\"text\" value=\"Alte Baarerstrasse 3, Zug\"/>  \n",
       "3     <input class=\"tel-feedback\" name=\"wo\" placeholder=\"Wo\" title=\"Wo\" type=\"text\" value=\"Chamerstrasse 56, Zug\"/>      \n",
       "4     <input class=\"tel-feedback\" name=\"wo\" placeholder=\"Wo\" title=\"Wo\" type=\"text\" value=\"Chamerstrasse 56.1, Zug\"/>    \n",
       "...                                                                                                               ...    \n",
       "4685  <input class=\"tel-feedback\" name=\"wo\" placeholder=\"Wo\" title=\"Wo\" type=\"text\" value=\"Chamerstrasse 51.z, Zug\"/>    \n",
       "4686  <input class=\"tel-feedback\" name=\"wo\" placeholder=\"Wo\" title=\"Wo\" type=\"text\" value=\"Chamerstrasse 52, Zug\"/>      \n",
       "4687  <input class=\"tel-feedback\" name=\"wo\" placeholder=\"Wo\" title=\"Wo\" type=\"text\" value=\"Chamerstrasse 53, Zug\"/>      \n",
       "4688  <input class=\"tel-feedback\" name=\"wo\" placeholder=\"Wo\" title=\"Wo\" type=\"text\" value=\"Chamerstrasse 54, Zug\"/>      \n",
       "4689  <input class=\"tel-feedback\" name=\"wo\" placeholder=\"Wo\" title=\"Wo\" type=\"text\" value=\"Chamerstrasse 54.1, Zug\"/>    \n",
       "\n",
       "[4690 rows x 3 columns]"
      ]
     },
     "execution_count": 159,
     "metadata": {},
     "output_type": "execute_result"
    }
   ],
   "source": [
    "pd.set_option('display.max_colwidth', -1)\n",
    "dftel_t"
   ]
  },
  {
   "cell_type": "code",
   "execution_count": 160,
   "metadata": {},
   "outputs": [],
   "source": [
    "# Und abspeichern:-)\n",
    "dftel_t.to_csv(folderpath+\"\\Telbook_Stadt_roh\")"
   ]
  },
  {
   "cell_type": "code",
   "execution_count": 162,
   "metadata": {
    "scrolled": true
   },
   "outputs": [
    {
     "data": {
      "text/plain": [
       "Seite      object\n",
       "Anzahl     object\n",
       "Adresse    object\n",
       "dtype: object"
      ]
     },
     "execution_count": 162,
     "metadata": {},
     "output_type": "execute_result"
    }
   ],
   "source": [
    "dftel_t.dtypes"
   ]
  },
  {
   "cell_type": "markdown",
   "metadata": {},
   "source": [
    "## Adresse rausziehen \n",
    "evtl. könnte man die Frames als erstes wieder zusammenfügen\n",
    "zuerst alle aussortieren, die überhaupt eine Zahl enthalten\n",
    "Danach splitten oder mit Regex. Da es nur eine Zahl gibt, wäre hier vielleicht Regex besser.\n"
   ]
  },
  {
   "cell_type": "code",
   "execution_count": 3,
   "metadata": {},
   "outputs": [],
   "source": [
    "dftel_t=pd.read_csv(folderpath+\"/BRFrames/Stadtzug_frontpages_ausgelesen_roh\")"
   ]
  },
  {
   "cell_type": "code",
   "execution_count": 11,
   "metadata": {},
   "outputs": [
    {
     "data": {
      "text/html": [
       "<div>\n",
       "<style scoped>\n",
       "    .dataframe tbody tr th:only-of-type {\n",
       "        vertical-align: middle;\n",
       "    }\n",
       "\n",
       "    .dataframe tbody tr th {\n",
       "        vertical-align: top;\n",
       "    }\n",
       "\n",
       "    .dataframe thead th {\n",
       "        text-align: right;\n",
       "    }\n",
       "</style>\n",
       "<table border=\"1\" class=\"dataframe\">\n",
       "  <thead>\n",
       "    <tr style=\"text-align: right;\">\n",
       "      <th></th>\n",
       "      <th>Unnamed: 0</th>\n",
       "      <th>Seite</th>\n",
       "      <th>Anzahl</th>\n",
       "      <th>Adresse</th>\n",
       "    </tr>\n",
       "  </thead>\n",
       "  <tbody>\n",
       "    <tr>\n",
       "      <td>0</td>\n",
       "      <td>0</td>\n",
       "      <td>frontpage0.htm</td>\n",
       "      <td>keine</td>\n",
       "      <td>&lt;input aria-disabled=\"false\" aria-multiline=\"f...</td>\n",
       "    </tr>\n",
       "    <tr>\n",
       "      <td>1</td>\n",
       "      <td>1</td>\n",
       "      <td>frontpage1.htm</td>\n",
       "      <td>\\n\\t\\t\\t\\tNo. of companies found: 5\\n\\t\\t\\t\\t</td>\n",
       "      <td>&lt;input aria-disabled=\"false\" aria-multiline=\"f...</td>\n",
       "    </tr>\n",
       "    <tr>\n",
       "      <td>2</td>\n",
       "      <td>2</td>\n",
       "      <td>frontpage10.htm</td>\n",
       "      <td>keine</td>\n",
       "      <td>&lt;input aria-disabled=\"false\" aria-multiline=\"f...</td>\n",
       "    </tr>\n",
       "    <tr>\n",
       "      <td>3</td>\n",
       "      <td>3</td>\n",
       "      <td>frontpage100.htm</td>\n",
       "      <td>keine</td>\n",
       "      <td>&lt;input aria-disabled=\"false\" aria-multiline=\"f...</td>\n",
       "    </tr>\n",
       "    <tr>\n",
       "      <td>4</td>\n",
       "      <td>4</td>\n",
       "      <td>frontpage1000.htm</td>\n",
       "      <td>keine</td>\n",
       "      <td>&lt;input aria-disabled=\"false\" aria-multiline=\"f...</td>\n",
       "    </tr>\n",
       "    <tr>\n",
       "      <td>...</td>\n",
       "      <td>...</td>\n",
       "      <td>...</td>\n",
       "      <td>...</td>\n",
       "      <td>...</td>\n",
       "    </tr>\n",
       "    <tr>\n",
       "      <td>4737</td>\n",
       "      <td>4737</td>\n",
       "      <td>frontpage995.htm</td>\n",
       "      <td>\\n\\t\\t\\t\\tNo. of companies found: 18\\n\\t\\t\\t\\t</td>\n",
       "      <td>&lt;input aria-disabled=\"false\" aria-multiline=\"f...</td>\n",
       "    </tr>\n",
       "    <tr>\n",
       "      <td>4738</td>\n",
       "      <td>4738</td>\n",
       "      <td>frontpage996.htm</td>\n",
       "      <td>\\n\\t\\t\\t\\tNo. of companies found: 90\\n\\t\\t\\t\\t</td>\n",
       "      <td>&lt;input aria-disabled=\"false\" aria-multiline=\"f...</td>\n",
       "    </tr>\n",
       "    <tr>\n",
       "      <td>4739</td>\n",
       "      <td>4739</td>\n",
       "      <td>frontpage997.htm</td>\n",
       "      <td>keine</td>\n",
       "      <td>&lt;input aria-disabled=\"false\" aria-multiline=\"f...</td>\n",
       "    </tr>\n",
       "    <tr>\n",
       "      <td>4740</td>\n",
       "      <td>4740</td>\n",
       "      <td>frontpage998.htm</td>\n",
       "      <td>\\n\\t\\t\\t\\tNo. of companies found: 10\\n\\t\\t\\t\\t</td>\n",
       "      <td>&lt;input aria-disabled=\"false\" aria-multiline=\"f...</td>\n",
       "    </tr>\n",
       "    <tr>\n",
       "      <td>4741</td>\n",
       "      <td>4741</td>\n",
       "      <td>frontpage999.htm</td>\n",
       "      <td>keine</td>\n",
       "      <td>&lt;input aria-disabled=\"false\" aria-multiline=\"f...</td>\n",
       "    </tr>\n",
       "  </tbody>\n",
       "</table>\n",
       "<p>4742 rows × 4 columns</p>\n",
       "</div>"
      ],
      "text/plain": [
       "      Unnamed: 0              Seite  \\\n",
       "0              0     frontpage0.htm   \n",
       "1              1     frontpage1.htm   \n",
       "2              2    frontpage10.htm   \n",
       "3              3   frontpage100.htm   \n",
       "4              4  frontpage1000.htm   \n",
       "...          ...                ...   \n",
       "4737        4737   frontpage995.htm   \n",
       "4738        4738   frontpage996.htm   \n",
       "4739        4739   frontpage997.htm   \n",
       "4740        4740   frontpage998.htm   \n",
       "4741        4741   frontpage999.htm   \n",
       "\n",
       "                                              Anzahl  \\\n",
       "0                                              keine   \n",
       "1      \\n\\t\\t\\t\\tNo. of companies found: 5\\n\\t\\t\\t\\t   \n",
       "2                                              keine   \n",
       "3                                              keine   \n",
       "4                                              keine   \n",
       "...                                              ...   \n",
       "4737  \\n\\t\\t\\t\\tNo. of companies found: 18\\n\\t\\t\\t\\t   \n",
       "4738  \\n\\t\\t\\t\\tNo. of companies found: 90\\n\\t\\t\\t\\t   \n",
       "4739                                           keine   \n",
       "4740  \\n\\t\\t\\t\\tNo. of companies found: 10\\n\\t\\t\\t\\t   \n",
       "4741                                           keine   \n",
       "\n",
       "                                                Adresse  \n",
       "0     <input aria-disabled=\"false\" aria-multiline=\"f...  \n",
       "1     <input aria-disabled=\"false\" aria-multiline=\"f...  \n",
       "2     <input aria-disabled=\"false\" aria-multiline=\"f...  \n",
       "3     <input aria-disabled=\"false\" aria-multiline=\"f...  \n",
       "4     <input aria-disabled=\"false\" aria-multiline=\"f...  \n",
       "...                                                 ...  \n",
       "4737  <input aria-disabled=\"false\" aria-multiline=\"f...  \n",
       "4738  <input aria-disabled=\"false\" aria-multiline=\"f...  \n",
       "4739  <input aria-disabled=\"false\" aria-multiline=\"f...  \n",
       "4740  <input aria-disabled=\"false\" aria-multiline=\"f...  \n",
       "4741  <input aria-disabled=\"false\" aria-multiline=\"f...  \n",
       "\n",
       "[4742 rows x 4 columns]"
      ]
     },
     "execution_count": 11,
     "metadata": {},
     "output_type": "execute_result"
    }
   ],
   "source": [
    "dftel_t"
   ]
  },
  {
   "cell_type": "code",
   "execution_count": 163,
   "metadata": {
    "scrolled": true
   },
   "outputs": [
    {
     "data": {
      "text/plain": [
       "(4690, 3)"
      ]
     },
     "execution_count": 163,
     "metadata": {},
     "output_type": "execute_result"
    }
   ],
   "source": [
    "dftel_t.shape #Stimmt mit Anzahl Adressen überein"
   ]
  },
  {
   "cell_type": "markdown",
   "metadata": {},
   "source": [
    "### Adresse"
   ]
  },
  {
   "cell_type": "code",
   "execution_count": 164,
   "metadata": {},
   "outputs": [],
   "source": [
    "dftel_t[\"Adresse\"]=dftel_t[\"Adresse\"].str.extract(\"value=\\\"(.*)\\\"\")"
   ]
  },
  {
   "cell_type": "code",
   "execution_count": 166,
   "metadata": {},
   "outputs": [
    {
     "data": {
      "text/html": [
       "<div>\n",
       "<style scoped>\n",
       "    .dataframe tbody tr th:only-of-type {\n",
       "        vertical-align: middle;\n",
       "    }\n",
       "\n",
       "    .dataframe tbody tr th {\n",
       "        vertical-align: top;\n",
       "    }\n",
       "\n",
       "    .dataframe thead th {\n",
       "        text-align: right;\n",
       "    }\n",
       "</style>\n",
       "<table border=\"1\" class=\"dataframe\">\n",
       "  <thead>\n",
       "    <tr style=\"text-align: right;\">\n",
       "      <th></th>\n",
       "      <th>Seite</th>\n",
       "      <th>Anzahl</th>\n",
       "      <th>Adresse</th>\n",
       "    </tr>\n",
       "  </thead>\n",
       "  <tbody>\n",
       "    <tr>\n",
       "      <td>0</td>\n",
       "      <td>telfront1.htm</td>\n",
       "      <td>17</td>\n",
       "      <td>Aabachstrasse 1, Zug</td>\n",
       "    </tr>\n",
       "    <tr>\n",
       "      <td>1</td>\n",
       "      <td>telfront10.htm</td>\n",
       "      <td>2</td>\n",
       "      <td>Aabachstrasse 19b, Zug</td>\n",
       "    </tr>\n",
       "    <tr>\n",
       "      <td>2</td>\n",
       "      <td>telfront100.htm</td>\n",
       "      <td>7</td>\n",
       "      <td>Alte Baarerstrasse 3, Zug</td>\n",
       "    </tr>\n",
       "    <tr>\n",
       "      <td>3</td>\n",
       "      <td>telfront1000.htm</td>\n",
       "      <td>13</td>\n",
       "      <td>Chamerstrasse 56, Zug</td>\n",
       "    </tr>\n",
       "    <tr>\n",
       "      <td>4</td>\n",
       "      <td>telfront1001.htm</td>\n",
       "      <td>0</td>\n",
       "      <td>Chamerstrasse 56.1, Zug</td>\n",
       "    </tr>\n",
       "    <tr>\n",
       "      <td>...</td>\n",
       "      <td>...</td>\n",
       "      <td>...</td>\n",
       "      <td>...</td>\n",
       "    </tr>\n",
       "    <tr>\n",
       "      <td>4685</td>\n",
       "      <td>telfront995.htm</td>\n",
       "      <td>1</td>\n",
       "      <td>Chamerstrasse 51.z, Zug</td>\n",
       "    </tr>\n",
       "    <tr>\n",
       "      <td>4686</td>\n",
       "      <td>telfront996.htm</td>\n",
       "      <td>5</td>\n",
       "      <td>Chamerstrasse 52, Zug</td>\n",
       "    </tr>\n",
       "    <tr>\n",
       "      <td>4687</td>\n",
       "      <td>telfront997.htm</td>\n",
       "      <td>1</td>\n",
       "      <td>Chamerstrasse 53, Zug</td>\n",
       "    </tr>\n",
       "    <tr>\n",
       "      <td>4688</td>\n",
       "      <td>telfront998.htm</td>\n",
       "      <td>4</td>\n",
       "      <td>Chamerstrasse 54, Zug</td>\n",
       "    </tr>\n",
       "    <tr>\n",
       "      <td>4689</td>\n",
       "      <td>telfront999.htm</td>\n",
       "      <td>0</td>\n",
       "      <td>Chamerstrasse 54.1, Zug</td>\n",
       "    </tr>\n",
       "  </tbody>\n",
       "</table>\n",
       "<p>4690 rows × 3 columns</p>\n",
       "</div>"
      ],
      "text/plain": [
       "                 Seite Anzahl                    Adresse\n",
       "0     telfront1.htm     17     Aabachstrasse 1, Zug     \n",
       "1     telfront10.htm    2      Aabachstrasse 19b, Zug   \n",
       "2     telfront100.htm   7      Alte Baarerstrasse 3, Zug\n",
       "3     telfront1000.htm  13     Chamerstrasse 56, Zug    \n",
       "4     telfront1001.htm  0      Chamerstrasse 56.1, Zug  \n",
       "...                ... ..                          ...  \n",
       "4685  telfront995.htm   1      Chamerstrasse 51.z, Zug  \n",
       "4686  telfront996.htm   5      Chamerstrasse 52, Zug    \n",
       "4687  telfront997.htm   1      Chamerstrasse 53, Zug    \n",
       "4688  telfront998.htm   4      Chamerstrasse 54, Zug    \n",
       "4689  telfront999.htm   0      Chamerstrasse 54.1, Zug  \n",
       "\n",
       "[4690 rows x 3 columns]"
      ]
     },
     "execution_count": 166,
     "metadata": {},
     "output_type": "execute_result"
    }
   ],
   "source": [
    "dftel_t"
   ]
  },
  {
   "cell_type": "code",
   "execution_count": 167,
   "metadata": {},
   "outputs": [],
   "source": [
    "dftel_t.to_csv(folderpath+\"\\Telbuch_Stadt_Adressen_extrahiert\")"
   ]
  },
  {
   "cell_type": "markdown",
   "metadata": {},
   "source": [
    "# Umlaute wie beim Handelsregister bereinigen"
   ]
  },
  {
   "cell_type": "code",
   "execution_count": 8,
   "metadata": {},
   "outputs": [],
   "source": [
    "df_adan1=pd.read_csv(folderpath+\"\\Telbuch_Stadt_Adressen_extrahiert\")"
   ]
  },
  {
   "cell_type": "code",
   "execution_count": 5,
   "metadata": {},
   "outputs": [
    {
     "data": {
      "text/html": [
       "<div>\n",
       "<style scoped>\n",
       "    .dataframe tbody tr th:only-of-type {\n",
       "        vertical-align: middle;\n",
       "    }\n",
       "\n",
       "    .dataframe tbody tr th {\n",
       "        vertical-align: top;\n",
       "    }\n",
       "\n",
       "    .dataframe thead th {\n",
       "        text-align: right;\n",
       "    }\n",
       "</style>\n",
       "<table border=\"1\" class=\"dataframe\">\n",
       "  <thead>\n",
       "    <tr style=\"text-align: right;\">\n",
       "      <th></th>\n",
       "      <th>Unnamed: 0</th>\n",
       "      <th>Seite</th>\n",
       "      <th>Anzahl</th>\n",
       "      <th>Adresse</th>\n",
       "    </tr>\n",
       "  </thead>\n",
       "  <tbody>\n",
       "    <tr>\n",
       "      <td>0</td>\n",
       "      <td>0</td>\n",
       "      <td>telfront1.htm</td>\n",
       "      <td>17</td>\n",
       "      <td>Aabachstrasse 1, Zug</td>\n",
       "    </tr>\n",
       "    <tr>\n",
       "      <td>1</td>\n",
       "      <td>1</td>\n",
       "      <td>telfront10.htm</td>\n",
       "      <td>2</td>\n",
       "      <td>Aabachstrasse 19b, Zug</td>\n",
       "    </tr>\n",
       "    <tr>\n",
       "      <td>2</td>\n",
       "      <td>2</td>\n",
       "      <td>telfront100.htm</td>\n",
       "      <td>7</td>\n",
       "      <td>Alte Baarerstrasse 3, Zug</td>\n",
       "    </tr>\n",
       "    <tr>\n",
       "      <td>3</td>\n",
       "      <td>3</td>\n",
       "      <td>telfront1000.htm</td>\n",
       "      <td>13</td>\n",
       "      <td>Chamerstrasse 56, Zug</td>\n",
       "    </tr>\n",
       "    <tr>\n",
       "      <td>4</td>\n",
       "      <td>4</td>\n",
       "      <td>telfront1001.htm</td>\n",
       "      <td>0</td>\n",
       "      <td>Chamerstrasse 56.1, Zug</td>\n",
       "    </tr>\n",
       "    <tr>\n",
       "      <td>...</td>\n",
       "      <td>...</td>\n",
       "      <td>...</td>\n",
       "      <td>...</td>\n",
       "      <td>...</td>\n",
       "    </tr>\n",
       "    <tr>\n",
       "      <td>4685</td>\n",
       "      <td>4685</td>\n",
       "      <td>telfront995.htm</td>\n",
       "      <td>1</td>\n",
       "      <td>Chamerstrasse 51.z, Zug</td>\n",
       "    </tr>\n",
       "    <tr>\n",
       "      <td>4686</td>\n",
       "      <td>4686</td>\n",
       "      <td>telfront996.htm</td>\n",
       "      <td>5</td>\n",
       "      <td>Chamerstrasse 52, Zug</td>\n",
       "    </tr>\n",
       "    <tr>\n",
       "      <td>4687</td>\n",
       "      <td>4687</td>\n",
       "      <td>telfront997.htm</td>\n",
       "      <td>1</td>\n",
       "      <td>Chamerstrasse 53, Zug</td>\n",
       "    </tr>\n",
       "    <tr>\n",
       "      <td>4688</td>\n",
       "      <td>4688</td>\n",
       "      <td>telfront998.htm</td>\n",
       "      <td>4</td>\n",
       "      <td>Chamerstrasse 54, Zug</td>\n",
       "    </tr>\n",
       "    <tr>\n",
       "      <td>4689</td>\n",
       "      <td>4689</td>\n",
       "      <td>telfront999.htm</td>\n",
       "      <td>0</td>\n",
       "      <td>Chamerstrasse 54.1, Zug</td>\n",
       "    </tr>\n",
       "  </tbody>\n",
       "</table>\n",
       "<p>4690 rows × 4 columns</p>\n",
       "</div>"
      ],
      "text/plain": [
       "      Unnamed: 0             Seite Anzahl                    Adresse\n",
       "0              0     telfront1.htm     17       Aabachstrasse 1, Zug\n",
       "1              1    telfront10.htm      2     Aabachstrasse 19b, Zug\n",
       "2              2   telfront100.htm      7  Alte Baarerstrasse 3, Zug\n",
       "3              3  telfront1000.htm     13      Chamerstrasse 56, Zug\n",
       "4              4  telfront1001.htm      0    Chamerstrasse 56.1, Zug\n",
       "...          ...               ...    ...                        ...\n",
       "4685        4685   telfront995.htm      1    Chamerstrasse 51.z, Zug\n",
       "4686        4686   telfront996.htm      5      Chamerstrasse 52, Zug\n",
       "4687        4687   telfront997.htm      1      Chamerstrasse 53, Zug\n",
       "4688        4688   telfront998.htm      4      Chamerstrasse 54, Zug\n",
       "4689        4689   telfront999.htm      0    Chamerstrasse 54.1, Zug\n",
       "\n",
       "[4690 rows x 4 columns]"
      ]
     },
     "execution_count": 5,
     "metadata": {},
     "output_type": "execute_result"
    }
   ],
   "source": []
  },
  {
   "cell_type": "code",
   "execution_count": 9,
   "metadata": {},
   "outputs": [],
   "source": [
    "df_adan1[\"Adresse\"]=df_adan1[\"Adresse\"].str.replace(\"Ã¼\",\"ü\")\n",
    "df_adan1[\"Adresse\"]=df_adan1[\"Adresse\"].str.replace(\"Ã¶\",\"ö\")\n",
    "df_adan1[\"Adresse\"]=df_adan1[\"Adresse\"].str.replace(\"Ã¤\",\"ä\")\n",
    "df_adan1[\"Adresse\"]=df_adan1[\"Adresse\"].str.replace(\"Ã„\",\"Ä\")\n",
    "df_adan1[\"Adresse\"]=df_adan1[\"Adresse\"].str.replace(\"Ã–\",\"Ö\")\n",
    "df_adan1[\"Adresse\"]=df_adan1[\"Adresse\"].str.replace(\"Ãœ\",\"Ü\")"
   ]
  },
  {
   "cell_type": "code",
   "execution_count": 10,
   "metadata": {},
   "outputs": [],
   "source": [
    "df_adan1.to_csv(folderpath+\"Telbuch_Stadt_Adressen_extrahiert_mit_richtigen_Umlauten\")"
   ]
  },
  {
   "cell_type": "code",
   "execution_count": null,
   "metadata": {},
   "outputs": [],
   "source": []
  }
 ],
 "metadata": {
  "kernelspec": {
   "display_name": "Python 3",
   "language": "python",
   "name": "python3"
  },
  "language_info": {
   "codemirror_mode": {
    "name": "ipython",
    "version": 3
   },
   "file_extension": ".py",
   "mimetype": "text/x-python",
   "name": "python",
   "nbconvert_exporter": "python",
   "pygments_lexer": "ipython3",
   "version": "3.7.3"
  }
 },
 "nbformat": 4,
 "nbformat_minor": 2
}
