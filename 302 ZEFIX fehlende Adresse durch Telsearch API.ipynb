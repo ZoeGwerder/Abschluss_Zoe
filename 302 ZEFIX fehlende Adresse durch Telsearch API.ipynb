{
 "cells": [
  {
   "cell_type": "markdown",
   "metadata": {},
   "source": [
    "# Fehlende Adressen durch Telefonbuch lassen mit API"
   ]
  },
  {
   "cell_type": "code",
   "execution_count": 1,
   "metadata": {},
   "outputs": [
    {
     "name": "stderr",
     "output_type": "stream",
     "text": [
      "C:\\Users\\Zoe\\Anaconda3\\lib\\site-packages\\ipykernel_launcher.py:19: FutureWarning: The Panel class is removed from pandas. Accessing it from the top-level namespace will also be removed in the next version\n"
     ]
    }
   ],
   "source": [
    "from bs4 import BeautifulSoup\n",
    "import pandas as pd\n",
    "import os\n",
    "import csv\n",
    "import re\n",
    "import bs4 as bs\n",
    "import requests\n",
    "import bs4 as bs\n",
    "import requests\n",
    "import time\n",
    "import pandas as pd\n",
    "from bs4 import BeautifulSoup\n",
    "from tqdm import tqdm\n",
    "import os\n",
    "import re\n",
    "from geopy.geocoders import Nominatim #zum Geodaten hinzufügen\n",
    "from geopy.exc import GeocoderTimedOut #zum excepteion umgehen\n",
    "from ratelimit import limits, sleep_and_retry #zum Geodaten hinzufügen\n",
    "from pandas import Panel\n",
    "folderpath=r\"C:\\Users\\Zoe\\Desktop\\maz-datenjournalismus\\Daten_BR_Handelsreg\"\n",
    "import json"
   ]
  },
  {
   "cell_type": "code",
   "execution_count": 32,
   "metadata": {},
   "outputs": [],
   "source": [
    "urlanf=\"https://tel.search.ch/api/?wo=\"\n",
    "adress=\"Zugerstrasse 76B, 6340 Baar\"\n",
    "urlschl=\"&key=YYYYYY\"\n"
   ]
  },
  {
   "cell_type": "code",
   "execution_count": 33,
   "metadata": {},
   "outputs": [],
   "source": [
    "response = requests.get(urlanf+adress+urlschl)"
   ]
  },
  {
   "cell_type": "code",
   "execution_count": 34,
   "metadata": {},
   "outputs": [],
   "source": [
    "text= response.text"
   ]
  },
  {
   "cell_type": "code",
   "execution_count": 35,
   "metadata": {},
   "outputs": [
    {
     "data": {
      "text/plain": [
       "'<?xml version=\"1.0\" encoding=\"utf-8\" ?>\\n<feed xml:lang=\"de\" xmlns=\"http://www.w3.org/2005/Atom\" xmlns:openSearch=\"http://a9.com/-/spec/opensearchrss/1.0/\" xmlns:tel=\"http://tel.search.ch/api/spec/result/1.0/\">\\n  <id>https://tel.search.ch/api/3ef7e218e8a6d4c8084ee2d4ee0bd9a4/65a6ed91a725144c790dfbd8a109103a</id>\\n  <title type=\"text\">tel.search.ch API Search Results</title>\\n  <generator version=\"1.0\" uri=\"https://tel.search.ch\">tel.search.ch</generator>\\n  <updated>2020-03-01T03:00:00Z</updated>\\n  <link href=\"https://tel.search.ch/result.html?wo=Zugerstrasse+76B,+6340+Baar\" rel=\"alternate\" type=\"text/html\" />\\n  <link href=\"http://tel.search.ch/api/?wo=Zugerstrasse+76B,+6340+Baar&amp;key=3ef7e218e8a6d4c8084ee2d4ee0bd9a4\" type=\"application/atom+xml\" rel=\"self\" />\\n  <link href=\"http://tel.search.ch/api/?wo=Zugerstrasse+76B,+6340+Baar&amp;pos=11&amp;key=3ef7e218e8a6d4c8084ee2d4ee0bd9a4\" rel=\"next\" type=\"application/atom+xml\" />\\n  <openSearch:totalResults>29</openSearch:totalResults>\\n  <openSearch:startIndex>1</openSearch:startIndex>\\n  <openSearch:itemsPerPage>10</openSearch:itemsPerPage>\\n  <openSearch:Query role=\"request\" searchTerms=\" Zugerstrasse 76B, 6340 Baar\" startPage=\"1\"></openSearch:Query>\\n  <openSearch:Image height=\"1\" width=\"1\" type=\"image/gif\">https://www.search.ch/audit/CP/tel/de/api</openSearch:Image>\\n  <entry>\\n    <id>urn:uuid:c55b0ad6b04aa503</id>\\n    <updated>2020-03-01T03:00:00Z</updated>\\n    <published>2020-03-01T03:00:00Z</published>\\n    <title type=\"text\">Überschlag Luzius</title>\\n    <content type=\"text\">Überschlag Luzius\\n    Dr. med. dent. eidg. dipl. Zahnarzt SSO\\n    Zugerstrasse 76B\\n    6340 Baar ZG\\n    *041 761 81 81</content>\\n    <tel:nopromo>*</tel:nopromo>\\n    <author>\\n      <name>tel.search.ch</name>\\n    </author>\\n    <link href=\"https://tel.search.ch/baar/zugerstrasse-76b/luzius-ueberschlag\" title=\"Details\" rel=\"alternate\" type=\"text/html\" />\\n    <link href=\"https://tel.search.ch/vcard/Ueberschlag.vcf?key=c55b0ad6b04aa503\" type=\"text/x-vcard\" title=\"VCard Download\" rel=\"alternate\" />\\n    <link href=\"https://tel.search.ch/edit/?id=c55b0ad6b04aa503\" rel=\"edit\" type=\"text/html\" />\\n    <tel:pos>1</tel:pos>\\n    <tel:id>c55b0ad6b04aa503</tel:id>\\n    <tel:type>Organisation</tel:type>\\n    <tel:name>Überschlag</tel:name>\\n    <tel:firstname>Luzius</tel:firstname>\\n    <tel:occupation>Dr. med. dent. eidg. dipl. Zahnarzt SSO</tel:occupation>\\n    <tel:street>Zugerstrasse</tel:street>\\n    <tel:streetno>76B</tel:streetno>\\n    <tel:zip>6340</tel:zip>\\n    <tel:city>Baar</tel:city>\\n    <tel:canton>ZG</tel:canton>\\n    <tel:country>ch</tel:country>\\n    <tel:category>Zahnarzt</tel:category>\\n    <tel:phone>+41417618181</tel:phone>\\n    <tel:copyright>Daten: Swisscom Directories AG</tel:copyright>\\n  </entry>\\n  <entry>\\n    <id>urn:uuid:9c50d758c28d531d</id>\\n    <updated>2020-03-01T03:00:00Z</updated>\\n    <published>2020-03-01T03:00:00Z</published>\\n    <title type=\"text\">Matthias Döll GmbH</title>\\n    <content type=\"text\">Matthias Döll GmbH\\n    Zugerstrasse 76B\\n    6340 Baar ZG\\n    *041 729 00 60</content>\\n    <tel:nopromo>*</tel:nopromo>\\n    <author>\\n      <name>tel.search.ch</name>\\n    </author>\\n    <link href=\"https://tel.search.ch/baar/zugerstrasse-76b/matthias-doell-gmbh\" title=\"Details\" rel=\"alternate\" type=\"text/html\" />\\n    <link href=\"https://tel.search.ch/vcard/Matthias-Doell-GmbH.vcf?key=9c50d758c28d531d\" type=\"text/x-vcard\" title=\"VCard Download\" rel=\"alternate\" />\\n    <link href=\"https://tel.search.ch/edit/?id=9c50d758c28d531d\" rel=\"edit\" type=\"text/html\" />\\n    <tel:pos>2</tel:pos>\\n    <tel:id>9c50d758c28d531d</tel:id>\\n    <tel:type>Organisation</tel:type>\\n    <tel:name>Matthias Döll GmbH</tel:name>\\n    <tel:street>Zugerstrasse</tel:street>\\n    <tel:streetno>76B</tel:streetno>\\n    <tel:zip>6340</tel:zip>\\n    <tel:city>Baar</tel:city>\\n    <tel:canton>ZG</tel:canton>\\n    <tel:country>ch</tel:country>\\n    <tel:category>Unternehmensberatung</tel:category>\\n    <tel:category>Personalberatung</tel:category>\\n    <tel:phone>+41417290060</tel:phone>\\n    <tel:extra type=\"email\">info@matthias-doell.ch*</tel:extra>\\n    <tel:copyright>Daten: Swisscom Directories AG</tel:copyright>\\n  </entry>\\n  <entry>\\n    <id>urn:uuid:08ed586b34972b6c</id>\\n    <updated>2020-03-01T03:00:00Z</updated>\\n    <published>2020-03-01T03:00:00Z</published>\\n    <title type=\"text\">PHYSIObaar</title>\\n    <content type=\"text\">PHYSIObaar\\n    Doris Müller &amp; Cornelia Huth\\n    Zugerstrasse 76b\\n    6340 Baar ZG\\n    *079 504 33 55</content>\\n    <tel:nopromo>*</tel:nopromo>\\n    <author>\\n      <name>tel.search.ch</name>\\n    </author>\\n    <link href=\"https://tel.search.ch/baar/zugerstrasse-76b/physiobaar-2\" title=\"Details\" rel=\"alternate\" type=\"text/html\" />\\n    <link href=\"https://tel.search.ch/vcard/PHYSIObaar.vcf?key=08ed586b34972b6c\" type=\"text/x-vcard\" title=\"VCard Download\" rel=\"alternate\" />\\n    <link href=\"https://tel.search.ch/edit/?id=08ed586b34972b6c\" rel=\"edit\" type=\"text/html\" />\\n    <tel:pos>3</tel:pos>\\n    <tel:id>08ed586b34972b6c</tel:id>\\n    <tel:type>Organisation</tel:type>\\n    <tel:name>PHYSIObaar</tel:name>\\n    <tel:subname>Doris Müller &amp; Cornelia Huth</tel:subname>\\n    <tel:street>Zugerstrasse</tel:street>\\n    <tel:streetno>76b</tel:streetno>\\n    <tel:zip>6340</tel:zip>\\n    <tel:city>Baar</tel:city>\\n    <tel:canton>ZG</tel:canton>\\n    <tel:country>ch</tel:country>\\n    <tel:category>Physiotherapie</tel:category>\\n    <tel:phone>+41795043355</tel:phone>\\n    <tel:extra type=\"Huth, Cornelia Mobile\">+41786422668</tel:extra>\\n    <tel:copyright>Daten: Swisscom Directories AG</tel:copyright>\\n  </entry>\\n  <entry>\\n    <id>urn:uuid:a8cc6ceda79242f7</id>\\n    <updated>2020-03-01T03:00:00Z</updated>\\n    <published>2020-03-01T03:00:00Z</published>\\n    <title type=\"text\">Barilla Switzerland AG</title>\\n    <content type=\"text\">Barilla Switzerland AG\\n    Zugerstrasse 76b\\n    6340 Baar ZG\\n    *041 767 00 80</content>\\n    <tel:nopromo>*</tel:nopromo>\\n    <author>\\n      <name>tel.search.ch</name>\\n    </author>\\n    <link href=\"https://tel.search.ch/baar/zugerstrasse-76b/barilla-switzerland-ag-2\" title=\"Details\" rel=\"alternate\" type=\"text/html\" />\\n    <link href=\"https://tel.search.ch/vcard/Barilla-Switzerland-AG.vcf?key=a8cc6ceda79242f7\" type=\"text/x-vcard\" title=\"VCard Download\" rel=\"alternate\" />\\n    <link href=\"https://tel.search.ch/edit/?id=a8cc6ceda79242f7\" rel=\"edit\" type=\"text/html\" />\\n    <tel:pos>4</tel:pos>\\n    <tel:id>a8cc6ceda79242f7</tel:id>\\n    <tel:type>Organisation</tel:type>\\n    <tel:name>Barilla Switzerland AG</tel:name>\\n    <tel:street>Zugerstrasse</tel:street>\\n    <tel:streetno>76b</tel:streetno>\\n    <tel:zip>6340</tel:zip>\\n    <tel:city>Baar</tel:city>\\n    <tel:canton>ZG</tel:canton>\\n    <tel:country>ch</tel:country>\\n    <tel:category>Nahrungsmittel</tel:category>\\n    <tel:phone>+41417670080</tel:phone>\\n    <tel:extra type=\"Fax\">+41417670089</tel:extra>\\n    <tel:copyright>Daten: Swisscom Directories AG</tel:copyright>\\n  </entry>\\n  <entry>\\n    <id>urn:uuid:e6573caeafec012d</id>\\n    <updated>2020-03-01T03:00:00Z</updated>\\n    <published>2020-03-01T03:00:00Z</published>\\n    <title type=\"text\">Colocore GmbH</title>\\n    <content type=\"text\">Colocore GmbH\\n    Zugerstrasse 76b\\n    6340 Baar ZG\\n    *041 767 28 48</content>\\n    <tel:nopromo>*</tel:nopromo>\\n    <author>\\n      <name>tel.search.ch</name>\\n    </author>\\n    <link href=\"https://tel.search.ch/baar/zugerstrasse-76b/colocore-gmbh\" title=\"Details\" rel=\"alternate\" type=\"text/html\" />\\n    <link href=\"https://tel.search.ch/vcard/Colocore-GmbH.vcf?key=e6573caeafec012d\" type=\"text/x-vcard\" title=\"VCard Download\" rel=\"alternate\" />\\n    <link href=\"https://tel.search.ch/edit/?id=e6573caeafec012d\" rel=\"edit\" type=\"text/html\" />\\n    <tel:pos>5</tel:pos>\\n    <tel:id>e6573caeafec012d</tel:id>\\n    <tel:type>Organisation</tel:type>\\n    <tel:name>Colocore GmbH</tel:name>\\n    <tel:street>Zugerstrasse</tel:street>\\n    <tel:streetno>76b</tel:streetno>\\n    <tel:zip>6340</tel:zip>\\n    <tel:city>Baar</tel:city>\\n    <tel:canton>ZG</tel:canton>\\n    <tel:country>ch</tel:country>\\n    <tel:phone>+41417672848</tel:phone>\\n    <tel:extra type=\"Fax\">+41417672849</tel:extra>\\n    <tel:extra type=\"email\">mail@colocore.ch</tel:extra>\\n    <tel:extra type=\"website\">http://www.colocore.ch</tel:extra>\\n  </entry>\\n  <entry>\\n    <id>urn:uuid:164979e6ec71b808</id>\\n    <updated>2020-03-01T03:00:00Z</updated>\\n    <published>2020-03-01T03:00:00Z</published>\\n    <title type=\"text\">FantasyLight Veranstaltungstechnik GmbH</title>\\n    <content type=\"text\">FantasyLight Veranstaltungstechnik GmbH\\n    Zugerstrasse 76b\\n    6340 Baar ZG\\n    *078 625 12 01</content>\\n    <tel:nopromo>*</tel:nopromo>\\n    <author>\\n      <name>tel.search.ch</name>\\n    </author>\\n    <link href=\"https://tel.search.ch/baar/zugerstrasse-76b/fantasylight-veranstaltungstechnik-gmbh\" title=\"Details\" rel=\"alternate\" type=\"text/html\" />\\n    <link href=\"https://tel.search.ch/vcard/FantasyLight-Veranstaltungstechnik-GmbH.vcf?key=164979e6ec71b808\" type=\"text/x-vcard\" title=\"VCard Download\" rel=\"alternate\" />\\n    <link href=\"https://tel.search.ch/edit/?id=164979e6ec71b808\" rel=\"edit\" type=\"text/html\" />\\n    <tel:pos>6</tel:pos>\\n    <tel:id>164979e6ec71b808</tel:id>\\n    <tel:type>Organisation</tel:type>\\n    <tel:name>FantasyLight Veranstaltungstechnik GmbH</tel:name>\\n    <tel:street>Zugerstrasse</tel:street>\\n    <tel:streetno>76b</tel:streetno>\\n    <tel:zip>6340</tel:zip>\\n    <tel:city>Baar</tel:city>\\n    <tel:canton>ZG</tel:canton>\\n    <tel:country>ch</tel:country>\\n    <tel:category>Veranstaltungstechnik</tel:category>\\n    <tel:category>Messebau</tel:category>\\n    <tel:category>Beschallungstechnik Beleuchtungstechnik</tel:category>\\n    <tel:category>Unterhaltung</tel:category>\\n    <tel:phone>+41786251201</tel:phone>\\n    <tel:extra type=\"Tel.\">+41412820101</tel:extra>\\n    <tel:extra type=\"Mobile\">+41793431917</tel:extra>\\n    <tel:extra type=\"email\">skaech@fantasylight.ch</tel:extra>\\n    <tel:copyright>Daten: Search.ch</tel:copyright>\\n  </entry>\\n  <entry>\\n    <id>urn:uuid:e30e4e4c16ef6c6d</id>\\n    <updated>2020-03-01T03:00:00Z</updated>\\n    <published>2020-03-01T03:00:00Z</published>\\n    <title type=\"text\">Fistrat Consulting AG</title>\\n    <content type=\"text\">Fistrat Consulting AG\\n    Zugerstrasse 76B\\n    6340 Baar ZG\\n    *041 766 53 93</content>\\n    <tel:nopromo>*</tel:nopromo>\\n    <author>\\n      <name>tel.search.ch</name>\\n    </author>\\n    <link href=\"https://tel.search.ch/baar/zugerstrasse-76b/fistrat-consulting-ag\" title=\"Details\" rel=\"alternate\" type=\"text/html\" />\\n    <link href=\"https://tel.search.ch/vcard/Fistrat-Consulting-AG.vcf?key=e30e4e4c16ef6c6d\" type=\"text/x-vcard\" title=\"VCard Download\" rel=\"alternate\" />\\n    <link href=\"https://tel.search.ch/edit/?id=e30e4e4c16ef6c6d\" rel=\"edit\" type=\"text/html\" />\\n    <tel:pos>7</tel:pos>\\n    <tel:id>e30e4e4c16ef6c6d</tel:id>\\n    <tel:type>Organisation</tel:type>\\n    <tel:name>Fistrat Consulting AG</tel:name>\\n    <tel:street>Zugerstrasse</tel:street>\\n    <tel:streetno>76B</tel:streetno>\\n    <tel:zip>6340</tel:zip>\\n    <tel:city>Baar</tel:city>\\n    <tel:canton>ZG</tel:canton>\\n    <tel:country>ch</tel:country>\\n    <tel:category>Unternehmensberatung</tel:category>\\n    <tel:phone>+41417665393</tel:phone>\\n    <tel:extra type=\"Fax\">+41417665392</tel:extra>\\n    <tel:extra type=\"email\">info@fistrat.ch*</tel:extra>\\n    <tel:copyright>Daten: Swisscom Directories AG</tel:copyright>\\n  </entry>\\n  <entry>\\n    <id>urn:uuid:aed3df07135859f4</id>\\n    <updated>2020-03-01T03:00:00Z</updated>\\n    <published>2020-03-01T03:00:00Z</published>\\n    <title type=\"text\">fundpartners AG</title>\\n    <content type=\"text\">fundpartners AG\\n    Zugerstrasse 76b\\n    6340 Baar ZG\\n    *041 511 26 08</content>\\n    <tel:nopromo>*</tel:nopromo>\\n    <author>\\n      <name>tel.search.ch</name>\\n    </author>\\n    <link href=\"https://tel.search.ch/baar/zugerstrasse-76b/fundpartners-ag\" title=\"Details\" rel=\"alternate\" type=\"text/html\" />\\n    <link href=\"https://tel.search.ch/vcard/fundpartners-AG.vcf?key=aed3df07135859f4\" type=\"text/x-vcard\" title=\"VCard Download\" rel=\"alternate\" />\\n    <link href=\"https://tel.search.ch/edit/?id=aed3df07135859f4\" rel=\"edit\" type=\"text/html\" />\\n    <tel:pos>8</tel:pos>\\n    <tel:id>aed3df07135859f4</tel:id>\\n    <tel:type>Organisation</tel:type>\\n    <tel:name>fundpartners AG</tel:name>\\n    <tel:street>Zugerstrasse</tel:street>\\n    <tel:streetno>76b</tel:streetno>\\n    <tel:zip>6340</tel:zip>\\n    <tel:city>Baar</tel:city>\\n    <tel:canton>ZG</tel:canton>\\n    <tel:country>ch</tel:country>\\n    <tel:category>Anlagefonds Investitionen</tel:category>\\n    <tel:category>Finanzdienstleistung</tel:category>\\n    <tel:phone>+41415112608</tel:phone>\\n    <tel:copyright>Daten: Swisscom Directories AG</tel:copyright>\\n  </entry>\\n  <entry>\\n    <id>urn:uuid:fd0a5a9da4d65b18</id>\\n    <updated>2020-03-01T03:00:00Z</updated>\\n    <published>2020-03-01T03:00:00Z</published>\\n    <title type=\"text\">Intracont GmbH</title>\\n    <content type=\"text\">Intracont GmbH\\n    Zugerstrasse 76B\\n    6340 Baar ZG\\n    *041 761 36 10</content>\\n    <tel:nopromo>*</tel:nopromo>\\n    <author>\\n      <name>tel.search.ch</name>\\n    </author>\\n    <link href=\"https://tel.search.ch/baar/zugerstrasse-76b/intracont-gmbh\" title=\"Details\" rel=\"alternate\" type=\"text/html\" />\\n    <link href=\"https://tel.search.ch/vcard/Intracont-GmbH.vcf?key=fd0a5a9da4d65b18\" type=\"text/x-vcard\" title=\"VCard Download\" rel=\"alternate\" />\\n    <link href=\"https://tel.search.ch/edit/?id=fd0a5a9da4d65b18\" rel=\"edit\" type=\"text/html\" />\\n    <tel:pos>9</tel:pos>\\n    <tel:id>fd0a5a9da4d65b18</tel:id>\\n    <tel:type>Organisation</tel:type>\\n    <tel:name>Intracont GmbH</tel:name>\\n    <tel:street>Zugerstrasse</tel:street>\\n    <tel:streetno>76B</tel:streetno>\\n    <tel:zip>6340</tel:zip>\\n    <tel:city>Baar</tel:city>\\n    <tel:canton>ZG</tel:canton>\\n    <tel:country>ch</tel:country>\\n    <tel:phone>+41417613610</tel:phone>\\n    <tel:extra type=\"Fax\">+41417613612</tel:extra>\\n    <tel:extra type=\"email\">info@intracont.ch</tel:extra>\\n    <tel:extra type=\"website\">http://www.intracont.ch</tel:extra>\\n  </entry>\\n  <entry>\\n    <id>urn:uuid:4b0aa384fba692ca</id>\\n    <updated>2020-03-01T03:00:00Z</updated>\\n    <published>2020-03-01T03:00:00Z</published>\\n    <title type=\"text\">I.P.S. Innovative Packaging Solutions AG</title>\\n    <content type=\"text\">I.P.S. Innovative Packaging Solutions AG\\n    Zugerstrasse 76b\\n    6340 Baar ZG\\n    *041 766 35 00</content>\\n    <tel:nopromo>*</tel:nopromo>\\n    <author>\\n      <name>tel.search.ch</name>\\n    </author>\\n    <link href=\"https://tel.search.ch/baar/zugerstrasse-76b/i-p-s-innovative-packaging-solutions-ag-2\" title=\"Details\" rel=\"alternate\" type=\"text/html\" />\\n    <link href=\"https://tel.search.ch/vcard/IPS-Innovative-Packaging-Solutions-AG.vcf?key=4b0aa384fba692ca\" type=\"text/x-vcard\" title=\"VCard Download\" rel=\"alternate\" />\\n    <link href=\"https://tel.search.ch/edit/?id=4b0aa384fba692ca\" rel=\"edit\" type=\"text/html\" />\\n    <tel:pos>10</tel:pos>\\n    <tel:id>4b0aa384fba692ca</tel:id>\\n    <tel:type>Organisation</tel:type>\\n    <tel:name>I.P.S. Innovative Packaging Solutions AG</tel:name>\\n    <tel:street>Zugerstrasse</tel:street>\\n    <tel:streetno>76b</tel:streetno>\\n    <tel:zip>6340</tel:zip>\\n    <tel:city>Baar</tel:city>\\n    <tel:canton>ZG</tel:canton>\\n    <tel:country>ch</tel:country>\\n    <tel:category>Holding</tel:category>\\n    <tel:phone>+41417663500</tel:phone>\\n    <tel:extra type=\"Fax\">+41417663509</tel:extra>\\n    <tel:copyright>Daten: Swisscom Directories AG</tel:copyright>\\n  </entry>\\n</feed>\\n'"
      ]
     },
     "execution_count": 35,
     "metadata": {},
     "output_type": "execute_result"
    }
   ],
   "source": [
    "text"
   ]
  },
  {
   "cell_type": "code",
   "execution_count": 26,
   "metadata": {},
   "outputs": [],
   "source": [
    "df_fehlende_adressen_sauber=pd.read_csv(folderpath+\"/BRFrames/Adressen_alle3713_mit_geocode_einzeln.csv\")"
   ]
  },
  {
   "cell_type": "code",
   "execution_count": 30,
   "metadata": {},
   "outputs": [
    {
     "name": "stderr",
     "output_type": "stream",
     "text": [
      "100%|██████████| 3713/3713 [12:20<00:00,  5.02it/s]\n"
     ]
    }
   ],
   "source": [
    "telfelist=[]\n",
    "for adress in tqdm(df_fehlende_adressen_sauber[\"Adresse\"]):\n",
    "    response = requests.get(urlanf+adress+urlschl)\n",
    "    text= response.text\n",
    "   \n",
    "    \n",
    "    minidict_tel={\"output tel\":text, \"Adresse PLZ\":adress}\n",
    "    telfelist.append(minidict_tel)\n",
    "   \n",
    "    \n"
   ]
  },
  {
   "cell_type": "code",
   "execution_count": 31,
   "metadata": {},
   "outputs": [
    {
     "data": {
      "text/html": [
       "<div>\n",
       "<style scoped>\n",
       "    .dataframe tbody tr th:only-of-type {\n",
       "        vertical-align: middle;\n",
       "    }\n",
       "\n",
       "    .dataframe tbody tr th {\n",
       "        vertical-align: top;\n",
       "    }\n",
       "\n",
       "    .dataframe thead th {\n",
       "        text-align: right;\n",
       "    }\n",
       "</style>\n",
       "<table border=\"1\" class=\"dataframe\">\n",
       "  <thead>\n",
       "    <tr style=\"text-align: right;\">\n",
       "      <th></th>\n",
       "      <th>output tel</th>\n",
       "      <th>Adresse PLZ</th>\n",
       "    </tr>\n",
       "  </thead>\n",
       "  <tbody>\n",
       "    <tr>\n",
       "      <td>0</td>\n",
       "      <td>&lt;?xml version=\"1.0\" encoding=\"utf-8\" ?&gt;\\n&lt;feed...</td>\n",
       "      <td>Haldenstrasse 5, 6340 Baar</td>\n",
       "    </tr>\n",
       "    <tr>\n",
       "      <td>1</td>\n",
       "      <td>&lt;?xml version=\"1.0\" encoding=\"utf-8\" ?&gt;\\n&lt;feed...</td>\n",
       "      <td>Gewerbestrasse 5, 6330 Cham</td>\n",
       "    </tr>\n",
       "    <tr>\n",
       "      <td>2</td>\n",
       "      <td>&lt;?xml version=\"1.0\" encoding=\"utf-8\" ?&gt;\\n&lt;feed...</td>\n",
       "      <td>Neuhofstrasse 5A, 6340 Baar</td>\n",
       "    </tr>\n",
       "    <tr>\n",
       "      <td>3</td>\n",
       "      <td>&lt;?xml version=\"1.0\" encoding=\"utf-8\" ?&gt;\\n&lt;feed...</td>\n",
       "      <td>Zugerstrasse 76B, 6340 Baar</td>\n",
       "    </tr>\n",
       "    <tr>\n",
       "      <td>4</td>\n",
       "      <td>&lt;?xml version=\"1.0\" encoding=\"utf-8\" ?&gt;\\n&lt;feed...</td>\n",
       "      <td>Alte Steinhauserstrasse 1, 6330 Cham</td>\n",
       "    </tr>\n",
       "    <tr>\n",
       "      <td>...</td>\n",
       "      <td>...</td>\n",
       "      <td>...</td>\n",
       "    </tr>\n",
       "    <tr>\n",
       "      <td>3708</td>\n",
       "      <td>&lt;?xml version=\"1.0\" encoding=\"utf-8\" ?&gt;\\n&lt;feed...</td>\n",
       "      <td>Huobstrasse 81A, 6330 Cham</td>\n",
       "    </tr>\n",
       "    <tr>\n",
       "      <td>3709</td>\n",
       "      <td>&lt;?xml version=\"1.0\" encoding=\"utf-8\" ?&gt;\\n&lt;feed...</td>\n",
       "      <td>Huobstrasse 85A, 6333 Hünenberg See</td>\n",
       "    </tr>\n",
       "    <tr>\n",
       "      <td>3710</td>\n",
       "      <td>&lt;?xml version=\"1.0\" encoding=\"utf-8\" ?&gt;\\n&lt;feed...</td>\n",
       "      <td>Huobweid 2, 6333 Hünenberg See</td>\n",
       "    </tr>\n",
       "    <tr>\n",
       "      <td>3711</td>\n",
       "      <td>&lt;?xml version=\"1.0\" encoding=\"utf-8\" ?&gt;\\n&lt;feed...</td>\n",
       "      <td>Huobweid 3, 6333 Hünenberg See</td>\n",
       "    </tr>\n",
       "    <tr>\n",
       "      <td>3712</td>\n",
       "      <td>&lt;?xml version=\"1.0\" encoding=\"utf-8\" ?&gt;\\n&lt;feed...</td>\n",
       "      <td>Äussere güterstrasse 1, 6300 Zug</td>\n",
       "    </tr>\n",
       "  </tbody>\n",
       "</table>\n",
       "<p>3713 rows × 2 columns</p>\n",
       "</div>"
      ],
      "text/plain": [
       "                                             output tel  \\\n",
       "0     <?xml version=\"1.0\" encoding=\"utf-8\" ?>\\n<feed...   \n",
       "1     <?xml version=\"1.0\" encoding=\"utf-8\" ?>\\n<feed...   \n",
       "2     <?xml version=\"1.0\" encoding=\"utf-8\" ?>\\n<feed...   \n",
       "3     <?xml version=\"1.0\" encoding=\"utf-8\" ?>\\n<feed...   \n",
       "4     <?xml version=\"1.0\" encoding=\"utf-8\" ?>\\n<feed...   \n",
       "...                                                 ...   \n",
       "3708  <?xml version=\"1.0\" encoding=\"utf-8\" ?>\\n<feed...   \n",
       "3709  <?xml version=\"1.0\" encoding=\"utf-8\" ?>\\n<feed...   \n",
       "3710  <?xml version=\"1.0\" encoding=\"utf-8\" ?>\\n<feed...   \n",
       "3711  <?xml version=\"1.0\" encoding=\"utf-8\" ?>\\n<feed...   \n",
       "3712  <?xml version=\"1.0\" encoding=\"utf-8\" ?>\\n<feed...   \n",
       "\n",
       "                               Adresse PLZ  \n",
       "0               Haldenstrasse 5, 6340 Baar  \n",
       "1              Gewerbestrasse 5, 6330 Cham  \n",
       "2              Neuhofstrasse 5A, 6340 Baar  \n",
       "3              Zugerstrasse 76B, 6340 Baar  \n",
       "4     Alte Steinhauserstrasse 1, 6330 Cham  \n",
       "...                                    ...  \n",
       "3708            Huobstrasse 81A, 6330 Cham  \n",
       "3709   Huobstrasse 85A, 6333 Hünenberg See  \n",
       "3710        Huobweid 2, 6333 Hünenberg See  \n",
       "3711        Huobweid 3, 6333 Hünenberg See  \n",
       "3712      Äussere güterstrasse 1, 6300 Zug  \n",
       "\n",
       "[3713 rows x 2 columns]"
      ]
     },
     "execution_count": 31,
     "metadata": {},
     "output_type": "execute_result"
    }
   ],
   "source": [
    "df_fehlendetel=pd.DataFrame(telfelist)\n",
    "df_fehlendetel.to_csv(folderpath+\"/BRFrames/Adressen_alle3713_mit_geocode_und_telbucheintraegen.csv\")\n",
    "df_fehlendetel"
   ]
  },
  {
   "cell_type": "code",
   "execution_count": 39,
   "metadata": {},
   "outputs": [],
   "source": [
    "# Nun die Anzahl extrahieren\n",
    "df_fehlendetel[\"Anzahl\"]=df_fehlendetel[\"output tel\"].str.extract(\"\\<openSearch\\:totalResults\\>(.*)\\<\\/openSearch\\:totalResults\")"
   ]
  },
  {
   "cell_type": "code",
   "execution_count": 41,
   "metadata": {},
   "outputs": [
    {
     "data": {
      "text/html": [
       "<div>\n",
       "<style scoped>\n",
       "    .dataframe tbody tr th:only-of-type {\n",
       "        vertical-align: middle;\n",
       "    }\n",
       "\n",
       "    .dataframe tbody tr th {\n",
       "        vertical-align: top;\n",
       "    }\n",
       "\n",
       "    .dataframe thead th {\n",
       "        text-align: right;\n",
       "    }\n",
       "</style>\n",
       "<table border=\"1\" class=\"dataframe\">\n",
       "  <thead>\n",
       "    <tr style=\"text-align: right;\">\n",
       "      <th></th>\n",
       "      <th>output tel</th>\n",
       "      <th>Adresse PLZ</th>\n",
       "      <th>Anzahl</th>\n",
       "    </tr>\n",
       "  </thead>\n",
       "  <tbody>\n",
       "    <tr>\n",
       "      <td>0</td>\n",
       "      <td>&lt;?xml version=\"1.0\" encoding=\"utf-8\" ?&gt;\\n&lt;feed...</td>\n",
       "      <td>Haldenstrasse 5, 6340 Baar</td>\n",
       "      <td>44</td>\n",
       "    </tr>\n",
       "    <tr>\n",
       "      <td>1</td>\n",
       "      <td>&lt;?xml version=\"1.0\" encoding=\"utf-8\" ?&gt;\\n&lt;feed...</td>\n",
       "      <td>Gewerbestrasse 5, 6330 Cham</td>\n",
       "      <td>51</td>\n",
       "    </tr>\n",
       "    <tr>\n",
       "      <td>2</td>\n",
       "      <td>&lt;?xml version=\"1.0\" encoding=\"utf-8\" ?&gt;\\n&lt;feed...</td>\n",
       "      <td>Neuhofstrasse 5A, 6340 Baar</td>\n",
       "      <td>34</td>\n",
       "    </tr>\n",
       "    <tr>\n",
       "      <td>3</td>\n",
       "      <td>&lt;?xml version=\"1.0\" encoding=\"utf-8\" ?&gt;\\n&lt;feed...</td>\n",
       "      <td>Zugerstrasse 76B, 6340 Baar</td>\n",
       "      <td>29</td>\n",
       "    </tr>\n",
       "    <tr>\n",
       "      <td>4</td>\n",
       "      <td>&lt;?xml version=\"1.0\" encoding=\"utf-8\" ?&gt;\\n&lt;feed...</td>\n",
       "      <td>Alte Steinhauserstrasse 1, 6330 Cham</td>\n",
       "      <td>82</td>\n",
       "    </tr>\n",
       "    <tr>\n",
       "      <td>...</td>\n",
       "      <td>...</td>\n",
       "      <td>...</td>\n",
       "      <td>...</td>\n",
       "    </tr>\n",
       "    <tr>\n",
       "      <td>3708</td>\n",
       "      <td>&lt;?xml version=\"1.0\" encoding=\"utf-8\" ?&gt;\\n&lt;feed...</td>\n",
       "      <td>Huobstrasse 81A, 6330 Cham</td>\n",
       "      <td>0</td>\n",
       "    </tr>\n",
       "    <tr>\n",
       "      <td>3709</td>\n",
       "      <td>&lt;?xml version=\"1.0\" encoding=\"utf-8\" ?&gt;\\n&lt;feed...</td>\n",
       "      <td>Huobstrasse 85A, 6333 Hünenberg See</td>\n",
       "      <td>1</td>\n",
       "    </tr>\n",
       "    <tr>\n",
       "      <td>3710</td>\n",
       "      <td>&lt;?xml version=\"1.0\" encoding=\"utf-8\" ?&gt;\\n&lt;feed...</td>\n",
       "      <td>Huobweid 2, 6333 Hünenberg See</td>\n",
       "      <td>1</td>\n",
       "    </tr>\n",
       "    <tr>\n",
       "      <td>3711</td>\n",
       "      <td>&lt;?xml version=\"1.0\" encoding=\"utf-8\" ?&gt;\\n&lt;feed...</td>\n",
       "      <td>Huobweid 3, 6333 Hünenberg See</td>\n",
       "      <td>7</td>\n",
       "    </tr>\n",
       "    <tr>\n",
       "      <td>3712</td>\n",
       "      <td>&lt;?xml version=\"1.0\" encoding=\"utf-8\" ?&gt;\\n&lt;feed...</td>\n",
       "      <td>Äussere güterstrasse 1, 6300 Zug</td>\n",
       "      <td>8</td>\n",
       "    </tr>\n",
       "  </tbody>\n",
       "</table>\n",
       "<p>3713 rows × 3 columns</p>\n",
       "</div>"
      ],
      "text/plain": [
       "                                             output tel  \\\n",
       "0     <?xml version=\"1.0\" encoding=\"utf-8\" ?>\\n<feed...   \n",
       "1     <?xml version=\"1.0\" encoding=\"utf-8\" ?>\\n<feed...   \n",
       "2     <?xml version=\"1.0\" encoding=\"utf-8\" ?>\\n<feed...   \n",
       "3     <?xml version=\"1.0\" encoding=\"utf-8\" ?>\\n<feed...   \n",
       "4     <?xml version=\"1.0\" encoding=\"utf-8\" ?>\\n<feed...   \n",
       "...                                                 ...   \n",
       "3708  <?xml version=\"1.0\" encoding=\"utf-8\" ?>\\n<feed...   \n",
       "3709  <?xml version=\"1.0\" encoding=\"utf-8\" ?>\\n<feed...   \n",
       "3710  <?xml version=\"1.0\" encoding=\"utf-8\" ?>\\n<feed...   \n",
       "3711  <?xml version=\"1.0\" encoding=\"utf-8\" ?>\\n<feed...   \n",
       "3712  <?xml version=\"1.0\" encoding=\"utf-8\" ?>\\n<feed...   \n",
       "\n",
       "                               Adresse PLZ Anzahl  \n",
       "0               Haldenstrasse 5, 6340 Baar     44  \n",
       "1              Gewerbestrasse 5, 6330 Cham     51  \n",
       "2              Neuhofstrasse 5A, 6340 Baar     34  \n",
       "3              Zugerstrasse 76B, 6340 Baar     29  \n",
       "4     Alte Steinhauserstrasse 1, 6330 Cham     82  \n",
       "...                                    ...    ...  \n",
       "3708            Huobstrasse 81A, 6330 Cham      0  \n",
       "3709   Huobstrasse 85A, 6333 Hünenberg See      1  \n",
       "3710        Huobweid 2, 6333 Hünenberg See      1  \n",
       "3711        Huobweid 3, 6333 Hünenberg See      7  \n",
       "3712      Äussere güterstrasse 1, 6300 Zug      8  \n",
       "\n",
       "[3713 rows x 3 columns]"
      ]
     },
     "execution_count": 41,
     "metadata": {},
     "output_type": "execute_result"
    }
   ],
   "source": [
    "df_fehlendetel # Hier nun die Anzahl Telefonbucheinträge"
   ]
  },
  {
   "cell_type": "code",
   "execution_count": 43,
   "metadata": {},
   "outputs": [],
   "source": [
    "df_fehlendetel.to_csv(folderpath+\"/BRFrames/Adressen_alle3713_mit_Anzahl_telbucheintraegen_extrahiert.csv\")"
   ]
  },
  {
   "cell_type": "code",
   "execution_count": null,
   "metadata": {},
   "outputs": [],
   "source": []
  }
 ],
 "metadata": {
  "kernelspec": {
   "display_name": "Python 3",
   "language": "python",
   "name": "python3"
  },
  "language_info": {
   "codemirror_mode": {
    "name": "ipython",
    "version": 3
   },
   "file_extension": ".py",
   "mimetype": "text/x-python",
   "name": "python",
   "nbconvert_exporter": "python",
   "pygments_lexer": "ipython3",
   "version": "3.7.3"
  }
 },
 "nbformat": 4,
 "nbformat_minor": 2
}
