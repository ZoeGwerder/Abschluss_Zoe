{
 "cells": [
  {
   "cell_type": "code",
   "execution_count": 1,
   "metadata": {},
   "outputs": [],
   "source": [
    "from selenium import webdriver\n",
    "from selenium.webdriver.firefox.firefox_profile import FirefoxProfile\n",
    "from selenium.webdriver.firefox.firefox_binary import FirefoxBinary\n",
    "import selenium\n",
    "from selenium import webdriver\n",
    "from selenium.webdriver.common.keys import Keys\n",
    "from selenium.webdriver.common.by import By\n",
    "from selenium.webdriver.support.ui import Select\n",
    "import time\n",
    "import pandas as pd\n",
    "from bs4 import BeautifulSoup\n",
    "from tqdm import tqdm\n",
    "import os\n",
    "import re\n",
    "from random import randint #für random time sleep\n",
    "from time import sleep #für random t\n",
    "from selenium.common.exceptions import StaleElementReferenceException\n",
    "from selenium.common.exceptions import NoSuchElementException\n",
    "from selenium.common import exceptions \n",
    "from selenium.common.exceptions import ElementNotInteractableException\n",
    "folderpath=r\"C:\\Users\\Zoe\\Desktop\\maz-datenjournalismus\\Daten_BR_Handelsreg\""
   ]
  },
  {
   "cell_type": "code",
   "execution_count": 2,
   "metadata": {},
   "outputs": [],
   "source": [
    "df11=pd.read_csv(folderpath+\"\\BRFrames/adresse_Zug\")"
   ]
  },
  {
   "cell_type": "code",
   "execution_count": 2,
   "metadata": {},
   "outputs": [],
   "source": [
    "dff=pd.read_csv(folderpath+\"/BRFrames/Gemeinden_fuer_Telbuch_scrapen_2934\")"
   ]
  },
  {
   "cell_type": "code",
   "execution_count": 12,
   "metadata": {},
   "outputs": [],
   "source": [
    "dffgem=dff.iloc[2320:,:]"
   ]
  },
  {
   "cell_type": "code",
   "execution_count": 14,
   "metadata": {},
   "outputs": [],
   "source": [
    "dffn=pd.read_csv(folderpath+\"/BRFrames/Gemeinden_fuer_Telbuch_scrapen_130\") #ab 7000"
   ]
  },
  {
   "cell_type": "code",
   "execution_count": 19,
   "metadata": {},
   "outputs": [],
   "source": [
    "dff24=pd.read_csv(folderpath+\"/BRFrames/Gemeinden_nachgescrapet_24_extrahiert_bereinigt\")"
   ]
  },
  {
   "cell_type": "code",
   "execution_count": 20,
   "metadata": {},
   "outputs": [
    {
     "data": {
      "text/html": [
       "<div>\n",
       "<style scoped>\n",
       "    .dataframe tbody tr th:only-of-type {\n",
       "        vertical-align: middle;\n",
       "    }\n",
       "\n",
       "    .dataframe tbody tr th {\n",
       "        vertical-align: top;\n",
       "    }\n",
       "\n",
       "    .dataframe thead th {\n",
       "        text-align: right;\n",
       "    }\n",
       "</style>\n",
       "<table border=\"1\" class=\"dataframe\">\n",
       "  <thead>\n",
       "    <tr style=\"text-align: right;\">\n",
       "      <th></th>\n",
       "      <th>Unnamed: 0</th>\n",
       "      <th>Seite</th>\n",
       "      <th>Anzahl</th>\n",
       "      <th>Adresse</th>\n",
       "    </tr>\n",
       "  </thead>\n",
       "  <tbody>\n",
       "    <tr>\n",
       "      <td>0</td>\n",
       "      <td>2</td>\n",
       "      <td>frontpage26_10.htm</td>\n",
       "      <td>0</td>\n",
       "      <td>Baarburgstrasse 40, Neuheim</td>\n",
       "    </tr>\n",
       "    <tr>\n",
       "      <td>1</td>\n",
       "      <td>5</td>\n",
       "      <td>frontpage26_13.htm</td>\n",
       "      <td>5</td>\n",
       "      <td>Fichtenstrasse 13, Oberägeri</td>\n",
       "    </tr>\n",
       "    <tr>\n",
       "      <td>2</td>\n",
       "      <td>6</td>\n",
       "      <td>frontpage26_14.htm</td>\n",
       "      <td>0</td>\n",
       "      <td>Lutisbachweg 22, Oberägeri</td>\n",
       "    </tr>\n",
       "    <tr>\n",
       "      <td>3</td>\n",
       "      <td>7</td>\n",
       "      <td>frontpage26_15.htm</td>\n",
       "      <td>0</td>\n",
       "      <td>Morgartenstrasse 45, Oberägeri</td>\n",
       "    </tr>\n",
       "    <tr>\n",
       "      <td>4</td>\n",
       "      <td>9</td>\n",
       "      <td>frontpage26_17.htm</td>\n",
       "      <td>0</td>\n",
       "      <td>Morgartenstrasse 30.2, Oberägeri</td>\n",
       "    </tr>\n",
       "    <tr>\n",
       "      <td>5</td>\n",
       "      <td>10</td>\n",
       "      <td>frontpage26_18.htm</td>\n",
       "      <td>0</td>\n",
       "      <td>Rämslistrasse 112.2, Oberägeri</td>\n",
       "    </tr>\n",
       "    <tr>\n",
       "      <td>6</td>\n",
       "      <td>12</td>\n",
       "      <td>frontpage26_2.htm</td>\n",
       "      <td>0</td>\n",
       "      <td>Lindenbergstrasse 2, Hünenberg</td>\n",
       "    </tr>\n",
       "    <tr>\n",
       "      <td>7</td>\n",
       "      <td>13</td>\n",
       "      <td>frontpage26_20.htm</td>\n",
       "      <td>0</td>\n",
       "      <td>Allmendstrasse 9, Steinhausen</td>\n",
       "    </tr>\n",
       "    <tr>\n",
       "      <td>8</td>\n",
       "      <td>14</td>\n",
       "      <td>frontpage26_21.htm</td>\n",
       "      <td>0</td>\n",
       "      <td>Eichholzweg 28b, Steinhausen</td>\n",
       "    </tr>\n",
       "    <tr>\n",
       "      <td>9</td>\n",
       "      <td>18</td>\n",
       "      <td>frontpage26_5.htm</td>\n",
       "      <td>0</td>\n",
       "      <td>Luzernerstrasse 106, Hünenberg See</td>\n",
       "    </tr>\n",
       "    <tr>\n",
       "      <td>10</td>\n",
       "      <td>19</td>\n",
       "      <td>frontpage26_6.htm</td>\n",
       "      <td>3</td>\n",
       "      <td>Luzernerstrasse 90, Hünenberg See</td>\n",
       "    </tr>\n",
       "    <tr>\n",
       "      <td>11</td>\n",
       "      <td>21</td>\n",
       "      <td>frontpage26_8.htm</td>\n",
       "      <td>0</td>\n",
       "      <td>Alte St. Wolfgangstrasse 5, Hünenberg</td>\n",
       "    </tr>\n",
       "  </tbody>\n",
       "</table>\n",
       "</div>"
      ],
      "text/plain": [
       "    Unnamed: 0               Seite  Anzahl  \\\n",
       "0            2  frontpage26_10.htm       0   \n",
       "1            5  frontpage26_13.htm       5   \n",
       "2            6  frontpage26_14.htm       0   \n",
       "3            7  frontpage26_15.htm       0   \n",
       "4            9  frontpage26_17.htm       0   \n",
       "5           10  frontpage26_18.htm       0   \n",
       "6           12   frontpage26_2.htm       0   \n",
       "7           13  frontpage26_20.htm       0   \n",
       "8           14  frontpage26_21.htm       0   \n",
       "9           18   frontpage26_5.htm       0   \n",
       "10          19   frontpage26_6.htm       3   \n",
       "11          21   frontpage26_8.htm       0   \n",
       "\n",
       "                                  Adresse  \n",
       "0             Baarburgstrasse 40, Neuheim  \n",
       "1            Fichtenstrasse 13, Oberägeri  \n",
       "2              Lutisbachweg 22, Oberägeri  \n",
       "3          Morgartenstrasse 45, Oberägeri  \n",
       "4        Morgartenstrasse 30.2, Oberägeri  \n",
       "5          Rämslistrasse 112.2, Oberägeri  \n",
       "6          Lindenbergstrasse 2, Hünenberg  \n",
       "7           Allmendstrasse 9, Steinhausen  \n",
       "8            Eichholzweg 28b, Steinhausen  \n",
       "9      Luzernerstrasse 106, Hünenberg See  \n",
       "10      Luzernerstrasse 90, Hünenberg See  \n",
       "11  Alte St. Wolfgangstrasse 5, Hünenberg  "
      ]
     },
     "execution_count": 20,
     "metadata": {},
     "output_type": "execute_result"
    }
   ],
   "source": [
    "dff24"
   ]
  },
  {
   "cell_type": "code",
   "execution_count": 2,
   "metadata": {},
   "outputs": [],
   "source": [
    "dfgem51=pd.read_csv(folderpath+\"/BRFrames/Alle_gemeinden_Telbuch_nachscrapen_51\")"
   ]
  },
  {
   "cell_type": "code",
   "execution_count": 3,
   "metadata": {},
   "outputs": [],
   "source": [
    "dfgemteil=dfgem51.iloc[45:,:]"
   ]
  },
  {
   "cell_type": "code",
   "execution_count": 7,
   "metadata": {},
   "outputs": [],
   "source": [
    "df111=df11.tail(20)"
   ]
  },
  {
   "cell_type": "code",
   "execution_count": 5,
   "metadata": {},
   "outputs": [
    {
     "name": "stderr",
     "output_type": "stream",
     "text": [
      "\n",
      "  0%|          | 0/6 [00:00<?, ?it/s]\n",
      " 17%|█▋        | 1/6 [00:14<01:12, 14.42s/it]\n",
      " 33%|███▎      | 2/6 [00:29<00:58, 14.69s/it]\n",
      " 50%|█████     | 3/6 [00:44<00:43, 14.58s/it]\n",
      " 67%|██████▋   | 4/6 [00:58<00:28, 14.48s/it]\n",
      " 83%|████████▎ | 5/6 [01:12<00:14, 14.40s/it]\n",
      "100%|██████████| 6/6 [01:26<00:00, 14.45s/it]\n"
     ]
    }
   ],
   "source": [
    "counter=10050\n",
    "\n",
    "driver = webdriver.Firefox(executable_path='C:\\geckodriver.exe') # jetzt via Tor mit unterschiedlichen IP's\n",
    "binary = FirefoxBinary(r\"C:\\Users\\Zoe\\Desktop\\Tor Browser\\Browser\\firefox.exe\") \n",
    "#Und nun sagen wir dem Browser, welche Seite er besuchen sollte. \n",
    "driver.get(\"https://tel.search.ch/\")\n",
    "for adresse in tqdm(dfgemteil[\"Adresse\"]):\n",
    "    try:\n",
    "        eingabe=driver.find_element_by_name(\"wo\")\n",
    "        eingabe.send_keys(adresse) #Adresse Eingeben\n",
    "        time.sleep(randint(4,5))\n",
    "        eingabe.send_keys(Keys.ENTER) #Enter drücken\n",
    "        time.sleep(randint(5,6))\n",
    "        telpage = driver.page_source.encode(\"utf-8\") #Page in Variable speichern\n",
    "\n",
    "        with open (folderpath+\"/Telbuch_Seiten_Gemeinden/telfront\"+str(counter)+\".htm\", \"wb+\") as file:\n",
    "            file.write(telpage)\n",
    "            file.close()\n",
    "\n",
    "        telpagename = \"telfront\"+str(counter)+\".htm\"        \n",
    "        counter=counter+1 \n",
    "\n",
    "        clear_wo=driver.find_element_by_name(\"wo\")\n",
    "        clear_wo.clear()\n",
    "        time.sleep(randint(4,5))\n",
    "    except StaleElementReferenceException:      \n",
    "        print(\"musste neu starten - Stale\")\n",
    "        driver.close() # Hier das Browserfenster wieder schliessen, um danach erneut zu öffnen\n",
    "        time.sleep(randint(10,300)) \n",
    "        driver = webdriver.Firefox(executable_path='C:\\geckodriver.exe') # jetzt via Tor mit unterschiedlichen IP's\n",
    "        binary = FirefoxBinary(r\"C:\\Users\\Zoe\\Desktop\\Tor Browser\\Browser\\firefox.exe\") \n",
    "        #Und nun sagen wir dem Browser, welche Seite er besuchen sollte. \n",
    "        driver.get(\"https://tel.search.ch/\")\n",
    "\n",
    "    except ElementNotInteractableException:\n",
    "        print(\"musste neu starten - Element not\")\n",
    "        driver.close() # Hier das Browserfenster wieder schliessen, um danach erneut zu öffnen\n",
    "        time.sleep(randint(10,300)) \n",
    "        driver = webdriver.Firefox(executable_path='C:\\geckodriver.exe') # jetzt via Tor mit unterschiedlichen IP's\n",
    "        binary = FirefoxBinary(r\"C:\\Users\\Zoe\\Desktop\\Tor Browser\\Browser\\firefox.exe\") \n",
    "        #Und nun sagen wir dem Browser, welche Seite er besuchen sollte. \n",
    "        driver.get(\"https://tel.search.ch/\")\n",
    "        \n",
    "    except NoSuchElementException:\n",
    "        print(\"musste neu starten - No such element\")\n",
    "        driver.close() # Hier das Browserfenster wieder schliessen, um danach erneut zu öffnen\n",
    "        time.sleep(randint(10,300)) \n",
    "        driver = webdriver.Firefox(executable_path='C:\\geckodriver.exe') # jetzt via Tor mit unterschiedlichen IP's\n",
    "        binary = FirefoxBinary(r\"C:\\Users\\Zoe\\Desktop\\Tor Browser\\Browser\\firefox.exe\") \n",
    "        #Und nun sagen wir dem Browser, welche Seite er besuchen sollte. \n",
    "        driver.get(\"https://tel.search.ch/\")\n",
    "        \n",
    "        \n",
    "        \n"
   ]
  },
  {
   "cell_type": "code",
   "execution_count": null,
   "metadata": {},
   "outputs": [],
   "source": []
  }
 ],
 "metadata": {
  "kernelspec": {
   "display_name": "Python 3",
   "language": "python",
   "name": "python3"
  },
  "language_info": {
   "codemirror_mode": {
    "name": "ipython",
    "version": 3
   },
   "file_extension": ".py",
   "mimetype": "text/x-python",
   "name": "python",
   "nbconvert_exporter": "python",
   "pygments_lexer": "ipython3",
   "version": "3.7.3"
  }
 },
 "nbformat": 4,
 "nbformat_minor": 4
}
